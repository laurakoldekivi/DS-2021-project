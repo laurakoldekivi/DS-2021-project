{
 "cells": [
  {
   "cell_type": "markdown",
   "id": "947b24a3",
   "metadata": {},
   "source": [
    "Housing Price Prediction"
   ]
  },
  {
   "cell_type": "code",
   "execution_count": 1,
   "id": "3747b686",
   "metadata": {},
   "outputs": [],
   "source": [
    "#imorting libraries\n",
    "import warnings\n",
    "import numpy as np\n",
    "import pandas as pd\n",
    "import matplotlib.pyplot as plt\n",
    "import seaborn as sns\n",
    "import seaborn as sns\n",
    "from dython.nominal import  compute_associations\n",
    "\n",
    "# Mute warnings\n",
    "warnings.filterwarnings('ignore')"
   ]
  },
  {
   "cell_type": "code",
   "execution_count": 2,
   "id": "b644eca6",
   "metadata": {},
   "outputs": [],
   "source": [
    "#importing datasets\n",
    "train_df = pd.read_csv(\"train.csv\")\n",
    "test_df = pd.read_csv(\"test.csv\")"
   ]
  },
  {
   "cell_type": "code",
   "execution_count": 3,
   "id": "3b30db31",
   "metadata": {},
   "outputs": [],
   "source": [
    "#train_df.info()"
   ]
  },
  {
   "cell_type": "code",
   "execution_count": 4,
   "id": "3798548f",
   "metadata": {},
   "outputs": [
    {
     "name": "stdout",
     "output_type": "stream",
     "text": [
      "Shape of train set: (1460, 81)\n",
      "Shape of test set: (1459, 80)\n"
     ]
    }
   ],
   "source": [
    "#checking shpae and size of dataset\n",
    "\n",
    "print(f\"Shape of train set: {train_df.shape}\")\n",
    "print(f\"Shape of test set: {test_df.shape}\")"
   ]
  },
  {
   "cell_type": "code",
   "execution_count": 5,
   "id": "8cdcdf01",
   "metadata": {},
   "outputs": [
    {
     "data": {
      "image/png": "[encoded data removed]",
      "text/plain": [
       "<Figure size 1080x288 with 1 Axes>"
      ]
     },
     "metadata": {
      "needs_background": "light"
     },
     "output_type": "display_data"
    }
   ],
   "source": [
    "#plotting houses and sale price\n",
    "\n",
    "train_df.SalePrice.hist(bins=75,rwidth = 0.6,figsize=(15,4),grid=True)\n",
    "plt.title('House Prices')\n",
    "plt.show()"
   ]
  },
  {
   "cell_type": "code",
   "execution_count": 6,
   "id": "aee265a7",
   "metadata": {
    "scrolled": true
   },
   "outputs": [
    {
     "data": {
      "image/png": "[encoded data removed]",
      "text/plain": [
       "<Figure size 1080x288 with 1 Axes>"
      ]
     },
     "metadata": {
      "needs_background": "light"
     },
     "output_type": "display_data"
    }
   ],
   "source": [
    "#plotting year built and units \n",
    "\n",
    "train_df.YearBuilt.hist(bins=75,rwidth=0.6,figsize=(15,4))\n",
    "plt.title('When were the Houses built?')\n",
    "plt.show()"
   ]
  },
  {
   "cell_type": "markdown",
   "id": "749612d6",
   "metadata": {},
   "source": [
    "# it is important to normalize data for linear models\n",
    "\n",
    "categorical_features=['MSSubClass','MSZoning','Street','Alley','LotShape','LandContour','Utilities',\n",
    "                      'LotConfig','LandSlope','Neighborhood','Condition1','Condition2','BldgType','HouseStyle',\n",
    "                      'RoofStyle','RoofMatl','Exterior1st','Exterior2nd','MasVnrType','ExterQual','ExterCond',\n",
    "                      'Foundation','BsmtQual','BsmtCond','BsmtExposure','BsmtFinType1','BsmtFinType2','Heating',\n",
    "                      'HeatingQC','CentralAir','Electrical','KitchenQual','Functional','FireplaceQu',\n",
    "                     'GarageType','GarageFinish','GarageQual','GarageCond','PavedDrive','PoolQC','Fence',\n",
    "                     'MiscFeature','SaleType','SaleCondition']\n",
    "every_column_except_y= [col for col in train_df.columns if col not in ['SalePrice','Id']]\n",
    "every_column_non_categorical= [col for col in train_df.columns if col not in categorical_features and col not in ['Id'] ]\n",
    "\n",
    "numeric_feats = train_df[every_column_non_categorical].dtypes[train_df.dtypes != \"object\"].index\n",
    "train_df[numeric_feats] = np.log1p(train_df[numeric_feats])\n",
    "\n",
    "every_column_non_categorical= [col for col in test_df.columns if col not in categorical_features and col not in ['Id'] ]\n",
    "numeric_feats = test_df[every_column_non_categorical].dtypes[test_df.dtypes != \"object\"].index\n",
    "test_df[numeric_feats] = np.log1p(test_df[numeric_feats])"
   ]
  },
  {
   "cell_type": "code",
   "execution_count": 7,
   "id": "c3ae1a88",
   "metadata": {},
   "outputs": [],
   "source": [
    "pd.set_option('display.max_rows', 200)"
   ]
  },
  {
   "cell_type": "code",
   "execution_count": 8,
   "id": "31c0e472",
   "metadata": {},
   "outputs": [],
   "source": [
    "#seprating numerical and categorical columns\n",
    "\n",
    "numeric_cols = [cname for cname in train_df.columns if train_df[cname].dtype in ['int64', 'float64']]\n",
    "categorical_cols = [cname for cname in train_df.columns if train_df[cname].dtype == 'object' ]"
   ]
  },
  {
   "cell_type": "code",
   "execution_count": 9,
   "id": "cbfe14e8",
   "metadata": {},
   "outputs": [
    {
     "name": "stdout",
     "output_type": "stream",
     "text": [
      "               SalePrice\n",
      "KitchenAbvGr   -0.135907\n",
      "EnclosedPorch  -0.128578\n",
      "MSSubClass     -0.084284\n",
      "OverallCond    -0.077856\n",
      "YrSold         -0.028923\n",
      "LowQualFinSF   -0.025606\n",
      "Id             -0.021917\n",
      "MiscVal        -0.021190\n",
      "BsmtHalfBath   -0.016844\n",
      "BsmtFinSF2     -0.011378\n",
      "3SsnPorch       0.044584\n",
      "MoSold          0.046432\n",
      "PoolArea        0.092404\n",
      "ScreenPorch     0.111447\n",
      "BedroomAbvGr    0.168213\n",
      "LotFrontage     0.209624\n",
      "BsmtUnfSF       0.214479\n",
      "BsmtFullBath    0.227122\n",
      "GarageYrBlt     0.261366\n",
      "LotArea         0.263843\n",
      "HalfBath        0.284108\n",
      "OpenPorchSF     0.315856\n",
      "2ndFlrSF        0.319334\n",
      "WoodDeckSF      0.324413\n",
      "BsmtFinSF1      0.386420\n",
      "Fireplaces      0.466929\n",
      "MasVnrArea      0.472614\n",
      "YearRemodAdd    0.507101\n",
      "YearBuilt       0.522897\n",
      "TotRmsAbvGrd    0.533723\n",
      "FullBath        0.560664\n",
      "1stFlrSF        0.605852\n",
      "TotalBsmtSF     0.613581\n",
      "GarageArea      0.623431\n",
      "GarageCars      0.640409\n",
      "GrLivArea       0.708624\n",
      "OverallQual     0.790982\n",
      "SalePrice       1.000000\n"
     ]
    },
    {
     "data": {
      "text/plain": [
       "Text(0.5, 1.0, ' Corelations between SalePrice and numerical features.')"
      ]
     },
     "execution_count": 9,
     "metadata": {},
     "output_type": "execute_result"
    },
    {
     "data": {
      "image/png": "[encoded data removed]",
      "text/plain": [
       "<Figure size 1080x144 with 2 Axes>"
      ]
     },
     "metadata": {
      "needs_background": "light"
     },
     "output_type": "display_data"
    }
   ],
   "source": [
    "#plotting correrlation b/w numerical attributes and sale price\n",
    "\n",
    "plt.subplots(figsize=(15,2))\n",
    "numerical_corr_table = compute_associations(train_df[numeric_cols])\n",
    "print(numerical_corr_table[['SalePrice']].sort_values(by=['SalePrice']))\n",
    "sns.heatmap(numerical_corr_table[['SalePrice']].sort_values(by=['SalePrice']).T)\n",
    "plt.title(f\" Corelations between {'SalePrice'} and numerical features.\")\n",
    "\n",
    "#numerical_corr_table"
   ]
  },
  {
   "cell_type": "code",
   "execution_count": 10,
   "id": "c2af9096",
   "metadata": {},
   "outputs": [],
   "source": [
    "categorical_cols.append('SalePrice')"
   ]
  },
  {
   "cell_type": "code",
   "execution_count": 11,
   "id": "90b6108a",
   "metadata": {},
   "outputs": [
    {
     "name": "stdout",
     "output_type": "stream",
     "text": [
      "               SalePrice\n",
      "Utilities       0.014314\n",
      "Street          0.041036\n",
      "LandSlope       0.051784\n",
      "MiscFeature     0.084141\n",
      "Condition2      0.099495\n",
      "Heating         0.120155\n",
      "Functional      0.128376\n",
      "Alley           0.142855\n",
      "LotConfig       0.144981\n",
      "PoolQC          0.145588\n",
      "ExterCond       0.153680\n",
      "LandContour     0.160605\n",
      "BsmtFinType2    0.174052\n",
      "RoofMatl        0.177237\n",
      "Condition1      0.180640\n",
      "BldgType        0.185833\n",
      "Fence           0.188719\n",
      "BsmtCond        0.226706\n",
      "PavedDrive      0.233537\n",
      "RoofStyle       0.240201\n",
      "Electrical      0.244318\n",
      "CentralAir      0.251328\n",
      "LotShape        0.276362\n",
      "GarageCond      0.285213\n",
      "GarageQual      0.285344\n",
      "HouseStyle      0.293790\n",
      "MSZoning        0.327963\n",
      "SaleCondition   0.368100\n",
      "SaleType        0.370523\n",
      "BsmtExposure    0.386653\n",
      "Exterior1st     0.390862\n",
      "Exterior2nd     0.392211\n",
      "MasVnrType      0.434537\n",
      "HeatingQC       0.442154\n",
      "BsmtFinType1    0.459141\n",
      "GarageType      0.499204\n",
      "Foundation      0.506328\n",
      "FireplaceQu     0.542181\n",
      "GarageFinish    0.553059\n",
      "KitchenQual     0.675721\n",
      "BsmtQual        0.681905\n",
      "ExterQual       0.690933\n",
      "Neighborhood    0.738630\n",
      "SalePrice       1.000000\n"
     ]
    },
    {
     "data": {
      "text/plain": [
       "Text(0.5, 1.0, ' Corelations between SalePrice and categorical features.')"
      ]
     },
     "execution_count": 11,
     "metadata": {},
     "output_type": "execute_result"
    },
    {
     "data": {
      "image/png": "[encoded data removed]",
      "text/plain": [
       "<Figure size 1080x144 with 2 Axes>"
      ]
     },
     "metadata": {
      "needs_background": "light"
     },
     "output_type": "display_data"
    }
   ],
   "source": [
    "#plotting correrlation b/w categorical attributes and sale price\n",
    "\n",
    "plt.subplots(figsize=(15,2))\n",
    "categorical_corr_table = compute_associations(train_df[categorical_cols])\n",
    "print(categorical_corr_table[['SalePrice']].sort_values(by=['SalePrice']))\n",
    "sns.heatmap(categorical_corr_table[['SalePrice']].sort_values(by=['SalePrice']).T)\n",
    "plt.title(f\" Corelations between {'SalePrice'} and categorical features.\")"
   ]
  },
  {
   "cell_type": "code",
   "execution_count": 12,
   "id": "765d1734",
   "metadata": {},
   "outputs": [],
   "source": [
    "#creating seperate table for numerical and categorical columns\n",
    "\n",
    "num_correlated = numerical_corr_table[['SalePrice']][numerical_corr_table['SalePrice']>0.4].index.tolist()\n",
    "cat_correlated = categorical_corr_table[['SalePrice']][categorical_corr_table['SalePrice']>0.4].index.tolist()"
   ]
  },
  {
   "cell_type": "code",
   "execution_count": 13,
   "id": "35ccb959",
   "metadata": {
    "scrolled": true
   },
   "outputs": [
    {
     "data": {
      "text/plain": [
       "['OverallQual',\n",
       " 'YearBuilt',\n",
       " 'YearRemodAdd',\n",
       " 'MasVnrArea',\n",
       " 'TotalBsmtSF',\n",
       " '1stFlrSF',\n",
       " 'GrLivArea',\n",
       " 'FullBath',\n",
       " 'TotRmsAbvGrd',\n",
       " 'Fireplaces',\n",
       " 'GarageCars',\n",
       " 'GarageArea',\n",
       " 'SalePrice']"
      ]
     },
     "execution_count": 13,
     "metadata": {},
     "output_type": "execute_result"
    }
   ],
   "source": [
    "num_correlated"
   ]
  },
  {
   "cell_type": "code",
   "execution_count": 14,
   "id": "538127c6",
   "metadata": {},
   "outputs": [
    {
     "data": {
      "text/plain": [
       "['Neighborhood',\n",
       " 'MasVnrType',\n",
       " 'ExterQual',\n",
       " 'Foundation',\n",
       " 'BsmtQual',\n",
       " 'BsmtFinType1',\n",
       " 'HeatingQC',\n",
       " 'KitchenQual',\n",
       " 'FireplaceQu',\n",
       " 'GarageType',\n",
       " 'GarageFinish',\n",
       " 'SalePrice']"
      ]
     },
     "execution_count": 14,
     "metadata": {},
     "output_type": "execute_result"
    }
   ],
   "source": [
    "cat_correlated"
   ]
  },
  {
   "cell_type": "code",
   "execution_count": 15,
   "id": "02bdaaf4",
   "metadata": {
    "scrolled": true
   },
   "outputs": [
    {
     "data": {
      "text/html": [
       "<div>\n",
       "<style scoped>\n",
       "    .dataframe tbody tr th:only-of-type {\n",
       "        vertical-align: middle;\n",
       "    }\n",
       "\n",
       "    .dataframe tbody tr th {\n",
       "        vertical-align: top;\n",
       "    }\n",
       "\n",
       "    .dataframe thead th {\n",
       "        text-align: right;\n",
       "    }\n",
       "</style>\n",
       "<table border=\"1\" class=\"dataframe\">\n",
       "  <thead>\n",
       "    <tr style=\"text-align: right;\">\n",
       "      <th></th>\n",
       "      <th>OverallQual</th>\n",
       "      <th>YearBuilt</th>\n",
       "      <th>YearRemodAdd</th>\n",
       "      <th>MasVnrArea</th>\n",
       "      <th>TotalBsmtSF</th>\n",
       "      <th>1stFlrSF</th>\n",
       "      <th>GrLivArea</th>\n",
       "      <th>FullBath</th>\n",
       "      <th>TotRmsAbvGrd</th>\n",
       "      <th>Fireplaces</th>\n",
       "      <th>GarageCars</th>\n",
       "      <th>GarageArea</th>\n",
       "    </tr>\n",
       "  </thead>\n",
       "  <tbody>\n",
       "    <tr>\n",
       "      <th>0</th>\n",
       "      <td>7</td>\n",
       "      <td>2003</td>\n",
       "      <td>2003</td>\n",
       "      <td>196.0</td>\n",
       "      <td>856</td>\n",
       "      <td>856</td>\n",
       "      <td>1710</td>\n",
       "      <td>2</td>\n",
       "      <td>8</td>\n",
       "      <td>0</td>\n",
       "      <td>2</td>\n",
       "      <td>548</td>\n",
       "    </tr>\n",
       "    <tr>\n",
       "      <th>1</th>\n",
       "      <td>6</td>\n",
       "      <td>1976</td>\n",
       "      <td>1976</td>\n",
       "      <td>0.0</td>\n",
       "      <td>1262</td>\n",
       "      <td>1262</td>\n",
       "      <td>1262</td>\n",
       "      <td>2</td>\n",
       "      <td>6</td>\n",
       "      <td>1</td>\n",
       "      <td>2</td>\n",
       "      <td>460</td>\n",
       "    </tr>\n",
       "    <tr>\n",
       "      <th>2</th>\n",
       "      <td>7</td>\n",
       "      <td>2001</td>\n",
       "      <td>2002</td>\n",
       "      <td>162.0</td>\n",
       "      <td>920</td>\n",
       "      <td>920</td>\n",
       "      <td>1786</td>\n",
       "      <td>2</td>\n",
       "      <td>6</td>\n",
       "      <td>1</td>\n",
       "      <td>2</td>\n",
       "      <td>608</td>\n",
       "    </tr>\n",
       "    <tr>\n",
       "      <th>3</th>\n",
       "      <td>7</td>\n",
       "      <td>1915</td>\n",
       "      <td>1970</td>\n",
       "      <td>0.0</td>\n",
       "      <td>756</td>\n",
       "      <td>961</td>\n",
       "      <td>1717</td>\n",
       "      <td>1</td>\n",
       "      <td>7</td>\n",
       "      <td>1</td>\n",
       "      <td>3</td>\n",
       "      <td>642</td>\n",
       "    </tr>\n",
       "    <tr>\n",
       "      <th>4</th>\n",
       "      <td>8</td>\n",
       "      <td>2000</td>\n",
       "      <td>2000</td>\n",
       "      <td>350.0</td>\n",
       "      <td>1145</td>\n",
       "      <td>1145</td>\n",
       "      <td>2198</td>\n",
       "      <td>2</td>\n",
       "      <td>9</td>\n",
       "      <td>1</td>\n",
       "      <td>3</td>\n",
       "      <td>836</td>\n",
       "    </tr>\n",
       "    <tr>\n",
       "      <th>...</th>\n",
       "      <td>...</td>\n",
       "      <td>...</td>\n",
       "      <td>...</td>\n",
       "      <td>...</td>\n",
       "      <td>...</td>\n",
       "      <td>...</td>\n",
       "      <td>...</td>\n",
       "      <td>...</td>\n",
       "      <td>...</td>\n",
       "      <td>...</td>\n",
       "      <td>...</td>\n",
       "      <td>...</td>\n",
       "    </tr>\n",
       "    <tr>\n",
       "      <th>1455</th>\n",
       "      <td>6</td>\n",
       "      <td>1999</td>\n",
       "      <td>2000</td>\n",
       "      <td>0.0</td>\n",
       "      <td>953</td>\n",
       "      <td>953</td>\n",
       "      <td>1647</td>\n",
       "      <td>2</td>\n",
       "      <td>7</td>\n",
       "      <td>1</td>\n",
       "      <td>2</td>\n",
       "      <td>460</td>\n",
       "    </tr>\n",
       "    <tr>\n",
       "      <th>1456</th>\n",
       "      <td>6</td>\n",
       "      <td>1978</td>\n",
       "      <td>1988</td>\n",
       "      <td>119.0</td>\n",
       "      <td>1542</td>\n",
       "      <td>2073</td>\n",
       "      <td>2073</td>\n",
       "      <td>2</td>\n",
       "      <td>7</td>\n",
       "      <td>2</td>\n",
       "      <td>2</td>\n",
       "      <td>500</td>\n",
       "    </tr>\n",
       "    <tr>\n",
       "      <th>1457</th>\n",
       "      <td>7</td>\n",
       "      <td>1941</td>\n",
       "      <td>2006</td>\n",
       "      <td>0.0</td>\n",
       "      <td>1152</td>\n",
       "      <td>1188</td>\n",
       "      <td>2340</td>\n",
       "      <td>2</td>\n",
       "      <td>9</td>\n",
       "      <td>2</td>\n",
       "      <td>1</td>\n",
       "      <td>252</td>\n",
       "    </tr>\n",
       "    <tr>\n",
       "      <th>1458</th>\n",
       "      <td>5</td>\n",
       "      <td>1950</td>\n",
       "      <td>1996</td>\n",
       "      <td>0.0</td>\n",
       "      <td>1078</td>\n",
       "      <td>1078</td>\n",
       "      <td>1078</td>\n",
       "      <td>1</td>\n",
       "      <td>5</td>\n",
       "      <td>0</td>\n",
       "      <td>1</td>\n",
       "      <td>240</td>\n",
       "    </tr>\n",
       "    <tr>\n",
       "      <th>1459</th>\n",
       "      <td>5</td>\n",
       "      <td>1965</td>\n",
       "      <td>1965</td>\n",
       "      <td>0.0</td>\n",
       "      <td>1256</td>\n",
       "      <td>1256</td>\n",
       "      <td>1256</td>\n",
       "      <td>1</td>\n",
       "      <td>6</td>\n",
       "      <td>0</td>\n",
       "      <td>1</td>\n",
       "      <td>276</td>\n",
       "    </tr>\n",
       "  </tbody>\n",
       "</table>\n",
       "<p>1460 rows × 12 columns</p>\n",
       "</div>"
      ],
      "text/plain": [
       "      OverallQual  YearBuilt  YearRemodAdd  MasVnrArea  TotalBsmtSF  1stFlrSF  \\\n",
       "0               7       2003          2003       196.0          856       856   \n",
       "1               6       1976          1976         0.0         1262      1262   \n",
       "2               7       2001          2002       162.0          920       920   \n",
       "3               7       1915          1970         0.0          756       961   \n",
       "4               8       2000          2000       350.0         1145      1145   \n",
       "...           ...        ...           ...         ...          ...       ...   \n",
       "1455            6       1999          2000         0.0          953       953   \n",
       "1456            6       1978          1988       119.0         1542      2073   \n",
       "1457            7       1941          2006         0.0         1152      1188   \n",
       "1458            5       1950          1996         0.0         1078      1078   \n",
       "1459            5       1965          1965         0.0         1256      1256   \n",
       "\n",
       "      GrLivArea  FullBath  TotRmsAbvGrd  Fireplaces  GarageCars  GarageArea  \n",
       "0          1710         2             8           0           2         548  \n",
       "1          1262         2             6           1           2         460  \n",
       "2          1786         2             6           1           2         608  \n",
       "3          1717         1             7           1           3         642  \n",
       "4          2198         2             9           1           3         836  \n",
       "...         ...       ...           ...         ...         ...         ...  \n",
       "1455       1647         2             7           1           2         460  \n",
       "1456       2073         2             7           2           2         500  \n",
       "1457       2340         2             9           2           1         252  \n",
       "1458       1078         1             5           0           1         240  \n",
       "1459       1256         1             6           0           1         276  \n",
       "\n",
       "[1460 rows x 12 columns]"
      ]
     },
     "execution_count": 15,
     "metadata": {},
     "output_type": "execute_result"
    }
   ],
   "source": [
    "#training dataset with numerical columns coorelated with sale price more than 40%\n",
    "\n",
    "x_train_num = train_df[num_correlated[:-1]]\n",
    "y_train = train_df[num_correlated[-1]]\n",
    "x_train_num"
   ]
  },
  {
   "cell_type": "code",
   "execution_count": 16,
   "id": "d683b914",
   "metadata": {},
   "outputs": [
    {
     "name": "stdout",
     "output_type": "stream",
     "text": [
      "LotFrontage has 259 null values\n",
      "Alley has 1369 null values\n",
      "MasVnrType has 8 null values\n",
      "MasVnrArea has 8 null values\n",
      "BsmtQual has 37 null values\n",
      "BsmtCond has 37 null values\n",
      "BsmtExposure has 38 null values\n",
      "BsmtFinType1 has 37 null values\n",
      "BsmtFinType2 has 38 null values\n",
      "Electrical has 1 null values\n",
      "FireplaceQu has 690 null values\n",
      "GarageType has 81 null values\n",
      "GarageYrBlt has 81 null values\n",
      "GarageFinish has 81 null values\n",
      "GarageQual has 81 null values\n",
      "GarageCond has 81 null values\n",
      "PoolQC has 1453 null values\n",
      "Fence has 1179 null values\n",
      "MiscFeature has 1406 null values\n"
     ]
    }
   ],
   "source": [
    "#identifying null values\n",
    "\n",
    "for column in train_df:\n",
    "    if train_df[column].isnull().any():\n",
    "       print('{0} has {1} null values'.format(column, train_df[column].isnull().sum()))"
   ]
  },
  {
   "cell_type": "code",
   "execution_count": 17,
   "id": "ec037256",
   "metadata": {},
   "outputs": [
    {
     "name": "stdout",
     "output_type": "stream",
     "text": [
      "MSZoning has 4 null values\n",
      "LotFrontage has 227 null values\n",
      "Alley has 1352 null values\n",
      "Utilities has 2 null values\n",
      "Exterior1st has 1 null values\n",
      "Exterior2nd has 1 null values\n",
      "MasVnrType has 16 null values\n",
      "MasVnrArea has 15 null values\n",
      "BsmtQual has 44 null values\n",
      "BsmtCond has 45 null values\n",
      "BsmtExposure has 44 null values\n",
      "BsmtFinType1 has 42 null values\n",
      "BsmtFinSF1 has 1 null values\n",
      "BsmtFinType2 has 42 null values\n",
      "BsmtFinSF2 has 1 null values\n",
      "BsmtUnfSF has 1 null values\n",
      "TotalBsmtSF has 1 null values\n",
      "BsmtFullBath has 2 null values\n",
      "BsmtHalfBath has 2 null values\n",
      "KitchenQual has 1 null values\n",
      "Functional has 2 null values\n",
      "FireplaceQu has 730 null values\n",
      "GarageType has 76 null values\n",
      "GarageYrBlt has 78 null values\n",
      "GarageFinish has 78 null values\n",
      "GarageCars has 1 null values\n",
      "GarageArea has 1 null values\n",
      "GarageQual has 78 null values\n",
      "GarageCond has 78 null values\n",
      "PoolQC has 1456 null values\n",
      "Fence has 1169 null values\n",
      "MiscFeature has 1408 null values\n",
      "SaleType has 1 null values\n"
     ]
    }
   ],
   "source": [
    "#identifying null values\n",
    "\n",
    "for column in test_df:\n",
    "    if test_df[column].isnull().any():\n",
    "       print('{0} has {1} null values'.format(column, test_df[column].isnull().sum()))"
   ]
  },
  {
   "cell_type": "code",
   "execution_count": 18,
   "id": "5bb34d27",
   "metadata": {},
   "outputs": [],
   "source": [
    "#Dropping Alley, PoolQC, Fence, MiscFeature as it has low correlation and high missing values\n",
    "\n",
    "train_df.drop('Alley',\n",
    "  axis='columns', inplace=True)\n",
    "\n",
    "train_df.drop('PoolQC',\n",
    "  axis='columns', inplace=True)\n",
    "\n",
    "train_df.drop('Fence',\n",
    "  axis='columns', inplace=True)\n",
    "\n",
    "train_df.drop('MiscFeature',\n",
    "  axis='columns', inplace=True)"
   ]
  },
  {
   "cell_type": "code",
   "execution_count": 19,
   "id": "1c1d1597",
   "metadata": {},
   "outputs": [],
   "source": [
    "#Dropping Alley, PoolQC, Fence, MiscFeature as it has low correlation and high missing values\n",
    "\n",
    "test_df.drop('Alley',\n",
    "  axis='columns', inplace=True)\n",
    "\n",
    "test_df.drop('PoolQC',\n",
    "  axis='columns', inplace=True)\n",
    "\n",
    "test_df.drop('Fence',\n",
    "  axis='columns', inplace=True)\n",
    "\n",
    "test_df.drop('MiscFeature',\n",
    "  axis='columns', inplace=True)"
   ]
  },
  {
   "cell_type": "code",
   "execution_count": 20,
   "id": "facbc7ce",
   "metadata": {},
   "outputs": [
    {
     "data": {
      "text/plain": [
       "WD       1258\n",
       "New       117\n",
       "COD        44\n",
       "ConLD      17\n",
       "CWD         8\n",
       "ConLI       4\n",
       "Oth         4\n",
       "Con         3\n",
       "ConLw       3\n",
       "Name: SaleType, dtype: int64"
      ]
     },
     "execution_count": 20,
     "metadata": {},
     "output_type": "execute_result"
    }
   ],
   "source": [
    "#value counts to replace null values\n",
    "\n",
    "test_df['MSZoning'].value_counts()\n",
    "test_df['Utilities'].value_counts()\n",
    "test_df['Exterior1st'].value_counts()\n",
    "test_df['Exterior2nd'].value_counts()\n",
    "test_df['BsmtFullBath'].value_counts()\n",
    "test_df['BsmtHalfBath'].value_counts()\n",
    "test_df['KitchenQual'].value_counts()\n",
    "test_df['Functional'].value_counts()\n",
    "test_df['GarageCars'].value_counts()\n",
    "test_df['SaleType'].value_counts()"
   ]
  },
  {
   "cell_type": "code",
   "execution_count": 21,
   "id": "c80ea194",
   "metadata": {},
   "outputs": [],
   "source": [
    "#Replacing Null values with appropriate alternative\n",
    "\n",
    "train_df['LotFrontage'].fillna((train_df['LotFrontage'].median()), inplace=True)\n",
    "train_df['MasVnrType'].fillna(\"None\", inplace=True)\n",
    "train_df['MasVnrArea'].fillna((train_df['MasVnrArea'].median()), inplace=True)\n",
    "\n",
    "train_df['BsmtQual'].fillna(\"NB\", inplace=True)\n",
    "train_df['BsmtCond'].fillna(\"NB\", inplace=True)\n",
    "train_df['BsmtExposure'].fillna(\"NB\", inplace=True)\n",
    "train_df['BsmtFinType1'].fillna(\"NB\", inplace=True)\n",
    "train_df['BsmtFinType2'].fillna(\"NB\", inplace=True)\n",
    "\n",
    "train_df['FireplaceQu'].fillna(\"NF\", inplace=True)\n",
    "\n",
    "train_df['GarageType'].fillna(\"NG\", inplace=True)\n",
    "train_df['GarageYrBlt'].fillna((train_df['MasVnrArea'].mean()), inplace=True) #to not make a big chamge in variance\n",
    "train_df['GarageFinish'].fillna(\"NG\", inplace=True)\n",
    "train_df['GarageQual'].fillna(\"NG\", inplace=True)\n",
    "train_df['GarageCond'].fillna(\"NG\", inplace=True)"
   ]
  },
  {
   "cell_type": "code",
   "execution_count": 22,
   "id": "5a62dee9",
   "metadata": {},
   "outputs": [],
   "source": [
    "#Replacing Null values with appropriate alternative\n",
    "\n",
    "test_df['LotFrontage'].fillna((test_df['LotFrontage'].median()), inplace=True)\n",
    "test_df['MasVnrType'].fillna(\"None\", inplace=True)\n",
    "test_df['MasVnrArea'].fillna((test_df['MasVnrArea'].median()), inplace=True)\n",
    "test_df['MSZoning'].fillna(\"RL\", inplace=True)\n",
    "test_df['Utilities'].fillna(\"AllPub\", inplace=True)\n",
    "\n",
    "test_df['BsmtQual'].fillna(\"NB\", inplace=True)\n",
    "test_df['BsmtCond'].fillna(\"NB\", inplace=True)\n",
    "test_df['BsmtExposure'].fillna(\"NB\", inplace=True)\n",
    "test_df['BsmtFinType1'].fillna(\"NB\", inplace=True)\n",
    "test_df['BsmtFinType2'].fillna(\"NB\", inplace=True)\n",
    "test_df['GarageYrBlt'].fillna((test_df['MasVnrArea'].mean()), inplace=True)\n",
    "\n",
    "test_df['BsmtFinSF1'].fillna((test_df['BsmtFinSF1'].mean()), inplace=True)\n",
    "test_df['BsmtFinSF2'].fillna((test_df['BsmtFinSF2'].mean()), inplace=True)\n",
    "test_df['BsmtUnfSF'].fillna((test_df['BsmtUnfSF'].mean()), inplace=True)\n",
    "test_df['TotalBsmtSF'].fillna((test_df['TotalBsmtSF'].mean()), inplace=True)\n",
    "\n",
    "test_df['BsmtFullBath'].fillna(0, inplace=True)\n",
    "test_df['BsmtHalfBath'].fillna(0, inplace=True)\n",
    "\n",
    "test_df['KitchenQual'].fillna(\"TA\", inplace=True)\n",
    "\n",
    "test_df['Functional'].fillna(\"Typ\", inplace=True)\n",
    "\n",
    "test_df['GarageCars'].fillna(2, inplace=True)\n",
    "test_df['GarageArea'].fillna((test_df['GarageArea'].mean()), inplace=True)\n",
    "\n",
    "test_df['SaleType'].fillna(\"WD\", inplace=True)\n",
    "\n",
    "test_df['Exterior1st'].fillna(\"VinylSd\", inplace=True)\n",
    "test_df['Exterior2nd'].fillna(\"VinylSd\", inplace=True)\n",
    "\n",
    "test_df['FireplaceQu'].fillna(\"NF\", inplace=True)\n",
    "\n",
    "test_df['GarageType'].fillna(\"NG\", inplace=True)\n",
    "test_df['GarageYrBlt'].fillna((test_df['GarageYrBlt'].mean()), inplace=True) #to not make a big chamge in variance\n",
    "test_df['GarageFinish'].fillna(\"NG\", inplace=True)\n",
    "test_df['GarageQual'].fillna(\"NG\", inplace=True)\n",
    "test_df['GarageCond'].fillna(\"NG\", inplace=True)"
   ]
  },
  {
   "cell_type": "code",
   "execution_count": 23,
   "id": "7368e213",
   "metadata": {},
   "outputs": [
    {
     "name": "stdout",
     "output_type": "stream",
     "text": [
      "Electrical has 1 null values\n"
     ]
    }
   ],
   "source": [
    "#recheck null values\n",
    "\n",
    "for column in train_df:\n",
    "    if train_df[column].isnull().any():\n",
    "       print('{0} has {1} null values'.format(column, train_df[column].isnull().sum()))"
   ]
  },
  {
   "cell_type": "code",
   "execution_count": 24,
   "id": "0bbec6d3",
   "metadata": {},
   "outputs": [],
   "source": [
    "#recheck null values\n",
    "\n",
    "for column in test_df:\n",
    "    if test_df[column].isnull().any():\n",
    "       print('{0} has {1} null values'.format(column, test_df[column].isnull().sum()))"
   ]
  },
  {
   "cell_type": "code",
   "execution_count": 25,
   "id": "1d8aa188",
   "metadata": {},
   "outputs": [],
   "source": [
    "#creating copy of train and test with only features that have higher than 0.4 correlation\n",
    "\n",
    "traincopy = train_df.copy()\n",
    "testcopy = test_df.copy()"
   ]
  },
  {
   "cell_type": "code",
   "execution_count": 26,
   "id": "472224dc",
   "metadata": {},
   "outputs": [],
   "source": [
    "#only leaving values that have higher than 0.4 correlation, dropping everything else\n",
    "\n",
    "traincopy.drop(['MSSubClass',\n",
    " 'LotFrontage',\n",
    " 'LotArea',\n",
    " 'OverallCond',\n",
    " 'BsmtFinSF1',\n",
    " 'BsmtFinSF2',\n",
    " 'BsmtUnfSF',\n",
    " '2ndFlrSF',\n",
    " 'LowQualFinSF',\n",
    " 'BsmtFullBath',\n",
    " 'BsmtHalfBath',\n",
    " 'HalfBath',\n",
    " 'BedroomAbvGr',\n",
    " 'KitchenAbvGr',\n",
    " 'GarageYrBlt',\n",
    " 'WoodDeckSF',\n",
    " 'OpenPorchSF',\n",
    " 'EnclosedPorch',\n",
    " '3SsnPorch',\n",
    " 'ScreenPorch',\n",
    " 'PoolArea',\n",
    " 'MiscVal',\n",
    " 'MoSold',\n",
    " 'YrSold',\n",
    "\"MSZoning\",\n",
    "\"Street\", \n",
    "\"LotShape\",\n",
    "\"LandContour\", \n",
    "\"Utilities\",\n",
    "\"LotConfig\",\n",
    "\"LandSlope\",\n",
    "\"Condition1\",\n",
    "\"Condition2\",\n",
    "\"BldgType\",\n",
    "\"HouseStyle\",\n",
    "\"RoofStyle\",\n",
    "\"RoofMatl\",\n",
    "\"Exterior1st\",\n",
    "\"Exterior2nd\",\n",
    "\"ExterCond\",\n",
    "\"BsmtCond\",\n",
    "\"BsmtExposure\",\n",
    "\"BsmtFinType2\",\n",
    "\"Heating\",\n",
    "\"CentralAir\",\n",
    "\"Electrical\",\n",
    "\"Functional\",\n",
    "\"GarageQual\",\n",
    "\"GarageCond\",\n",
    "\"PavedDrive\",\n",
    "\"SaleType\",\n",
    "\"SaleCondition\"], axis=1, inplace = True)\n",
    "\n",
    "testcopy.drop(['MSSubClass',\n",
    " 'LotFrontage',\n",
    " 'LotArea',\n",
    " 'OverallCond',\n",
    " 'BsmtFinSF1',\n",
    " 'BsmtFinSF2',\n",
    " 'BsmtUnfSF',\n",
    " '2ndFlrSF',\n",
    " 'LowQualFinSF',\n",
    " 'BsmtFullBath',\n",
    " 'BsmtHalfBath',\n",
    " 'HalfBath',\n",
    " 'BedroomAbvGr',\n",
    " 'KitchenAbvGr',\n",
    " 'GarageYrBlt',\n",
    " 'WoodDeckSF',\n",
    " 'OpenPorchSF',\n",
    " 'EnclosedPorch',\n",
    " '3SsnPorch',\n",
    " 'ScreenPorch',\n",
    " 'PoolArea',\n",
    " 'MiscVal',\n",
    " 'MoSold',\n",
    " 'YrSold',\n",
    "\"MSZoning\",\n",
    "\"Street\", \n",
    "\"LotShape\",\n",
    "\"LandContour\", \n",
    "\"Utilities\",\n",
    "\"LotConfig\",\n",
    "\"LandSlope\",\n",
    "\"Condition1\",\n",
    "\"Condition2\",\n",
    "\"BldgType\",\n",
    "\"HouseStyle\",\n",
    "\"RoofStyle\",\n",
    "\"RoofMatl\",\n",
    "\"Exterior1st\",\n",
    "\"Exterior2nd\",\n",
    "\"ExterCond\",\n",
    "\"BsmtCond\",\n",
    "\"BsmtExposure\",\n",
    "\"BsmtFinType2\",\n",
    "\"Heating\",\n",
    "\"CentralAir\",\n",
    "\"Electrical\",\n",
    "\"Functional\",\n",
    "\"GarageQual\",\n",
    "\"GarageCond\",\n",
    "\"PavedDrive\",\n",
    "\"SaleType\",\n",
    "\"SaleCondition\"], axis=1, inplace = True)"
   ]
  },
  {
   "cell_type": "code",
   "execution_count": 27,
   "id": "1baabf48",
   "metadata": {},
   "outputs": [
    {
     "data": {
      "text/plain": [
       "(1460, 25)"
      ]
     },
     "execution_count": 27,
     "metadata": {},
     "output_type": "execute_result"
    }
   ],
   "source": [
    "traincopy.shape"
   ]
  },
  {
   "cell_type": "code",
   "execution_count": 28,
   "id": "2aa0dccf",
   "metadata": {},
   "outputs": [
    {
     "data": {
      "text/html": [
       "<div>\n",
       "<style scoped>\n",
       "    .dataframe tbody tr th:only-of-type {\n",
       "        vertical-align: middle;\n",
       "    }\n",
       "\n",
       "    .dataframe tbody tr th {\n",
       "        vertical-align: top;\n",
       "    }\n",
       "\n",
       "    .dataframe thead th {\n",
       "        text-align: right;\n",
       "    }\n",
       "</style>\n",
       "<table border=\"1\" class=\"dataframe\">\n",
       "  <thead>\n",
       "    <tr style=\"text-align: right;\">\n",
       "      <th></th>\n",
       "      <th>Id</th>\n",
       "      <th>Neighborhood</th>\n",
       "      <th>OverallQual</th>\n",
       "      <th>YearBuilt</th>\n",
       "      <th>YearRemodAdd</th>\n",
       "      <th>MasVnrType</th>\n",
       "      <th>MasVnrArea</th>\n",
       "      <th>ExterQual</th>\n",
       "      <th>Foundation</th>\n",
       "      <th>BsmtQual</th>\n",
       "      <th>...</th>\n",
       "      <th>FullBath</th>\n",
       "      <th>KitchenQual</th>\n",
       "      <th>TotRmsAbvGrd</th>\n",
       "      <th>Fireplaces</th>\n",
       "      <th>FireplaceQu</th>\n",
       "      <th>GarageType</th>\n",
       "      <th>GarageFinish</th>\n",
       "      <th>GarageCars</th>\n",
       "      <th>GarageArea</th>\n",
       "      <th>SalePrice</th>\n",
       "    </tr>\n",
       "  </thead>\n",
       "  <tbody>\n",
       "    <tr>\n",
       "      <th>0</th>\n",
       "      <td>1</td>\n",
       "      <td>CollgCr</td>\n",
       "      <td>7</td>\n",
       "      <td>2003</td>\n",
       "      <td>2003</td>\n",
       "      <td>BrkFace</td>\n",
       "      <td>196.0</td>\n",
       "      <td>Gd</td>\n",
       "      <td>PConc</td>\n",
       "      <td>Gd</td>\n",
       "      <td>...</td>\n",
       "      <td>2</td>\n",
       "      <td>Gd</td>\n",
       "      <td>8</td>\n",
       "      <td>0</td>\n",
       "      <td>NF</td>\n",
       "      <td>Attchd</td>\n",
       "      <td>RFn</td>\n",
       "      <td>2</td>\n",
       "      <td>548</td>\n",
       "      <td>208500</td>\n",
       "    </tr>\n",
       "    <tr>\n",
       "      <th>1</th>\n",
       "      <td>2</td>\n",
       "      <td>Veenker</td>\n",
       "      <td>6</td>\n",
       "      <td>1976</td>\n",
       "      <td>1976</td>\n",
       "      <td>None</td>\n",
       "      <td>0.0</td>\n",
       "      <td>TA</td>\n",
       "      <td>CBlock</td>\n",
       "      <td>Gd</td>\n",
       "      <td>...</td>\n",
       "      <td>2</td>\n",
       "      <td>TA</td>\n",
       "      <td>6</td>\n",
       "      <td>1</td>\n",
       "      <td>TA</td>\n",
       "      <td>Attchd</td>\n",
       "      <td>RFn</td>\n",
       "      <td>2</td>\n",
       "      <td>460</td>\n",
       "      <td>181500</td>\n",
       "    </tr>\n",
       "    <tr>\n",
       "      <th>2</th>\n",
       "      <td>3</td>\n",
       "      <td>CollgCr</td>\n",
       "      <td>7</td>\n",
       "      <td>2001</td>\n",
       "      <td>2002</td>\n",
       "      <td>BrkFace</td>\n",
       "      <td>162.0</td>\n",
       "      <td>Gd</td>\n",
       "      <td>PConc</td>\n",
       "      <td>Gd</td>\n",
       "      <td>...</td>\n",
       "      <td>2</td>\n",
       "      <td>Gd</td>\n",
       "      <td>6</td>\n",
       "      <td>1</td>\n",
       "      <td>TA</td>\n",
       "      <td>Attchd</td>\n",
       "      <td>RFn</td>\n",
       "      <td>2</td>\n",
       "      <td>608</td>\n",
       "      <td>223500</td>\n",
       "    </tr>\n",
       "    <tr>\n",
       "      <th>3</th>\n",
       "      <td>4</td>\n",
       "      <td>Crawfor</td>\n",
       "      <td>7</td>\n",
       "      <td>1915</td>\n",
       "      <td>1970</td>\n",
       "      <td>None</td>\n",
       "      <td>0.0</td>\n",
       "      <td>TA</td>\n",
       "      <td>BrkTil</td>\n",
       "      <td>TA</td>\n",
       "      <td>...</td>\n",
       "      <td>1</td>\n",
       "      <td>Gd</td>\n",
       "      <td>7</td>\n",
       "      <td>1</td>\n",
       "      <td>Gd</td>\n",
       "      <td>Detchd</td>\n",
       "      <td>Unf</td>\n",
       "      <td>3</td>\n",
       "      <td>642</td>\n",
       "      <td>140000</td>\n",
       "    </tr>\n",
       "    <tr>\n",
       "      <th>4</th>\n",
       "      <td>5</td>\n",
       "      <td>NoRidge</td>\n",
       "      <td>8</td>\n",
       "      <td>2000</td>\n",
       "      <td>2000</td>\n",
       "      <td>BrkFace</td>\n",
       "      <td>350.0</td>\n",
       "      <td>Gd</td>\n",
       "      <td>PConc</td>\n",
       "      <td>Gd</td>\n",
       "      <td>...</td>\n",
       "      <td>2</td>\n",
       "      <td>Gd</td>\n",
       "      <td>9</td>\n",
       "      <td>1</td>\n",
       "      <td>TA</td>\n",
       "      <td>Attchd</td>\n",
       "      <td>RFn</td>\n",
       "      <td>3</td>\n",
       "      <td>836</td>\n",
       "      <td>250000</td>\n",
       "    </tr>\n",
       "  </tbody>\n",
       "</table>\n",
       "<p>5 rows × 25 columns</p>\n",
       "</div>"
      ],
      "text/plain": [
       "   Id Neighborhood  OverallQual  YearBuilt  YearRemodAdd MasVnrType  \\\n",
       "0   1      CollgCr            7       2003          2003    BrkFace   \n",
       "1   2      Veenker            6       1976          1976       None   \n",
       "2   3      CollgCr            7       2001          2002    BrkFace   \n",
       "3   4      Crawfor            7       1915          1970       None   \n",
       "4   5      NoRidge            8       2000          2000    BrkFace   \n",
       "\n",
       "   MasVnrArea ExterQual Foundation BsmtQual  ... FullBath  KitchenQual  \\\n",
       "0       196.0        Gd      PConc       Gd  ...        2           Gd   \n",
       "1         0.0        TA     CBlock       Gd  ...        2           TA   \n",
       "2       162.0        Gd      PConc       Gd  ...        2           Gd   \n",
       "3         0.0        TA     BrkTil       TA  ...        1           Gd   \n",
       "4       350.0        Gd      PConc       Gd  ...        2           Gd   \n",
       "\n",
       "  TotRmsAbvGrd  Fireplaces  FireplaceQu  GarageType GarageFinish  GarageCars  \\\n",
       "0            8           0           NF      Attchd          RFn           2   \n",
       "1            6           1           TA      Attchd          RFn           2   \n",
       "2            6           1           TA      Attchd          RFn           2   \n",
       "3            7           1           Gd      Detchd          Unf           3   \n",
       "4            9           1           TA      Attchd          RFn           3   \n",
       "\n",
       "   GarageArea SalePrice  \n",
       "0         548    208500  \n",
       "1         460    181500  \n",
       "2         608    223500  \n",
       "3         642    140000  \n",
       "4         836    250000  \n",
       "\n",
       "[5 rows x 25 columns]"
      ]
     },
     "execution_count": 28,
     "metadata": {},
     "output_type": "execute_result"
    }
   ],
   "source": [
    "traincopy.head()"
   ]
  },
  {
   "cell_type": "code",
   "execution_count": 29,
   "id": "80e7a1ee",
   "metadata": {},
   "outputs": [],
   "source": [
    "df1 = traincopy.copy()\n",
    "df1['source'] = 'train'\n",
    "df2 = testcopy.copy()\n",
    "df2['source'] = 'test'\n",
    "\n",
    "data = pd.concat([df1, df2])"
   ]
  },
  {
   "cell_type": "code",
   "execution_count": 30,
   "id": "0ebbf413",
   "metadata": {},
   "outputs": [
    {
     "data": {
      "text/plain": [
       "140000.0    20\n",
       "135000.0    17\n",
       "155000.0    14\n",
       "145000.0    14\n",
       "190000.0    13\n",
       "            ..\n",
       "316600.0     1\n",
       "223000.0     1\n",
       "145900.0     1\n",
       "254000.0     1\n",
       "198900.0     1\n",
       "Name: SalePrice, Length: 663, dtype: int64"
      ]
     },
     "execution_count": 30,
     "metadata": {},
     "output_type": "execute_result"
    }
   ],
   "source": [
    "data[\"SalePrice\"].value_counts()"
   ]
  },
  {
   "cell_type": "code",
   "execution_count": 31,
   "id": "aff981b1",
   "metadata": {},
   "outputs": [
    {
     "data": {
      "text/plain": [
       "['Neighborhood',\n",
       " 'MasVnrType',\n",
       " 'ExterQual',\n",
       " 'Foundation',\n",
       " 'BsmtQual',\n",
       " 'BsmtFinType1',\n",
       " 'HeatingQC',\n",
       " 'KitchenQual',\n",
       " 'FireplaceQu',\n",
       " 'GarageType',\n",
       " 'GarageFinish']"
      ]
     },
     "execution_count": 31,
     "metadata": {},
     "output_type": "execute_result"
    }
   ],
   "source": [
    "testcopy.select_dtypes(include=['object']).columns.tolist()"
   ]
  },
  {
   "cell_type": "code",
   "execution_count": 32,
   "id": "c5014164",
   "metadata": {},
   "outputs": [],
   "source": [
    "g = data.columns.to_series().groupby(data.dtypes).groups\n",
    "data_dum = pd.get_dummies(data, columns=['Neighborhood',\n",
    " 'MasVnrType',\n",
    " 'ExterQual',\n",
    " 'Foundation',\n",
    " 'BsmtQual',\n",
    " 'BsmtFinType1',\n",
    " 'HeatingQC',\n",
    " 'KitchenQual',\n",
    " 'FireplaceQu',\n",
    " 'GarageType',\n",
    " 'GarageFinish'])"
   ]
  },
  {
   "cell_type": "code",
   "execution_count": 33,
   "id": "3e6ea0f5",
   "metadata": {},
   "outputs": [],
   "source": [
    "train = data_dum[data_dum[\"source\"] == \"train\"]\n",
    "test = data_dum[data_dum[\"source\"] == \"test\"]"
   ]
  },
  {
   "cell_type": "code",
   "execution_count": 34,
   "id": "80e27dcb",
   "metadata": {},
   "outputs": [
    {
     "data": {
      "text/html": [
       "<div>\n",
       "<style scoped>\n",
       "    .dataframe tbody tr th:only-of-type {\n",
       "        vertical-align: middle;\n",
       "    }\n",
       "\n",
       "    .dataframe tbody tr th {\n",
       "        vertical-align: top;\n",
       "    }\n",
       "\n",
       "    .dataframe thead th {\n",
       "        text-align: right;\n",
       "    }\n",
       "</style>\n",
       "<table border=\"1\" class=\"dataframe\">\n",
       "  <thead>\n",
       "    <tr style=\"text-align: right;\">\n",
       "      <th></th>\n",
       "      <th>Id</th>\n",
       "      <th>OverallQual</th>\n",
       "      <th>YearBuilt</th>\n",
       "      <th>YearRemodAdd</th>\n",
       "      <th>MasVnrArea</th>\n",
       "      <th>TotalBsmtSF</th>\n",
       "      <th>1stFlrSF</th>\n",
       "      <th>GrLivArea</th>\n",
       "      <th>FullBath</th>\n",
       "      <th>TotRmsAbvGrd</th>\n",
       "      <th>...</th>\n",
       "      <th>GarageType_Attchd</th>\n",
       "      <th>GarageType_Basment</th>\n",
       "      <th>GarageType_BuiltIn</th>\n",
       "      <th>GarageType_CarPort</th>\n",
       "      <th>GarageType_Detchd</th>\n",
       "      <th>GarageType_NG</th>\n",
       "      <th>GarageFinish_Fin</th>\n",
       "      <th>GarageFinish_NG</th>\n",
       "      <th>GarageFinish_RFn</th>\n",
       "      <th>GarageFinish_Unf</th>\n",
       "    </tr>\n",
       "  </thead>\n",
       "  <tbody>\n",
       "    <tr>\n",
       "      <th>0</th>\n",
       "      <td>1</td>\n",
       "      <td>7</td>\n",
       "      <td>2003</td>\n",
       "      <td>2003</td>\n",
       "      <td>196.0</td>\n",
       "      <td>856.0</td>\n",
       "      <td>856</td>\n",
       "      <td>1710</td>\n",
       "      <td>2</td>\n",
       "      <td>8</td>\n",
       "      <td>...</td>\n",
       "      <td>1</td>\n",
       "      <td>0</td>\n",
       "      <td>0</td>\n",
       "      <td>0</td>\n",
       "      <td>0</td>\n",
       "      <td>0</td>\n",
       "      <td>0</td>\n",
       "      <td>0</td>\n",
       "      <td>1</td>\n",
       "      <td>0</td>\n",
       "    </tr>\n",
       "    <tr>\n",
       "      <th>1</th>\n",
       "      <td>2</td>\n",
       "      <td>6</td>\n",
       "      <td>1976</td>\n",
       "      <td>1976</td>\n",
       "      <td>0.0</td>\n",
       "      <td>1262.0</td>\n",
       "      <td>1262</td>\n",
       "      <td>1262</td>\n",
       "      <td>2</td>\n",
       "      <td>6</td>\n",
       "      <td>...</td>\n",
       "      <td>1</td>\n",
       "      <td>0</td>\n",
       "      <td>0</td>\n",
       "      <td>0</td>\n",
       "      <td>0</td>\n",
       "      <td>0</td>\n",
       "      <td>0</td>\n",
       "      <td>0</td>\n",
       "      <td>1</td>\n",
       "      <td>0</td>\n",
       "    </tr>\n",
       "    <tr>\n",
       "      <th>2</th>\n",
       "      <td>3</td>\n",
       "      <td>7</td>\n",
       "      <td>2001</td>\n",
       "      <td>2002</td>\n",
       "      <td>162.0</td>\n",
       "      <td>920.0</td>\n",
       "      <td>920</td>\n",
       "      <td>1786</td>\n",
       "      <td>2</td>\n",
       "      <td>6</td>\n",
       "      <td>...</td>\n",
       "      <td>1</td>\n",
       "      <td>0</td>\n",
       "      <td>0</td>\n",
       "      <td>0</td>\n",
       "      <td>0</td>\n",
       "      <td>0</td>\n",
       "      <td>0</td>\n",
       "      <td>0</td>\n",
       "      <td>1</td>\n",
       "      <td>0</td>\n",
       "    </tr>\n",
       "    <tr>\n",
       "      <th>3</th>\n",
       "      <td>4</td>\n",
       "      <td>7</td>\n",
       "      <td>1915</td>\n",
       "      <td>1970</td>\n",
       "      <td>0.0</td>\n",
       "      <td>756.0</td>\n",
       "      <td>961</td>\n",
       "      <td>1717</td>\n",
       "      <td>1</td>\n",
       "      <td>7</td>\n",
       "      <td>...</td>\n",
       "      <td>0</td>\n",
       "      <td>0</td>\n",
       "      <td>0</td>\n",
       "      <td>0</td>\n",
       "      <td>1</td>\n",
       "      <td>0</td>\n",
       "      <td>0</td>\n",
       "      <td>0</td>\n",
       "      <td>0</td>\n",
       "      <td>1</td>\n",
       "    </tr>\n",
       "    <tr>\n",
       "      <th>4</th>\n",
       "      <td>5</td>\n",
       "      <td>8</td>\n",
       "      <td>2000</td>\n",
       "      <td>2000</td>\n",
       "      <td>350.0</td>\n",
       "      <td>1145.0</td>\n",
       "      <td>1145</td>\n",
       "      <td>2198</td>\n",
       "      <td>2</td>\n",
       "      <td>9</td>\n",
       "      <td>...</td>\n",
       "      <td>1</td>\n",
       "      <td>0</td>\n",
       "      <td>0</td>\n",
       "      <td>0</td>\n",
       "      <td>0</td>\n",
       "      <td>0</td>\n",
       "      <td>0</td>\n",
       "      <td>0</td>\n",
       "      <td>1</td>\n",
       "      <td>0</td>\n",
       "    </tr>\n",
       "  </tbody>\n",
       "</table>\n",
       "<p>5 rows × 92 columns</p>\n",
       "</div>"
      ],
      "text/plain": [
       "   Id  OverallQual  YearBuilt  YearRemodAdd  MasVnrArea  TotalBsmtSF  \\\n",
       "0   1            7       2003          2003       196.0        856.0   \n",
       "1   2            6       1976          1976         0.0       1262.0   \n",
       "2   3            7       2001          2002       162.0        920.0   \n",
       "3   4            7       1915          1970         0.0        756.0   \n",
       "4   5            8       2000          2000       350.0       1145.0   \n",
       "\n",
       "   1stFlrSF  GrLivArea  FullBath  TotRmsAbvGrd  ...  GarageType_Attchd  \\\n",
       "0       856       1710         2             8  ...                  1   \n",
       "1      1262       1262         2             6  ...                  1   \n",
       "2       920       1786         2             6  ...                  1   \n",
       "3       961       1717         1             7  ...                  0   \n",
       "4      1145       2198         2             9  ...                  1   \n",
       "\n",
       "   GarageType_Basment  GarageType_BuiltIn  GarageType_CarPort  \\\n",
       "0                   0                   0                   0   \n",
       "1                   0                   0                   0   \n",
       "2                   0                   0                   0   \n",
       "3                   0                   0                   0   \n",
       "4                   0                   0                   0   \n",
       "\n",
       "  GarageType_Detchd  GarageType_NG  GarageFinish_Fin  GarageFinish_NG  \\\n",
       "0                 0              0                 0                0   \n",
       "1                 0              0                 0                0   \n",
       "2                 0              0                 0                0   \n",
       "3                 1              0                 0                0   \n",
       "4                 0              0                 0                0   \n",
       "\n",
       "   GarageFinish_RFn  GarageFinish_Unf  \n",
       "0                 1                 0  \n",
       "1                 1                 0  \n",
       "2                 1                 0  \n",
       "3                 0                 1  \n",
       "4                 1                 0  \n",
       "\n",
       "[5 rows x 92 columns]"
      ]
     },
     "execution_count": 34,
     "metadata": {},
     "output_type": "execute_result"
    }
   ],
   "source": [
    "train.head()"
   ]
  },
  {
   "cell_type": "code",
   "execution_count": 35,
   "id": "53c24a1b",
   "metadata": {
    "scrolled": true
   },
   "outputs": [
    {
     "data": {
      "text/html": [
       "<div>\n",
       "<style scoped>\n",
       "    .dataframe tbody tr th:only-of-type {\n",
       "        vertical-align: middle;\n",
       "    }\n",
       "\n",
       "    .dataframe tbody tr th {\n",
       "        vertical-align: top;\n",
       "    }\n",
       "\n",
       "    .dataframe thead th {\n",
       "        text-align: right;\n",
       "    }\n",
       "</style>\n",
       "<table border=\"1\" class=\"dataframe\">\n",
       "  <thead>\n",
       "    <tr style=\"text-align: right;\">\n",
       "      <th></th>\n",
       "      <th>Id</th>\n",
       "      <th>OverallQual</th>\n",
       "      <th>YearBuilt</th>\n",
       "      <th>YearRemodAdd</th>\n",
       "      <th>MasVnrArea</th>\n",
       "      <th>TotalBsmtSF</th>\n",
       "      <th>1stFlrSF</th>\n",
       "      <th>GrLivArea</th>\n",
       "      <th>FullBath</th>\n",
       "      <th>TotRmsAbvGrd</th>\n",
       "      <th>...</th>\n",
       "      <th>GarageType_Attchd</th>\n",
       "      <th>GarageType_Basment</th>\n",
       "      <th>GarageType_BuiltIn</th>\n",
       "      <th>GarageType_CarPort</th>\n",
       "      <th>GarageType_Detchd</th>\n",
       "      <th>GarageType_NG</th>\n",
       "      <th>GarageFinish_Fin</th>\n",
       "      <th>GarageFinish_NG</th>\n",
       "      <th>GarageFinish_RFn</th>\n",
       "      <th>GarageFinish_Unf</th>\n",
       "    </tr>\n",
       "  </thead>\n",
       "  <tbody>\n",
       "    <tr>\n",
       "      <th>0</th>\n",
       "      <td>1461</td>\n",
       "      <td>5</td>\n",
       "      <td>1961</td>\n",
       "      <td>1961</td>\n",
       "      <td>0.0</td>\n",
       "      <td>882.0</td>\n",
       "      <td>896</td>\n",
       "      <td>896</td>\n",
       "      <td>1</td>\n",
       "      <td>5</td>\n",
       "      <td>...</td>\n",
       "      <td>1</td>\n",
       "      <td>0</td>\n",
       "      <td>0</td>\n",
       "      <td>0</td>\n",
       "      <td>0</td>\n",
       "      <td>0</td>\n",
       "      <td>0</td>\n",
       "      <td>0</td>\n",
       "      <td>0</td>\n",
       "      <td>1</td>\n",
       "    </tr>\n",
       "    <tr>\n",
       "      <th>1</th>\n",
       "      <td>1462</td>\n",
       "      <td>6</td>\n",
       "      <td>1958</td>\n",
       "      <td>1958</td>\n",
       "      <td>108.0</td>\n",
       "      <td>1329.0</td>\n",
       "      <td>1329</td>\n",
       "      <td>1329</td>\n",
       "      <td>1</td>\n",
       "      <td>6</td>\n",
       "      <td>...</td>\n",
       "      <td>1</td>\n",
       "      <td>0</td>\n",
       "      <td>0</td>\n",
       "      <td>0</td>\n",
       "      <td>0</td>\n",
       "      <td>0</td>\n",
       "      <td>0</td>\n",
       "      <td>0</td>\n",
       "      <td>0</td>\n",
       "      <td>1</td>\n",
       "    </tr>\n",
       "    <tr>\n",
       "      <th>2</th>\n",
       "      <td>1463</td>\n",
       "      <td>5</td>\n",
       "      <td>1997</td>\n",
       "      <td>1998</td>\n",
       "      <td>0.0</td>\n",
       "      <td>928.0</td>\n",
       "      <td>928</td>\n",
       "      <td>1629</td>\n",
       "      <td>2</td>\n",
       "      <td>6</td>\n",
       "      <td>...</td>\n",
       "      <td>1</td>\n",
       "      <td>0</td>\n",
       "      <td>0</td>\n",
       "      <td>0</td>\n",
       "      <td>0</td>\n",
       "      <td>0</td>\n",
       "      <td>1</td>\n",
       "      <td>0</td>\n",
       "      <td>0</td>\n",
       "      <td>0</td>\n",
       "    </tr>\n",
       "    <tr>\n",
       "      <th>3</th>\n",
       "      <td>1464</td>\n",
       "      <td>6</td>\n",
       "      <td>1998</td>\n",
       "      <td>1998</td>\n",
       "      <td>20.0</td>\n",
       "      <td>926.0</td>\n",
       "      <td>926</td>\n",
       "      <td>1604</td>\n",
       "      <td>2</td>\n",
       "      <td>7</td>\n",
       "      <td>...</td>\n",
       "      <td>1</td>\n",
       "      <td>0</td>\n",
       "      <td>0</td>\n",
       "      <td>0</td>\n",
       "      <td>0</td>\n",
       "      <td>0</td>\n",
       "      <td>1</td>\n",
       "      <td>0</td>\n",
       "      <td>0</td>\n",
       "      <td>0</td>\n",
       "    </tr>\n",
       "    <tr>\n",
       "      <th>4</th>\n",
       "      <td>1465</td>\n",
       "      <td>8</td>\n",
       "      <td>1992</td>\n",
       "      <td>1992</td>\n",
       "      <td>0.0</td>\n",
       "      <td>1280.0</td>\n",
       "      <td>1280</td>\n",
       "      <td>1280</td>\n",
       "      <td>2</td>\n",
       "      <td>5</td>\n",
       "      <td>...</td>\n",
       "      <td>1</td>\n",
       "      <td>0</td>\n",
       "      <td>0</td>\n",
       "      <td>0</td>\n",
       "      <td>0</td>\n",
       "      <td>0</td>\n",
       "      <td>0</td>\n",
       "      <td>0</td>\n",
       "      <td>1</td>\n",
       "      <td>0</td>\n",
       "    </tr>\n",
       "  </tbody>\n",
       "</table>\n",
       "<p>5 rows × 92 columns</p>\n",
       "</div>"
      ],
      "text/plain": [
       "     Id  OverallQual  YearBuilt  YearRemodAdd  MasVnrArea  TotalBsmtSF  \\\n",
       "0  1461            5       1961          1961         0.0        882.0   \n",
       "1  1462            6       1958          1958       108.0       1329.0   \n",
       "2  1463            5       1997          1998         0.0        928.0   \n",
       "3  1464            6       1998          1998        20.0        926.0   \n",
       "4  1465            8       1992          1992         0.0       1280.0   \n",
       "\n",
       "   1stFlrSF  GrLivArea  FullBath  TotRmsAbvGrd  ...  GarageType_Attchd  \\\n",
       "0       896        896         1             5  ...                  1   \n",
       "1      1329       1329         1             6  ...                  1   \n",
       "2       928       1629         2             6  ...                  1   \n",
       "3       926       1604         2             7  ...                  1   \n",
       "4      1280       1280         2             5  ...                  1   \n",
       "\n",
       "   GarageType_Basment  GarageType_BuiltIn  GarageType_CarPort  \\\n",
       "0                   0                   0                   0   \n",
       "1                   0                   0                   0   \n",
       "2                   0                   0                   0   \n",
       "3                   0                   0                   0   \n",
       "4                   0                   0                   0   \n",
       "\n",
       "  GarageType_Detchd  GarageType_NG  GarageFinish_Fin  GarageFinish_NG  \\\n",
       "0                 0              0                 0                0   \n",
       "1                 0              0                 0                0   \n",
       "2                 0              0                 1                0   \n",
       "3                 0              0                 1                0   \n",
       "4                 0              0                 0                0   \n",
       "\n",
       "   GarageFinish_RFn  GarageFinish_Unf  \n",
       "0                 0                 1  \n",
       "1                 0                 1  \n",
       "2                 0                 0  \n",
       "3                 0                 0  \n",
       "4                 1                 0  \n",
       "\n",
       "[5 rows x 92 columns]"
      ]
     },
     "execution_count": 35,
     "metadata": {},
     "output_type": "execute_result"
    }
   ],
   "source": [
    "test.head()"
   ]
  },
  {
   "cell_type": "code",
   "execution_count": 36,
   "id": "947cd61a",
   "metadata": {},
   "outputs": [],
   "source": [
    "train.drop(columns=[\"source\"], axis=1, inplace=True)\n",
    "test.drop(columns=[\"source\"], axis=1, inplace=True)"
   ]
  },
  {
   "cell_type": "code",
   "execution_count": 37,
   "id": "3eb1345e",
   "metadata": {},
   "outputs": [],
   "source": [
    "test.drop(columns=[\"SalePrice\"], axis=1, inplace=True)"
   ]
  },
  {
   "cell_type": "code",
   "execution_count": 38,
   "id": "1e8b85ff",
   "metadata": {
    "scrolled": false
   },
   "outputs": [
    {
     "name": "stdout",
     "output_type": "stream",
     "text": [
      "Shape of train set: (1460, 91)\n",
      "Shape of test set: (1459, 90)\n"
     ]
    }
   ],
   "source": [
    "print(f\"Shape of train set: {train.shape}\")\n",
    "print(f\"Shape of test set: {test.shape}\")"
   ]
  },
  {
   "cell_type": "code",
   "execution_count": 39,
   "id": "ff4beb88",
   "metadata": {},
   "outputs": [],
   "source": [
    "df_quant = train_df[numeric_cols]\n",
    "#df_quant.hist(bins=50, figsize = (20,15))\n",
    "#plt.show()"
   ]
  },
  {
   "cell_type": "markdown",
   "id": "ea0cdca1",
   "metadata": {},
   "source": [
    "Getting started with linear regression. "
   ]
  },
  {
   "cell_type": "code",
   "execution_count": 40,
   "id": "1e161720",
   "metadata": {},
   "outputs": [],
   "source": [
    "labels = train[\"SalePrice\"]\n",
    "features = train.drop([\"SalePrice\"], axis=1)"
   ]
  },
  {
   "cell_type": "code",
   "execution_count": 41,
   "id": "ba254a5f",
   "metadata": {},
   "outputs": [],
   "source": [
    "from sklearn.model_selection import train_test_split\n",
    "from sklearn.linear_model import LinearRegression\n",
    "from sklearn.metrics import mean_squared_log_error\n",
    "from sklearn.metrics import mean_squared_error\n",
    "from sklearn.metrics import accuracy_score"
   ]
  },
  {
   "cell_type": "code",
   "execution_count": 42,
   "id": "362f2ff8",
   "metadata": {},
   "outputs": [],
   "source": [
    "#splitting into train and test. "
   ]
  },
  {
   "cell_type": "code",
   "execution_count": 43,
   "id": "197c983a",
   "metadata": {},
   "outputs": [],
   "source": [
    "X_train, X_test, y_train, y_test = train_test_split(features, labels, test_size=0.3, random_state=1)\n",
    "\n",
    "from sklearn.preprocessing import StandardScaler\n",
    "ss=StandardScaler()\n",
    "X_train=ss.fit_transform(X_train)\n",
    "X_test =ss.fit_transform(X_test)"
   ]
  },
  {
   "cell_type": "code",
   "execution_count": 44,
   "id": "aa818f9b",
   "metadata": {},
   "outputs": [],
   "source": [
    "model = LinearRegression().fit(X_train, y_train)"
   ]
  },
  {
   "cell_type": "code",
   "execution_count": 45,
   "id": "74f0d03b",
   "metadata": {},
   "outputs": [],
   "source": [
    "y_predict = model.predict(X_test)"
   ]
  },
  {
   "cell_type": "code",
   "execution_count": 46,
   "id": "e9c14e92",
   "metadata": {},
   "outputs": [],
   "source": [
    "def RMSE(y_target, y_pred):\n",
    "    return np.sqrt(np.square(np.subtract(y_target,y_pred)).mean())\n",
    "def MSE(y_target, y_pred):\n",
    "    return (np.square(np.subtract(y_target,y_pred)).mean())"
   ]
  },
  {
   "cell_type": "code",
   "execution_count": 47,
   "id": "775a56d3",
   "metadata": {},
   "outputs": [
    {
     "name": "stdout",
     "output_type": "stream",
     "text": [
      "1.490915507971207e+16\n"
     ]
    }
   ],
   "source": [
    "print(RMSE(y_test, y_predict))"
   ]
  },
  {
   "cell_type": "code",
   "execution_count": 48,
   "id": "5b24b67d",
   "metadata": {},
   "outputs": [],
   "source": [
    "#Trying lasso and ridge\n",
    "from sklearn.linear_model import Ridge\n",
    "from sklearn.linear_model import Lasso\n",
    "from sklearn import linear_model"
   ]
  },
  {
   "cell_type": "code",
   "execution_count": 49,
   "id": "a7e83d99",
   "metadata": {},
   "outputs": [
    {
     "data": {
      "text/plain": [
       "(1022, 90)"
      ]
     },
     "execution_count": 49,
     "metadata": {},
     "output_type": "execute_result"
    }
   ],
   "source": [
    "labels = train.SalePrice\n",
    "features = train.drop([\"SalePrice\"], axis=1)\n",
    "\n",
    "X_train, X_test, y_train, y_test = train_test_split(features, labels, test_size=0.3, random_state=1)\n",
    "X_train.shape"
   ]
  },
  {
   "cell_type": "code",
   "execution_count": 50,
   "id": "19f4ab1d",
   "metadata": {},
   "outputs": [],
   "source": [
    "ridge = linear_model.Ridge().fit(X_train, y_train)\n",
    "lasso = linear_model.Lasso().fit(X_train, y_train)"
   ]
  },
  {
   "cell_type": "code",
   "execution_count": 51,
   "id": "c5431786",
   "metadata": {},
   "outputs": [
    {
     "name": "stdout",
     "output_type": "stream",
     "text": [
      "31286.22867980232\n",
      "31415.572449590127\n"
     ]
    }
   ],
   "source": [
    "#RMSE for ridge and lasso\n",
    "print(RMSE(y_test,ridge.predict(X_test))) #RMSE for ridge regression\n",
    "print(RMSE(y_test,lasso.predict(X_test))) #RMSE for lasso regression"
   ]
  },
  {
   "cell_type": "code",
   "execution_count": 52,
   "id": "7ac89769",
   "metadata": {},
   "outputs": [],
   "source": [
    "#No improvement in results. Finally trying  cross-validation on training dataset to find better regularization parameter alpha for Ridge and Lasso regression models."
   ]
  },
  {
   "cell_type": "code",
   "execution_count": 53,
   "id": "7cbc278c",
   "metadata": {},
   "outputs": [],
   "source": [
    "from sklearn.model_selection import cross_validate\n",
    "from sklearn.model_selection import KFold"
   ]
  },
  {
   "cell_type": "code",
   "execution_count": 54,
   "id": "f1360642",
   "metadata": {},
   "outputs": [],
   "source": [
    "def get_best_alpha(model,X,y,alphas):\n",
    "    kf = KFold(n_splits=3, shuffle=False) #kernel crashed, removed random state\n",
    "    results = []\n",
    "    for alpha in alphas:\n",
    "        model.set_params(alpha=alpha)\n",
    "        for train_indexes, test_indexes in kf.split(X):\n",
    "            X_test, X_val = X.values[train_indexes], X.values[test_indexes]\n",
    "            y_test, y_val = y.values[train_indexes], y.values[test_indexes]\n",
    "\n",
    "            model.fit(X_test, y_test)\n",
    "            mse = mean_squared_error(y_val,model.predict(X_val))\n",
    "            results.append((alpha, mse))\n",
    "   \n",
    "\n",
    "    best_alpha, mse = sorted(results, key=lambda x: x[1])[0]\n",
    "    return best_alpha, mse"
   ]
  },
  {
   "cell_type": "code",
   "execution_count": 55,
   "id": "5a4d7fa8",
   "metadata": {},
   "outputs": [
    {
     "name": "stdout",
     "output_type": "stream",
     "text": [
      "Ridge best alpha 6.3000 - Avg MSE 910016938.3789 \n",
      "Lasso best alpha 5.0000 - Avg MSE 953400167.5578 \n"
     ]
    }
   ],
   "source": [
    "ridge_alphas = np.linspace(0.1, 10, 100)\n",
    "lasso_alphas = np.linspace(0.001, 5, 100)\n",
    "\n",
    "print(\"Ridge best alpha %.4f - Avg MSE %.4f \" % get_best_alpha(Ridge(), X_train, y_train, ridge_alphas))\n",
    "print(\"Lasso best alpha %.4f - Avg MSE %.4f \" % get_best_alpha(Lasso(), X_train, y_train, lasso_alphas))"
   ]
  },
  {
   "cell_type": "code",
   "execution_count": 56,
   "id": "e275fa3a",
   "metadata": {},
   "outputs": [
    {
     "name": "stdout",
     "output_type": "stream",
     "text": [
      "30991.373119838267\n",
      "31383.32077936961\n"
     ]
    }
   ],
   "source": [
    "ridge = linear_model.Ridge(alpha=6.3).fit(X_train, y_train)\n",
    "lasso = linear_model.Lasso(alpha=5).fit(X_train, y_train)\n",
    "\n",
    "print(RMSE(y_test,ridge.predict(X_test)))\n",
    "print(RMSE(y_test,lasso.predict(X_test))) "
   ]
  },
  {
   "cell_type": "code",
   "execution_count": 57,
   "id": "2e4a5a3e",
   "metadata": {},
   "outputs": [],
   "source": [
    "#Small improvement, but still no where close to a result that will be in the top 50%\n",
    "#We will try other models"
   ]
  },
  {
   "cell_type": "code",
   "execution_count": 58,
   "id": "1782bf15",
   "metadata": {},
   "outputs": [],
   "source": [
    "#Trying random forest regressor"
   ]
  },
  {
   "cell_type": "code",
   "execution_count": 59,
   "id": "8d969a67",
   "metadata": {},
   "outputs": [],
   "source": [
    "from sklearn.ensemble import RandomForestRegressor"
   ]
  },
  {
   "cell_type": "code",
   "execution_count": 60,
   "id": "9755f093",
   "metadata": {},
   "outputs": [
    {
     "data": {
      "text/plain": [
       "(1022, 90)"
      ]
     },
     "execution_count": 60,
     "metadata": {},
     "output_type": "execute_result"
    }
   ],
   "source": [
    "labels = train.SalePrice\n",
    "features = train.drop([\"SalePrice\"], axis=1)\n",
    "\n",
    "X_train, X_test, y_train, y_test = train_test_split(features, labels, test_size=0.3, random_state=1)\n",
    "X_train.shape"
   ]
  },
  {
   "cell_type": "code",
   "execution_count": 61,
   "id": "7c24ab0e",
   "metadata": {},
   "outputs": [
    {
     "data": {
      "text/plain": [
       "RandomForestRegressor()"
      ]
     },
     "execution_count": 61,
     "metadata": {},
     "output_type": "execute_result"
    }
   ],
   "source": [
    "rf = RandomForestRegressor()\n",
    "rf.fit(X_train, y_train)"
   ]
  },
  {
   "cell_type": "code",
   "execution_count": 62,
   "id": "832ec7d9",
   "metadata": {},
   "outputs": [
    {
     "name": "stdout",
     "output_type": "stream",
     "text": [
      "27667.14200610729\n"
     ]
    }
   ],
   "source": [
    "y_predict_random_forest = rf.predict(X_test)\n",
    "print(RMSE(y_test,rf.predict(X_test)))"
   ]
  },
  {
   "cell_type": "code",
   "execution_count": 63,
   "id": "588f0627",
   "metadata": {},
   "outputs": [],
   "source": [
    "#Similar results as with linear, lasso and ridge regression\n",
    "#Starting with hyperparameter tuning for Random Forest (source https://github.com/WillKoehrsen/Machine-Learning-Projects/blob/master/random_forest_explained/Improving%20Random%20Forest%20Part%202.ipynb"
   ]
  },
  {
   "cell_type": "code",
   "execution_count": 64,
   "id": "6b996386",
   "metadata": {},
   "outputs": [
    {
     "name": "stdout",
     "output_type": "stream",
     "text": [
      "Parameters currently in use:\n",
      "\n",
      "{'bootstrap': True,\n",
      " 'ccp_alpha': 0.0,\n",
      " 'criterion': 'mse',\n",
      " 'max_depth': None,\n",
      " 'max_features': 'auto',\n",
      " 'max_leaf_nodes': None,\n",
      " 'max_samples': None,\n",
      " 'min_impurity_decrease': 0.0,\n",
      " 'min_impurity_split': None,\n",
      " 'min_samples_leaf': 1,\n",
      " 'min_samples_split': 2,\n",
      " 'min_weight_fraction_leaf': 0.0,\n",
      " 'n_estimators': 100,\n",
      " 'n_jobs': None,\n",
      " 'oob_score': False,\n",
      " 'random_state': None,\n",
      " 'verbose': 0,\n",
      " 'warm_start': False}\n"
     ]
    }
   ],
   "source": [
    "#parameters currently in use\n",
    "from pprint import pprint\n",
    "print('Parameters currently in use:\\n')\n",
    "pprint(rf.get_params())"
   ]
  },
  {
   "cell_type": "code",
   "execution_count": 65,
   "id": "900fbe41",
   "metadata": {},
   "outputs": [
    {
     "name": "stdout",
     "output_type": "stream",
     "text": [
      "{'bootstrap': [True, False],\n",
      " 'max_depth': [10, 20, 30, 40, 50, 60, 70, 80, 90, 100, 110, None],\n",
      " 'max_features': ['auto', 'sqrt'],\n",
      " 'min_samples_leaf': [1, 2, 4],\n",
      " 'min_samples_split': [2, 5, 10],\n",
      " 'n_estimators': [200, 400, 600, 800, 1000, 1200, 1400, 1600, 1800, 2000]}\n"
     ]
    }
   ],
   "source": [
    "# Random Search with Cross Validation\n",
    "from sklearn.model_selection import RandomizedSearchCV\n",
    "\n",
    "n_estimators = [int(x) for x in np.linspace(start = 200, stop = 2000, num = 10)]\n",
    "# Number of features to consider at every split\n",
    "max_features = ['auto', 'sqrt']\n",
    "# Maximum number of levels in tree\n",
    "max_depth = [int(x) for x in np.linspace(10, 110, num = 11)]\n",
    "max_depth.append(None)\n",
    "# Minimum number of samples required to split a node\n",
    "min_samples_split = [2, 5, 10]\n",
    "# Minimum number of samples required at each leaf node\n",
    "min_samples_leaf = [1, 2, 4]\n",
    "# Method of selecting samples for training each tree\n",
    "bootstrap = [True, False]\n",
    "\n",
    "# Create the random grid\n",
    "random_grid = {'n_estimators': n_estimators,\n",
    "               'max_features': max_features,\n",
    "               'max_depth': max_depth,\n",
    "               'min_samples_split': min_samples_split,\n",
    "               'min_samples_leaf': min_samples_leaf,\n",
    "               'bootstrap': bootstrap}\n",
    "\n",
    "pprint(random_grid)"
   ]
  },
  {
   "cell_type": "code",
   "execution_count": 66,
   "id": "62c860e0",
   "metadata": {},
   "outputs": [],
   "source": [
    "# Use the random grid to search for best hyperparameters\n",
    "# First create the base model to tune\n",
    "rf = RandomForestRegressor(random_state = 42)\n",
    "\n",
    "# Random search of parameters, using 3 fold cross validation, \n",
    "# search across 100 different combinations, and use all available cores\n",
    "rf_random = RandomizedSearchCV(estimator=rf, param_distributions=random_grid,\n",
    "                              n_iter = 100, scoring='neg_mean_absolute_error', \n",
    "                              cv = 3, verbose=2, random_state=42, n_jobs=-1,\n",
    "                              return_train_score=True)\n",
    "\n",
    "# Fit the random search model\n",
    "\n",
    "#rf_random.fit(features, labels); (commented, because it takes 15-20 minutes to run)"
   ]
  },
  {
   "cell_type": "code",
   "execution_count": 70,
   "id": "d4e2cc84",
   "metadata": {},
   "outputs": [
    {
     "ename": "AttributeError",
     "evalue": "'RandomizedSearchCV' object has no attribute 'best_params_'",
     "output_type": "error",
     "traceback": [
      "\u001b[1;31m---------------------------------------------------------------------------\u001b[0m",
      "\u001b[1;31mAttributeError\u001b[0m                            Traceback (most recent call last)",
      "\u001b[1;32m<ipython-input-70-ea266b0743c6>\u001b[0m in \u001b[0;36m<module>\u001b[1;34m\u001b[0m\n\u001b[1;32m----> 1\u001b[1;33m \u001b[0mrf_random\u001b[0m\u001b[1;33m.\u001b[0m\u001b[0mbest_params_\u001b[0m\u001b[1;33m\u001b[0m\u001b[1;33m\u001b[0m\u001b[0m\n\u001b[0m",
      "\u001b[1;31mAttributeError\u001b[0m: 'RandomizedSearchCV' object has no attribute 'best_params_'"
     ]
    }
   ],
   "source": [
    "rf_random.best_params_"
   ]
  },
  {
   "cell_type": "code",
   "execution_count": 71,
   "id": "045030b5",
   "metadata": {},
   "outputs": [],
   "source": [
    "#GridSearch around the best values returned by random search."
   ]
  },
  {
   "cell_type": "code",
   "execution_count": 72,
   "id": "38ea9a0e",
   "metadata": {},
   "outputs": [],
   "source": [
    "from sklearn.model_selection import GridSearchCV\n",
    "\n",
    "# Create the parameter grid based on the results of random search \n",
    "param_grid = {\n",
    "    'bootstrap': [False],\n",
    "    'max_depth': [None],\n",
    "    'max_features': [2, 4, 6],\n",
    "    'min_samples_leaf': [1, 2, 3],\n",
    "    'min_samples_split': [2, 3, 4],\n",
    "    'n_estimators': [100, 200, 300, 1000]\n",
    "}\n",
    "\n",
    "# Create a base model\n",
    "rf = RandomForestRegressor(random_state = 42)\n",
    "\n",
    "# Instantiate the grid search model\n",
    "grid_search = GridSearchCV(estimator = rf, param_grid = param_grid, \n",
    "                          cv = 3, n_jobs = -1, verbose = 2, return_train_score=True)"
   ]
  },
  {
   "cell_type": "code",
   "execution_count": 73,
   "id": "e2248451",
   "metadata": {},
   "outputs": [],
   "source": [
    "#grid_search.fit(features, labels); (commented, because it takes 5 minutes to run)"
   ]
  },
  {
   "cell_type": "code",
   "execution_count": 74,
   "id": "06035a32",
   "metadata": {
    "scrolled": true
   },
   "outputs": [
    {
     "ename": "AttributeError",
     "evalue": "'GridSearchCV' object has no attribute 'best_params_'",
     "output_type": "error",
     "traceback": [
      "\u001b[1;31m---------------------------------------------------------------------------\u001b[0m",
      "\u001b[1;31mAttributeError\u001b[0m                            Traceback (most recent call last)",
      "\u001b[1;32m<ipython-input-74-b1068600e498>\u001b[0m in \u001b[0;36m<module>\u001b[1;34m\u001b[0m\n\u001b[1;32m----> 1\u001b[1;33m \u001b[0mgrid_search\u001b[0m\u001b[1;33m.\u001b[0m\u001b[0mbest_params_\u001b[0m\u001b[1;33m\u001b[0m\u001b[1;33m\u001b[0m\u001b[0m\n\u001b[0m",
      "\u001b[1;31mAttributeError\u001b[0m: 'GridSearchCV' object has no attribute 'best_params_'"
     ]
    }
   ],
   "source": [
    "grid_search.best_params_"
   ]
  },
  {
   "cell_type": "code",
   "execution_count": 75,
   "id": "0499e444",
   "metadata": {},
   "outputs": [
    {
     "name": "stdout",
     "output_type": "stream",
     "text": [
      "28967.00508375427\n"
     ]
    }
   ],
   "source": [
    "#applying best parameters to RandomForestRegressor\n",
    "\n",
    "rfrhyper = RandomForestRegressor(max_depth=None, max_features=6, min_samples_leaf=1, min_samples_split=2, bootstrap=False, n_estimators =100)\n",
    "rfrhyper.fit(X_train, y_train)\n",
    "print(RMSE(y_test,rfrhyper.predict(X_test)))"
   ]
  },
  {
   "cell_type": "markdown",
   "id": "defd72bd",
   "metadata": {},
   "source": [
    "Getting started with xgboost model"
   ]
  },
  {
   "cell_type": "code",
   "execution_count": 76,
   "id": "20187d4b",
   "metadata": {},
   "outputs": [
    {
     "name": "stderr",
     "output_type": "stream",
     "text": [
      "ERROR: Could not find a version that satisfies the requirement py-xgboost\n",
      "ERROR: No matching distribution found for py-xgboost\n"
     ]
    }
   ],
   "source": [
    "!pip install py-xgboost"
   ]
  },
  {
   "cell_type": "code",
   "execution_count": 77,
   "id": "e60549da",
   "metadata": {},
   "outputs": [
    {
     "data": {
      "image/png": "[encoded data removed]",
      "text/plain": [
       "<Figure size 864x504 with 1 Axes>"
      ]
     },
     "metadata": {
      "needs_background": "light"
     },
     "output_type": "display_data"
    }
   ],
   "source": [
    "# we have a positive skew, must fix\n",
    "\n",
    "plt.figure(figsize=(12, 7))\n",
    "\n",
    "sns.distplot(train['SalePrice']).set(ylabel=None, xlabel=None)\n",
    "plt.title('House price distribution histogram', fontsize=18)\n",
    "plt.show()"
   ]
  },
  {
   "cell_type": "code",
   "execution_count": 78,
   "id": "3889d44b",
   "metadata": {},
   "outputs": [
    {
     "data": {
      "image/png": "[encoded data removed]",
      "text/plain": [
       "<Figure size 864x504 with 1 Axes>"
      ]
     },
     "metadata": {
      "needs_background": "light"
     },
     "output_type": "display_data"
    }
   ],
   "source": [
    "train['SalePrice'] = np.log1p(train['SalePrice'])\n",
    "plt.figure(figsize=(12, 7))\n",
    "\n",
    "sns.distplot(train['SalePrice'])\n",
    "plt.title('House price distribution histogram after fix', fontsize=18)\n",
    "plt.show()"
   ]
  },
  {
   "cell_type": "code",
   "execution_count": 79,
   "id": "f991457d",
   "metadata": {
    "scrolled": true
   },
   "outputs": [
    {
     "name": "stdout",
     "output_type": "stream",
     "text": [
      "[13:12:44] WARNING: c:\\ci\\xgboost-split_1638290375667\\work\\src\\objective\\regression_obj.cu:188: reg:linear is now deprecated in favor of reg:squarederror.\n",
      "[13:12:48] WARNING: c:\\ci\\xgboost-split_1638290375667\\work\\src\\objective\\regression_obj.cu:188: reg:linear is now deprecated in favor of reg:squarederror.\n",
      "[13:12:52] WARNING: c:\\ci\\xgboost-split_1638290375667\\work\\src\\objective\\regression_obj.cu:188: reg:linear is now deprecated in favor of reg:squarederror.\n",
      "[13:12:58] WARNING: c:\\ci\\xgboost-split_1638290375667\\work\\src\\objective\\regression_obj.cu:188: reg:linear is now deprecated in favor of reg:squarederror.\n",
      "[13:13:03] WARNING: c:\\ci\\xgboost-split_1638290375667\\work\\src\\objective\\regression_obj.cu:188: reg:linear is now deprecated in favor of reg:squarederror.\n",
      "[13:13:08] WARNING: c:\\ci\\xgboost-split_1638290375667\\work\\src\\objective\\regression_obj.cu:188: reg:linear is now deprecated in favor of reg:squarederror.\n",
      "[13:13:13] WARNING: c:\\ci\\xgboost-split_1638290375667\\work\\src\\objective\\regression_obj.cu:188: reg:linear is now deprecated in favor of reg:squarederror.\n",
      "[13:13:18] WARNING: c:\\ci\\xgboost-split_1638290375667\\work\\src\\objective\\regression_obj.cu:188: reg:linear is now deprecated in favor of reg:squarederror.\n",
      "[13:13:23] WARNING: c:\\ci\\xgboost-split_1638290375667\\work\\src\\objective\\regression_obj.cu:188: reg:linear is now deprecated in favor of reg:squarederror.\n",
      "[13:13:28] WARNING: c:\\ci\\xgboost-split_1638290375667\\work\\src\\objective\\regression_obj.cu:188: reg:linear is now deprecated in favor of reg:squarederror.\n",
      "[13:13:33] WARNING: c:\\ci\\xgboost-split_1638290375667\\work\\src\\objective\\regression_obj.cu:188: reg:linear is now deprecated in favor of reg:squarederror.\n",
      "xgboost: 0.1349 (0.0174)\n",
      " 2021-12-13 13:13:39.812870\n"
     ]
    }
   ],
   "source": [
    "from xgboost.sklearn import XGBRegressor\n",
    "\n",
    "labels = train[\"SalePrice\"]\n",
    "features = train.drop([\"SalePrice\"], axis=1)\n",
    "\n",
    "xgboost = XGBRegressor(learning_rate=0.01,n_estimators=3460,\n",
    "                                     max_depth=3, min_child_weight=0,\n",
    "                                     gamma=0, subsample=0.7,\n",
    "                                     colsample_bytree=0.7,\n",
    "                                     objective='reg:linear', nthread=-1,\n",
    "                                     scale_pos_weight=1, seed=27,\n",
    "                                     reg_alpha=0.00006)\n",
    "\n",
    "xgboost.fit(features,labels)\n",
    "\n",
    "from sklearn.model_selection import cross_val_score, KFold\n",
    "\n",
    "kfolds = KFold(n_splits=10, shuffle=True, random_state=42)\n",
    "\n",
    "def cv_rmse(model, features=features):\n",
    "    rmse = np.sqrt(-cross_val_score(model, features, labels, scoring=\"neg_mean_squared_error\", cv=kfolds))\n",
    "    return (rmse)\n",
    "\n",
    "from datetime import datetime\n",
    "\n",
    "score = cv_rmse(xgboost)\n",
    "print(\"xgboost: {:.4f} ({:.4f})\\n\".format(score.mean(), score.std()), datetime.now(), )"
   ]
  },
  {
   "cell_type": "code",
   "execution_count": null,
   "id": "247b7cf1",
   "metadata": {},
   "outputs": [],
   "source": [
    "# Testing on actual test data for Kaggle\n",
    "\n",
    "# pred = xgboost.predict(test)\n",
    "# xgboostdata = pd.DataFrame(data = {\"Id\":test[\"Id\"], \"SalePrice\": pred})\n",
    "# xgboostdata.to_csv(r'/Users/koldekiv/Desktop/xgboost.csv', index = False)"
   ]
  },
  {
   "cell_type": "code",
   "execution_count": null,
   "id": "48fa6e07",
   "metadata": {},
   "outputs": [],
   "source": []
  }
 ],
 "metadata": {
  "kernelspec": {
   "display_name": "Python 3",
   "language": "python",
   "name": "python3"
  },
  "language_info": {
   "codemirror_mode": {
    "name": "ipython",
    "version": 3
   },
   "file_extension": ".py",
   "mimetype": "text/x-python",
   "name": "python",
   "nbconvert_exporter": "python",
   "pygments_lexer": "ipython3",
   "version": "3.8.8"
  }
 },
 "nbformat": 4,
 "nbformat_minor": 5
}
