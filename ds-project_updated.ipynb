{
 "cells": [
  {
   "cell_type": "markdown",
   "id": "947b24a3",
   "metadata": {},
   "source": [
    "# Kaggle Housing Price Prediction #\n",
    "\n",
    "<br>\n",
    "<br>\n",
    "\n",
    "__[link to Kaggle competition](https://www.kaggle.com/c/house-prices-advanced-regression-techniques/data)__\n",
    "\n",
    "Notebook and analysis by: Laura Liisa Koldekivi, Anna-Stina Reinas, Abhishek Giri"
   ]
  },
  {
   "cell_type": "markdown",
   "id": "b2ae73b4",
   "metadata": {},
   "source": [
    "## Preparation ##\n",
    "\n",
    "<br>\n",
    "<br>\n",
    "Importing first necessary libraries and loading needed files.\n",
    "\n",
    "Importing other necessary libraries as we go on."
   ]
  },
  {
   "cell_type": "code",
   "execution_count": 1,
   "id": "97015ad7",
   "metadata": {},
   "outputs": [],
   "source": [
    "import warnings\n",
    "import numpy as np\n",
    "import pandas as pd\n",
    "from scipy.stats import norm\n",
    "import matplotlib.pyplot as plt\n",
    "import seaborn as sns\n",
    "import seaborn as sns\n",
    "from dython.nominal import  compute_associations\n",
    "\n",
    "# mute warnings\n",
    "warnings.filterwarnings('ignore')\n",
    "pd.set_option('display.max_rows', 100)"
   ]
  },
  {
   "cell_type": "code",
   "execution_count": 2,
   "id": "b644eca6",
   "metadata": {},
   "outputs": [],
   "source": [
    "# importing datasets\n",
    "train_df = pd.read_csv(\"train.csv\")\n",
    "test_df = pd.read_csv(\"test.csv\")"
   ]
  },
  {
   "cell_type": "code",
   "execution_count": 3,
   "id": "3b30db31",
   "metadata": {},
   "outputs": [
    {
     "data": {
      "text/html": [
       "<div>\n",
       "<style scoped>\n",
       "    .dataframe tbody tr th:only-of-type {\n",
       "        vertical-align: middle;\n",
       "    }\n",
       "\n",
       "    .dataframe tbody tr th {\n",
       "        vertical-align: top;\n",
       "    }\n",
       "\n",
       "    .dataframe thead th {\n",
       "        text-align: right;\n",
       "    }\n",
       "</style>\n",
       "<table border=\"1\" class=\"dataframe\">\n",
       "  <thead>\n",
       "    <tr style=\"text-align: right;\">\n",
       "      <th></th>\n",
       "      <th>Id</th>\n",
       "      <th>MSSubClass</th>\n",
       "      <th>MSZoning</th>\n",
       "      <th>LotFrontage</th>\n",
       "      <th>LotArea</th>\n",
       "      <th>Street</th>\n",
       "      <th>Alley</th>\n",
       "      <th>LotShape</th>\n",
       "      <th>LandContour</th>\n",
       "      <th>Utilities</th>\n",
       "      <th>...</th>\n",
       "      <th>PoolArea</th>\n",
       "      <th>PoolQC</th>\n",
       "      <th>Fence</th>\n",
       "      <th>MiscFeature</th>\n",
       "      <th>MiscVal</th>\n",
       "      <th>MoSold</th>\n",
       "      <th>YrSold</th>\n",
       "      <th>SaleType</th>\n",
       "      <th>SaleCondition</th>\n",
       "      <th>SalePrice</th>\n",
       "    </tr>\n",
       "  </thead>\n",
       "  <tbody>\n",
       "    <tr>\n",
       "      <th>0</th>\n",
       "      <td>1</td>\n",
       "      <td>60</td>\n",
       "      <td>RL</td>\n",
       "      <td>65.0</td>\n",
       "      <td>8450</td>\n",
       "      <td>Pave</td>\n",
       "      <td>NaN</td>\n",
       "      <td>Reg</td>\n",
       "      <td>Lvl</td>\n",
       "      <td>AllPub</td>\n",
       "      <td>...</td>\n",
       "      <td>0</td>\n",
       "      <td>NaN</td>\n",
       "      <td>NaN</td>\n",
       "      <td>NaN</td>\n",
       "      <td>0</td>\n",
       "      <td>2</td>\n",
       "      <td>2008</td>\n",
       "      <td>WD</td>\n",
       "      <td>Normal</td>\n",
       "      <td>208500</td>\n",
       "    </tr>\n",
       "    <tr>\n",
       "      <th>1</th>\n",
       "      <td>2</td>\n",
       "      <td>20</td>\n",
       "      <td>RL</td>\n",
       "      <td>80.0</td>\n",
       "      <td>9600</td>\n",
       "      <td>Pave</td>\n",
       "      <td>NaN</td>\n",
       "      <td>Reg</td>\n",
       "      <td>Lvl</td>\n",
       "      <td>AllPub</td>\n",
       "      <td>...</td>\n",
       "      <td>0</td>\n",
       "      <td>NaN</td>\n",
       "      <td>NaN</td>\n",
       "      <td>NaN</td>\n",
       "      <td>0</td>\n",
       "      <td>5</td>\n",
       "      <td>2007</td>\n",
       "      <td>WD</td>\n",
       "      <td>Normal</td>\n",
       "      <td>181500</td>\n",
       "    </tr>\n",
       "    <tr>\n",
       "      <th>2</th>\n",
       "      <td>3</td>\n",
       "      <td>60</td>\n",
       "      <td>RL</td>\n",
       "      <td>68.0</td>\n",
       "      <td>11250</td>\n",
       "      <td>Pave</td>\n",
       "      <td>NaN</td>\n",
       "      <td>IR1</td>\n",
       "      <td>Lvl</td>\n",
       "      <td>AllPub</td>\n",
       "      <td>...</td>\n",
       "      <td>0</td>\n",
       "      <td>NaN</td>\n",
       "      <td>NaN</td>\n",
       "      <td>NaN</td>\n",
       "      <td>0</td>\n",
       "      <td>9</td>\n",
       "      <td>2008</td>\n",
       "      <td>WD</td>\n",
       "      <td>Normal</td>\n",
       "      <td>223500</td>\n",
       "    </tr>\n",
       "    <tr>\n",
       "      <th>3</th>\n",
       "      <td>4</td>\n",
       "      <td>70</td>\n",
       "      <td>RL</td>\n",
       "      <td>60.0</td>\n",
       "      <td>9550</td>\n",
       "      <td>Pave</td>\n",
       "      <td>NaN</td>\n",
       "      <td>IR1</td>\n",
       "      <td>Lvl</td>\n",
       "      <td>AllPub</td>\n",
       "      <td>...</td>\n",
       "      <td>0</td>\n",
       "      <td>NaN</td>\n",
       "      <td>NaN</td>\n",
       "      <td>NaN</td>\n",
       "      <td>0</td>\n",
       "      <td>2</td>\n",
       "      <td>2006</td>\n",
       "      <td>WD</td>\n",
       "      <td>Abnorml</td>\n",
       "      <td>140000</td>\n",
       "    </tr>\n",
       "    <tr>\n",
       "      <th>4</th>\n",
       "      <td>5</td>\n",
       "      <td>60</td>\n",
       "      <td>RL</td>\n",
       "      <td>84.0</td>\n",
       "      <td>14260</td>\n",
       "      <td>Pave</td>\n",
       "      <td>NaN</td>\n",
       "      <td>IR1</td>\n",
       "      <td>Lvl</td>\n",
       "      <td>AllPub</td>\n",
       "      <td>...</td>\n",
       "      <td>0</td>\n",
       "      <td>NaN</td>\n",
       "      <td>NaN</td>\n",
       "      <td>NaN</td>\n",
       "      <td>0</td>\n",
       "      <td>12</td>\n",
       "      <td>2008</td>\n",
       "      <td>WD</td>\n",
       "      <td>Normal</td>\n",
       "      <td>250000</td>\n",
       "    </tr>\n",
       "  </tbody>\n",
       "</table>\n",
       "<p>5 rows × 81 columns</p>\n",
       "</div>"
      ],
      "text/plain": [
       "   Id  MSSubClass MSZoning  LotFrontage  LotArea Street Alley LotShape  \\\n",
       "0   1          60       RL         65.0     8450   Pave   NaN      Reg   \n",
       "1   2          20       RL         80.0     9600   Pave   NaN      Reg   \n",
       "2   3          60       RL         68.0    11250   Pave   NaN      IR1   \n",
       "3   4          70       RL         60.0     9550   Pave   NaN      IR1   \n",
       "4   5          60       RL         84.0    14260   Pave   NaN      IR1   \n",
       "\n",
       "  LandContour Utilities  ... PoolArea PoolQC Fence MiscFeature MiscVal MoSold  \\\n",
       "0         Lvl    AllPub  ...        0    NaN   NaN         NaN       0      2   \n",
       "1         Lvl    AllPub  ...        0    NaN   NaN         NaN       0      5   \n",
       "2         Lvl    AllPub  ...        0    NaN   NaN         NaN       0      9   \n",
       "3         Lvl    AllPub  ...        0    NaN   NaN         NaN       0      2   \n",
       "4         Lvl    AllPub  ...        0    NaN   NaN         NaN       0     12   \n",
       "\n",
       "  YrSold  SaleType  SaleCondition  SalePrice  \n",
       "0   2008        WD         Normal     208500  \n",
       "1   2007        WD         Normal     181500  \n",
       "2   2008        WD         Normal     223500  \n",
       "3   2006        WD        Abnorml     140000  \n",
       "4   2008        WD         Normal     250000  \n",
       "\n",
       "[5 rows x 81 columns]"
      ]
     },
     "execution_count": 3,
     "metadata": {},
     "output_type": "execute_result"
    }
   ],
   "source": [
    "# checking our training data\n",
    "\n",
    "train_df.head()"
   ]
  },
  {
   "cell_type": "code",
   "execution_count": 4,
   "id": "c3ef72dd",
   "metadata": {
    "scrolled": true
   },
   "outputs": [
    {
     "name": "stdout",
     "output_type": "stream",
     "text": [
      "<class 'pandas.core.frame.DataFrame'>\n",
      "RangeIndex: 1460 entries, 0 to 1459\n",
      "Data columns (total 81 columns):\n",
      " #   Column         Non-Null Count  Dtype  \n",
      "---  ------         --------------  -----  \n",
      " 0   Id             1460 non-null   int64  \n",
      " 1   MSSubClass     1460 non-null   int64  \n",
      " 2   MSZoning       1460 non-null   object \n",
      " 3   LotFrontage    1201 non-null   float64\n",
      " 4   LotArea        1460 non-null   int64  \n",
      " 5   Street         1460 non-null   object \n",
      " 6   Alley          91 non-null     object \n",
      " 7   LotShape       1460 non-null   object \n",
      " 8   LandContour    1460 non-null   object \n",
      " 9   Utilities      1460 non-null   object \n",
      " 10  LotConfig      1460 non-null   object \n",
      " 11  LandSlope      1460 non-null   object \n",
      " 12  Neighborhood   1460 non-null   object \n",
      " 13  Condition1     1460 non-null   object \n",
      " 14  Condition2     1460 non-null   object \n",
      " 15  BldgType       1460 non-null   object \n",
      " 16  HouseStyle     1460 non-null   object \n",
      " 17  OverallQual    1460 non-null   int64  \n",
      " 18  OverallCond    1460 non-null   int64  \n",
      " 19  YearBuilt      1460 non-null   int64  \n",
      " 20  YearRemodAdd   1460 non-null   int64  \n",
      " 21  RoofStyle      1460 non-null   object \n",
      " 22  RoofMatl       1460 non-null   object \n",
      " 23  Exterior1st    1460 non-null   object \n",
      " 24  Exterior2nd    1460 non-null   object \n",
      " 25  MasVnrType     1452 non-null   object \n",
      " 26  MasVnrArea     1452 non-null   float64\n",
      " 27  ExterQual      1460 non-null   object \n",
      " 28  ExterCond      1460 non-null   object \n",
      " 29  Foundation     1460 non-null   object \n",
      " 30  BsmtQual       1423 non-null   object \n",
      " 31  BsmtCond       1423 non-null   object \n",
      " 32  BsmtExposure   1422 non-null   object \n",
      " 33  BsmtFinType1   1423 non-null   object \n",
      " 34  BsmtFinSF1     1460 non-null   int64  \n",
      " 35  BsmtFinType2   1422 non-null   object \n",
      " 36  BsmtFinSF2     1460 non-null   int64  \n",
      " 37  BsmtUnfSF      1460 non-null   int64  \n",
      " 38  TotalBsmtSF    1460 non-null   int64  \n",
      " 39  Heating        1460 non-null   object \n",
      " 40  HeatingQC      1460 non-null   object \n",
      " 41  CentralAir     1460 non-null   object \n",
      " 42  Electrical     1459 non-null   object \n",
      " 43  1stFlrSF       1460 non-null   int64  \n",
      " 44  2ndFlrSF       1460 non-null   int64  \n",
      " 45  LowQualFinSF   1460 non-null   int64  \n",
      " 46  GrLivArea      1460 non-null   int64  \n",
      " 47  BsmtFullBath   1460 non-null   int64  \n",
      " 48  BsmtHalfBath   1460 non-null   int64  \n",
      " 49  FullBath       1460 non-null   int64  \n",
      " 50  HalfBath       1460 non-null   int64  \n",
      " 51  BedroomAbvGr   1460 non-null   int64  \n",
      " 52  KitchenAbvGr   1460 non-null   int64  \n",
      " 53  KitchenQual    1460 non-null   object \n",
      " 54  TotRmsAbvGrd   1460 non-null   int64  \n",
      " 55  Functional     1460 non-null   object \n",
      " 56  Fireplaces     1460 non-null   int64  \n",
      " 57  FireplaceQu    770 non-null    object \n",
      " 58  GarageType     1379 non-null   object \n",
      " 59  GarageYrBlt    1379 non-null   float64\n",
      " 60  GarageFinish   1379 non-null   object \n",
      " 61  GarageCars     1460 non-null   int64  \n",
      " 62  GarageArea     1460 non-null   int64  \n",
      " 63  GarageQual     1379 non-null   object \n",
      " 64  GarageCond     1379 non-null   object \n",
      " 65  PavedDrive     1460 non-null   object \n",
      " 66  WoodDeckSF     1460 non-null   int64  \n",
      " 67  OpenPorchSF    1460 non-null   int64  \n",
      " 68  EnclosedPorch  1460 non-null   int64  \n",
      " 69  3SsnPorch      1460 non-null   int64  \n",
      " 70  ScreenPorch    1460 non-null   int64  \n",
      " 71  PoolArea       1460 non-null   int64  \n",
      " 72  PoolQC         7 non-null      object \n",
      " 73  Fence          281 non-null    object \n",
      " 74  MiscFeature    54 non-null     object \n",
      " 75  MiscVal        1460 non-null   int64  \n",
      " 76  MoSold         1460 non-null   int64  \n",
      " 77  YrSold         1460 non-null   int64  \n",
      " 78  SaleType       1460 non-null   object \n",
      " 79  SaleCondition  1460 non-null   object \n",
      " 80  SalePrice      1460 non-null   int64  \n",
      "dtypes: float64(3), int64(35), object(43)\n",
      "memory usage: 924.0+ KB\n"
     ]
    }
   ],
   "source": [
    "# checking our training data\n",
    "\n",
    "train_df.info()"
   ]
  },
  {
   "cell_type": "markdown",
   "id": "e394ff0f",
   "metadata": {},
   "source": [
    "From this we can see that some features won't be relevant in our analysis as they have too many missing values. Concentrating on features that give us a real insight.\n",
    "\n",
    "<br>\n",
    "<br>"
   ]
  },
  {
   "cell_type": "markdown",
   "id": "c9f0d9be",
   "metadata": {},
   "source": [
    "### Checking target variable distribution ###\n",
    "\n",
    "<br>\n",
    "\n",
    "Here we are analysing our target vairable. In this dataset it is SalePrice. We will analyse its distribution."
   ]
  },
  {
   "cell_type": "code",
   "execution_count": 5,
   "id": "27cfaf2c",
   "metadata": {
    "scrolled": true
   },
   "outputs": [
    {
     "data": {
      "image/png": "[encoded data removed]",
      "text/plain": [
       "<Figure size 1152x432 with 2 Axes>"
      ]
     },
     "metadata": {
      "needs_background": "light"
     },
     "output_type": "display_data"
    },
    {
     "name": "stdout",
     "output_type": "stream",
     "text": [
      "Skewness: 1.8828757597682129\n",
      "Kurtosis: 6.536281860064529\n",
      "--------------------------------------\n",
      "count      1460.000000\n",
      "mean     180921.195890\n",
      "std       79442.502883\n",
      "min       34900.000000\n",
      "25%      129975.000000\n",
      "50%      163000.000000\n",
      "75%      214000.000000\n",
      "max      755000.000000\n",
      "Name: SalePrice, dtype: float64\n"
     ]
    }
   ],
   "source": [
    "f,ax = plt.subplots(1,2,figsize=(16,6))\n",
    "sns.distplot(train_df['SalePrice'],fit=norm,ax=ax[0])\n",
    "sns.boxplot(train_df['SalePrice'])\n",
    "plt.show()\n",
    "\n",
    "#skewness and kurtosis\n",
    "print(\"Skewness: {}\".format(train_df['SalePrice'].skew()))\n",
    "print(\"Kurtosis: {}\".format(train_df['SalePrice'].kurt()))\n",
    "print(\"--------------------------------------\")\n",
    "print(train_df['SalePrice'].describe())"
   ]
  },
  {
   "cell_type": "markdown",
   "id": "34aba8e5",
   "metadata": {},
   "source": [
    "We can see that the target variable is rightly skewed and it has some outliers at the upper end.\n",
    "\n",
    "<br>\n",
    "<br>"
   ]
  },
  {
   "cell_type": "code",
   "execution_count": 6,
   "id": "3798548f",
   "metadata": {},
   "outputs": [
    {
     "name": "stdout",
     "output_type": "stream",
     "text": [
      "Shape of train set: (1460, 81)\n",
      "Shape of test set: (1459, 80)\n"
     ]
    }
   ],
   "source": [
    "# checking shape and size of dataset\n",
    "\n",
    "print(f\"Shape of train set: {train_df.shape}\")\n",
    "print(f\"Shape of test set: {test_df.shape}\")"
   ]
  },
  {
   "cell_type": "code",
   "execution_count": 7,
   "id": "8cdcdf01",
   "metadata": {},
   "outputs": [
    {
     "data": {
      "image/png": "[encoded data removed]",
      "text/plain": [
       "<Figure size 1080x288 with 1 Axes>"
      ]
     },
     "metadata": {
      "needs_background": "light"
     },
     "output_type": "display_data"
    }
   ],
   "source": [
    "# plotting houses and sale price\n",
    "\n",
    "train_df.SalePrice.hist(bins=75,rwidth = 0.6,figsize=(15,4),grid=True)\n",
    "plt.title('House Prices')\n",
    "plt.show()"
   ]
  },
  {
   "cell_type": "code",
   "execution_count": 8,
   "id": "aee265a7",
   "metadata": {
    "scrolled": true
   },
   "outputs": [
    {
     "data": {
      "image/png": "[encoded data removed]",
      "text/plain": [
       "<Figure size 1080x288 with 1 Axes>"
      ]
     },
     "metadata": {
      "needs_background": "light"
     },
     "output_type": "display_data"
    }
   ],
   "source": [
    "# plotting year built and units \n",
    "\n",
    "train_df.YearBuilt.hist(bins=75,rwidth=0.6,figsize=(15,4))\n",
    "plt.title('When were the Houses built?')\n",
    "plt.show()"
   ]
  },
  {
   "cell_type": "markdown",
   "id": "4065e70f",
   "metadata": {},
   "source": [
    "#### Correlation ###\n",
    "\n",
    "<br>\n",
    "<br>\n",
    "\n",
    "We will now find which features are strongly correlated with SalePrice."
   ]
  },
  {
   "cell_type": "code",
   "execution_count": 9,
   "id": "31c0e472",
   "metadata": {},
   "outputs": [],
   "source": [
    "# separating numerical and categorical columns\n",
    "\n",
    "numeric_cols = [cname for cname in train_df.columns if train_df[cname].dtype in ['int64', 'float64']]\n",
    "categorical_cols = [cname for cname in train_df.columns if train_df[cname].dtype == 'object' ]"
   ]
  },
  {
   "cell_type": "code",
   "execution_count": 10,
   "id": "cbfe14e8",
   "metadata": {},
   "outputs": [
    {
     "name": "stdout",
     "output_type": "stream",
     "text": [
      "               SalePrice\n",
      "KitchenAbvGr   -0.135907\n",
      "EnclosedPorch  -0.128578\n",
      "MSSubClass     -0.084284\n",
      "OverallCond    -0.077856\n",
      "YrSold         -0.028923\n",
      "LowQualFinSF   -0.025606\n",
      "Id             -0.021917\n",
      "MiscVal        -0.021190\n",
      "BsmtHalfBath   -0.016844\n",
      "BsmtFinSF2     -0.011378\n",
      "3SsnPorch       0.044584\n",
      "MoSold          0.046432\n",
      "PoolArea        0.092404\n",
      "ScreenPorch     0.111447\n",
      "BedroomAbvGr    0.168213\n",
      "LotFrontage     0.209624\n",
      "BsmtUnfSF       0.214479\n",
      "BsmtFullBath    0.227122\n",
      "GarageYrBlt     0.261366\n",
      "LotArea         0.263843\n",
      "HalfBath        0.284108\n",
      "OpenPorchSF     0.315856\n",
      "2ndFlrSF        0.319334\n",
      "WoodDeckSF      0.324413\n",
      "BsmtFinSF1      0.386420\n",
      "Fireplaces      0.466929\n",
      "MasVnrArea      0.472614\n",
      "YearRemodAdd    0.507101\n",
      "YearBuilt       0.522897\n",
      "TotRmsAbvGrd    0.533723\n",
      "FullBath        0.560664\n",
      "1stFlrSF        0.605852\n",
      "TotalBsmtSF     0.613581\n",
      "GarageArea      0.623431\n",
      "GarageCars      0.640409\n",
      "GrLivArea       0.708624\n",
      "OverallQual     0.790982\n",
      "SalePrice       1.000000\n"
     ]
    },
    {
     "data": {
      "text/plain": [
       "Text(0.5, 1.0, ' Corelations between SalePrice and numerical features.')"
      ]
     },
     "execution_count": 10,
     "metadata": {},
     "output_type": "execute_result"
    },
    {
     "data": {
      "image/png": "[encoded data removed]",
      "text/plain": [
       "<Figure size 1080x144 with 2 Axes>"
      ]
     },
     "metadata": {
      "needs_background": "light"
     },
     "output_type": "display_data"
    }
   ],
   "source": [
    "# plotting correrlation b/w numerical attributes and sale price\n",
    "\n",
    "plt.subplots(figsize=(15,2))\n",
    "numerical_corr_table = compute_associations(train_df[numeric_cols])\n",
    "print(numerical_corr_table[['SalePrice']].sort_values(by=['SalePrice']))\n",
    "sns.heatmap(numerical_corr_table[['SalePrice']].sort_values(by=['SalePrice']).T)\n",
    "plt.title(f\" Corelations between {'SalePrice'} and numerical features.\")\n",
    "\n",
    "# numerical_corr_table"
   ]
  },
  {
   "cell_type": "code",
   "execution_count": 11,
   "id": "c2af9096",
   "metadata": {},
   "outputs": [],
   "source": [
    "categorical_cols.append('SalePrice')"
   ]
  },
  {
   "cell_type": "code",
   "execution_count": 12,
   "id": "90b6108a",
   "metadata": {},
   "outputs": [
    {
     "name": "stdout",
     "output_type": "stream",
     "text": [
      "               SalePrice\n",
      "Utilities       0.014314\n",
      "Street          0.041036\n",
      "LandSlope       0.051784\n",
      "MiscFeature     0.084141\n",
      "Condition2      0.099495\n",
      "Heating         0.120155\n",
      "Functional      0.128376\n",
      "Alley           0.142855\n",
      "LotConfig       0.144981\n",
      "PoolQC          0.145588\n",
      "ExterCond       0.153680\n",
      "LandContour     0.160605\n",
      "BsmtFinType2    0.174052\n",
      "RoofMatl        0.177237\n",
      "Condition1      0.180640\n",
      "BldgType        0.185833\n",
      "Fence           0.188719\n",
      "BsmtCond        0.226706\n",
      "PavedDrive      0.233537\n",
      "RoofStyle       0.240201\n",
      "Electrical      0.244318\n",
      "CentralAir      0.251328\n",
      "LotShape        0.276362\n",
      "GarageCond      0.285213\n",
      "GarageQual      0.285344\n",
      "HouseStyle      0.293790\n",
      "MSZoning        0.327963\n",
      "SaleCondition   0.368100\n",
      "SaleType        0.370523\n",
      "BsmtExposure    0.386653\n",
      "Exterior1st     0.390862\n",
      "Exterior2nd     0.392211\n",
      "MasVnrType      0.434537\n",
      "HeatingQC       0.442154\n",
      "BsmtFinType1    0.459141\n",
      "GarageType      0.499204\n",
      "Foundation      0.506328\n",
      "FireplaceQu     0.542181\n",
      "GarageFinish    0.553059\n",
      "KitchenQual     0.675721\n",
      "BsmtQual        0.681905\n",
      "ExterQual       0.690933\n",
      "Neighborhood    0.738630\n",
      "SalePrice       1.000000\n"
     ]
    },
    {
     "data": {
      "text/plain": [
       "Text(0.5, 1.0, ' Correlations between SalePrice and categorical features.')"
      ]
     },
     "execution_count": 12,
     "metadata": {},
     "output_type": "execute_result"
    },
    {
     "data": {
      "image/png": "[encoded data removed]",
      "text/plain": [
       "<Figure size 1080x144 with 2 Axes>"
      ]
     },
     "metadata": {
      "needs_background": "light"
     },
     "output_type": "display_data"
    }
   ],
   "source": [
    "#plotting correrlation b/w categorical attributes and sale price\n",
    "\n",
    "plt.subplots(figsize=(15,2))\n",
    "categorical_corr_table = compute_associations(train_df[categorical_cols])\n",
    "print(categorical_corr_table[['SalePrice']].sort_values(by=['SalePrice']))\n",
    "sns.heatmap(categorical_corr_table[['SalePrice']].sort_values(by=['SalePrice']).T)\n",
    "plt.title(f\" Correlations between {'SalePrice'} and categorical features.\")"
   ]
  },
  {
   "cell_type": "markdown",
   "id": "799fe224",
   "metadata": {},
   "source": [
    "<br>\n",
    "<br>\n",
    "<br>\n",
    "\n",
    "Creating seperate table for numerical and categorical columns that have a correlation of more than 0.4 to SalePrice."
   ]
  },
  {
   "cell_type": "code",
   "execution_count": 13,
   "id": "765d1734",
   "metadata": {},
   "outputs": [],
   "source": [
    "num_correlated = numerical_corr_table[['SalePrice']][numerical_corr_table['SalePrice']>0.4].index.tolist()\n",
    "cat_correlated = categorical_corr_table[['SalePrice']][categorical_corr_table['SalePrice']>0.4].index.tolist()"
   ]
  },
  {
   "cell_type": "code",
   "execution_count": 14,
   "id": "35ccb959",
   "metadata": {
    "scrolled": true
   },
   "outputs": [
    {
     "data": {
      "text/plain": [
       "['OverallQual',\n",
       " 'YearBuilt',\n",
       " 'YearRemodAdd',\n",
       " 'MasVnrArea',\n",
       " 'TotalBsmtSF',\n",
       " '1stFlrSF',\n",
       " 'GrLivArea',\n",
       " 'FullBath',\n",
       " 'TotRmsAbvGrd',\n",
       " 'Fireplaces',\n",
       " 'GarageCars',\n",
       " 'GarageArea',\n",
       " 'SalePrice']"
      ]
     },
     "execution_count": 14,
     "metadata": {},
     "output_type": "execute_result"
    }
   ],
   "source": [
    "# all numerical columns that have a correlation bigger than 40%\n",
    "\n",
    "num_correlated"
   ]
  },
  {
   "cell_type": "code",
   "execution_count": 15,
   "id": "538127c6",
   "metadata": {},
   "outputs": [
    {
     "data": {
      "text/plain": [
       "['Neighborhood',\n",
       " 'MasVnrType',\n",
       " 'ExterQual',\n",
       " 'Foundation',\n",
       " 'BsmtQual',\n",
       " 'BsmtFinType1',\n",
       " 'HeatingQC',\n",
       " 'KitchenQual',\n",
       " 'FireplaceQu',\n",
       " 'GarageType',\n",
       " 'GarageFinish',\n",
       " 'SalePrice']"
      ]
     },
     "execution_count": 15,
     "metadata": {},
     "output_type": "execute_result"
    }
   ],
   "source": [
    "# all categorical columns that have a correlation bigger than 40%\n",
    "\n",
    "cat_correlated"
   ]
  },
  {
   "cell_type": "markdown",
   "id": "6e5cd7c6",
   "metadata": {},
   "source": [
    "<br>\n",
    "\n",
    "### Imputing missing values ###\n",
    "\n",
    "<br>\n",
    "<br>\n"
   ]
  },
  {
   "cell_type": "code",
   "execution_count": 16,
   "id": "d683b914",
   "metadata": {},
   "outputs": [
    {
     "name": "stdout",
     "output_type": "stream",
     "text": [
      "LotFrontage has 259 null values\n",
      "Alley has 1369 null values\n",
      "MasVnrType has 8 null values\n",
      "MasVnrArea has 8 null values\n",
      "BsmtQual has 37 null values\n",
      "BsmtCond has 37 null values\n",
      "BsmtExposure has 38 null values\n",
      "BsmtFinType1 has 37 null values\n",
      "BsmtFinType2 has 38 null values\n",
      "Electrical has 1 null values\n",
      "FireplaceQu has 690 null values\n",
      "GarageType has 81 null values\n",
      "GarageYrBlt has 81 null values\n",
      "GarageFinish has 81 null values\n",
      "GarageQual has 81 null values\n",
      "GarageCond has 81 null values\n",
      "PoolQC has 1453 null values\n",
      "Fence has 1179 null values\n",
      "MiscFeature has 1406 null values\n"
     ]
    }
   ],
   "source": [
    "#identifying null values\n",
    "\n",
    "for column in train_df:\n",
    "    if train_df[column].isnull().any():\n",
    "       print('{0} has {1} null values'.format(column, train_df[column].isnull().sum()))"
   ]
  },
  {
   "cell_type": "code",
   "execution_count": 17,
   "id": "ec037256",
   "metadata": {},
   "outputs": [
    {
     "name": "stdout",
     "output_type": "stream",
     "text": [
      "MSZoning has 4 null values\n",
      "LotFrontage has 227 null values\n",
      "Alley has 1352 null values\n",
      "Utilities has 2 null values\n",
      "Exterior1st has 1 null values\n",
      "Exterior2nd has 1 null values\n",
      "MasVnrType has 16 null values\n",
      "MasVnrArea has 15 null values\n",
      "BsmtQual has 44 null values\n",
      "BsmtCond has 45 null values\n",
      "BsmtExposure has 44 null values\n",
      "BsmtFinType1 has 42 null values\n",
      "BsmtFinSF1 has 1 null values\n",
      "BsmtFinType2 has 42 null values\n",
      "BsmtFinSF2 has 1 null values\n",
      "BsmtUnfSF has 1 null values\n",
      "TotalBsmtSF has 1 null values\n",
      "BsmtFullBath has 2 null values\n",
      "BsmtHalfBath has 2 null values\n",
      "KitchenQual has 1 null values\n",
      "Functional has 2 null values\n",
      "FireplaceQu has 730 null values\n",
      "GarageType has 76 null values\n",
      "GarageYrBlt has 78 null values\n",
      "GarageFinish has 78 null values\n",
      "GarageCars has 1 null values\n",
      "GarageArea has 1 null values\n",
      "GarageQual has 78 null values\n",
      "GarageCond has 78 null values\n",
      "PoolQC has 1456 null values\n",
      "Fence has 1169 null values\n",
      "MiscFeature has 1408 null values\n",
      "SaleType has 1 null values\n"
     ]
    }
   ],
   "source": [
    "#identifying null values\n",
    "\n",
    "for column in test_df:\n",
    "    if test_df[column].isnull().any():\n",
    "       print('{0} has {1} null values'.format(column, test_df[column].isnull().sum()))"
   ]
  },
  {
   "cell_type": "code",
   "execution_count": 18,
   "id": "5bb34d27",
   "metadata": {},
   "outputs": [],
   "source": [
    "#Dropping Alley, PoolQC, Fence, MiscFeature as it has low correlation and high missing values\n",
    "#Dropping ID column because no relevant information\n",
    "\n",
    "train_df.drop('Alley',\n",
    "  axis=1, inplace=True)\n",
    "\n",
    "train_df.drop('PoolQC',\n",
    "  axis=1, inplace=True)\n",
    "\n",
    "train_df.drop('Fence',\n",
    "  axis=1, inplace=True)\n",
    "\n",
    "train_df.drop('MiscFeature',\n",
    "  axis=1, inplace=True)\n",
    "\n",
    "train_df.drop(['Id'],axis=1,inplace=True)"
   ]
  },
  {
   "cell_type": "code",
   "execution_count": 19,
   "id": "1c1d1597",
   "metadata": {},
   "outputs": [],
   "source": [
    "#Dropping Alley, PoolQC, Fence, MiscFeature as it has low correlation and high missing values\n",
    "#Dropping ID column because no relevant information\n",
    "\n",
    "test_df.drop('Alley',\n",
    "  axis=1, inplace=True)\n",
    "\n",
    "test_df.drop('PoolQC',\n",
    "  axis=1, inplace=True)\n",
    "\n",
    "test_df.drop('Fence',\n",
    "  axis=1, inplace=True)\n",
    "\n",
    "test_df.drop('MiscFeature',\n",
    "  axis=1, inplace=True)\n",
    "\n",
    "test_df.drop(['Id'],axis=1,inplace=True)"
   ]
  },
  {
   "cell_type": "code",
   "execution_count": 20,
   "id": "facbc7ce",
   "metadata": {},
   "outputs": [
    {
     "data": {
      "text/plain": [
       "WD       1258\n",
       "New       117\n",
       "COD        44\n",
       "ConLD      17\n",
       "CWD         8\n",
       "Oth         4\n",
       "ConLI       4\n",
       "Con         3\n",
       "ConLw       3\n",
       "Name: SaleType, dtype: int64"
      ]
     },
     "execution_count": 20,
     "metadata": {},
     "output_type": "execute_result"
    }
   ],
   "source": [
    "#value counts to replace null values\n",
    "\n",
    "test_df['MSZoning'].value_counts()\n",
    "test_df['Utilities'].value_counts()\n",
    "test_df['Exterior1st'].value_counts()\n",
    "test_df['Exterior2nd'].value_counts()\n",
    "test_df['BsmtFullBath'].value_counts()\n",
    "test_df['BsmtHalfBath'].value_counts()\n",
    "test_df['KitchenQual'].value_counts()\n",
    "test_df['Functional'].value_counts()\n",
    "test_df['GarageCars'].value_counts()\n",
    "test_df['SaleType'].value_counts()"
   ]
  },
  {
   "cell_type": "code",
   "execution_count": 21,
   "id": "c80ea194",
   "metadata": {},
   "outputs": [],
   "source": [
    "#Replacing Null values with appropriate alternative\n",
    "\n",
    "train_df['LotFrontage'].fillna((train_df['LotFrontage'].median()), inplace=True)\n",
    "train_df['MasVnrType'].fillna(\"None\", inplace=True)\n",
    "train_df['MasVnrArea'].fillna((train_df['MasVnrArea'].median()), inplace=True)\n",
    "\n",
    "train_df['BsmtQual'].fillna(\"NB\", inplace=True)\n",
    "train_df['BsmtCond'].fillna(\"NB\", inplace=True)\n",
    "train_df['BsmtExposure'].fillna(\"NB\", inplace=True)\n",
    "train_df['BsmtFinType1'].fillna(\"NB\", inplace=True)\n",
    "train_df['BsmtFinType2'].fillna(\"NB\", inplace=True)\n",
    "\n",
    "train_df['FireplaceQu'].fillna(\"NF\", inplace=True)\n",
    "\n",
    "train_df['Electrical'].fillna((train_df['Electrical'].mode()[0]), inplace=True)\n",
    "\n",
    "train_df['GarageType'].fillna(\"NG\", inplace=True)\n",
    "train_df['GarageYrBlt'].fillna((train_df['MasVnrArea'].mean()), inplace=True) #to not make a big change in variance\n",
    "train_df['GarageFinish'].fillna(\"NG\", inplace=True)\n",
    "train_df['GarageQual'].fillna(\"NG\", inplace=True)\n",
    "train_df['GarageCond'].fillna(\"NG\", inplace=True)\n",
    "train_df['Electrical'].fillna(\"SBrkr\", inplace=True)"
   ]
  },
  {
   "cell_type": "code",
   "execution_count": 22,
   "id": "5a62dee9",
   "metadata": {},
   "outputs": [],
   "source": [
    "#Replacing Null values with appropriate alternative\n",
    "\n",
    "test_df['LotFrontage'].fillna((test_df['LotFrontage'].median()), inplace=True)\n",
    "test_df['MasVnrType'].fillna(\"None\", inplace=True)\n",
    "test_df['MasVnrArea'].fillna((test_df['MasVnrArea'].median()), inplace=True)\n",
    "test_df['MSZoning'].fillna(\"RL\", inplace=True)\n",
    "test_df['Utilities'].fillna(\"AllPub\", inplace=True)\n",
    "\n",
    "test_df['BsmtQual'].fillna(\"NB\", inplace=True)\n",
    "test_df['BsmtCond'].fillna(\"NB\", inplace=True)\n",
    "test_df['BsmtExposure'].fillna(\"NB\", inplace=True)\n",
    "test_df['BsmtFinType1'].fillna(\"NB\", inplace=True)\n",
    "test_df['BsmtFinType2'].fillna(\"NB\", inplace=True)\n",
    "test_df['GarageYrBlt'].fillna((test_df['MasVnrArea'].mean()), inplace=True)\n",
    "\n",
    "test_df['BsmtFinSF1'].fillna((test_df['BsmtFinSF1'].mean()), inplace=True)\n",
    "test_df['BsmtFinSF2'].fillna((test_df['BsmtFinSF2'].mean()), inplace=True)\n",
    "test_df['BsmtUnfSF'].fillna((test_df['BsmtUnfSF'].mean()), inplace=True)\n",
    "test_df['TotalBsmtSF'].fillna((test_df['TotalBsmtSF'].mean()), inplace=True)\n",
    "\n",
    "test_df['BsmtFullBath'].fillna(0, inplace=True)\n",
    "test_df['BsmtHalfBath'].fillna(0, inplace=True)\n",
    "\n",
    "test_df['KitchenQual'].fillna(\"TA\", inplace=True)\n",
    "\n",
    "test_df['Functional'].fillna(\"Typ\", inplace=True)\n",
    "\n",
    "test_df['GarageCars'].fillna(2, inplace=True)\n",
    "test_df['GarageArea'].fillna((test_df['GarageArea'].mean()), inplace=True)\n",
    "\n",
    "test_df['SaleType'].fillna(\"WD\", inplace=True)\n",
    "\n",
    "test_df['Exterior1st'].fillna(\"VinylSd\", inplace=True)\n",
    "test_df['Exterior2nd'].fillna(\"VinylSd\", inplace=True)\n",
    "\n",
    "test_df['FireplaceQu'].fillna(\"NF\", inplace=True)\n",
    "\n",
    "test_df['GarageType'].fillna(\"NG\", inplace=True)\n",
    "test_df['GarageYrBlt'].fillna((test_df['GarageYrBlt'].mean()), inplace=True) #to not make a big change in variance\n",
    "test_df['GarageFinish'].fillna(\"NG\", inplace=True)\n",
    "test_df['GarageQual'].fillna(\"NG\", inplace=True)\n",
    "test_df['GarageCond'].fillna(\"NG\", inplace=True)"
   ]
  },
  {
   "cell_type": "markdown",
   "id": "58f1a4a6",
   "metadata": {},
   "source": [
    "<br>\n",
    "<br>\n",
    "\n",
    "After imputation checking no. of missing values again."
   ]
  },
  {
   "cell_type": "code",
   "execution_count": 23,
   "id": "7368e213",
   "metadata": {},
   "outputs": [],
   "source": [
    "#recheck null values\n",
    "\n",
    "for column in train_df:\n",
    "    if train_df[column].isnull().any():\n",
    "       print('{0} has {1} null values'.format(column, train_df[column].isnull().sum()))"
   ]
  },
  {
   "cell_type": "code",
   "execution_count": 24,
   "id": "0bbec6d3",
   "metadata": {},
   "outputs": [],
   "source": [
    "#recheck null values\n",
    "\n",
    "for column in test_df:\n",
    "    if test_df[column].isnull().any():\n",
    "       print('{0} has {1} null values'.format(column, test_df[column].isnull().sum()))"
   ]
  },
  {
   "cell_type": "markdown",
   "id": "773da79b",
   "metadata": {},
   "source": [
    "Every missing value has been taken care of."
   ]
  },
  {
   "cell_type": "markdown",
   "id": "7552fa86",
   "metadata": {},
   "source": [
    "<br>\n",
    "<br>\n",
    "\n",
    "### Removing outliers\n",
    "\n",
    "<br>"
   ]
  },
  {
   "cell_type": "markdown",
   "id": "42cdb05d",
   "metadata": {},
   "source": [
    "Plotting scatter plots for all numerical features"
   ]
  },
  {
   "cell_type": "code",
   "execution_count": 25,
   "id": "d13d4391",
   "metadata": {},
   "outputs": [
    {
     "data": {
      "text/plain": [
       "<seaborn.axisgrid.PairGrid at 0x1484e94b340>"
      ]
     },
     "execution_count": 25,
     "metadata": {},
     "output_type": "execute_result"
    },
    {
     "data": {
      "image/png": "[encoded data removed]",
      "text/plain": [
       "<Figure size 720x180 with 4 Axes>"
      ]
     },
     "metadata": {
      "needs_background": "light"
     },
     "output_type": "display_data"
    },
    {
     "data": {
      "image/png": "[encoded data removed]",
      "text/plain": [
       "<Figure size 720x180 with 4 Axes>"
      ]
     },
     "metadata": {
      "needs_background": "light"
     },
     "output_type": "display_data"
    },
    {
     "data": {
      "image/png": "[encoded data removed]",
      "text/plain": [
       "<Figure size 720x180 with 4 Axes>"
      ]
     },
     "metadata": {
      "needs_background": "light"
     },
     "output_type": "display_data"
    }
   ],
   "source": [
    "sns.pairplot(train_df,x_vars=['OverallQual',\n",
    " 'YearBuilt',\n",
    " 'YearRemodAdd',\n",
    " 'MasVnrArea'], y_vars=[\"SalePrice\"], kind=\"scatter\")\n",
    "sns.pairplot(train_df,x_vars=['TotalBsmtSF',\n",
    " '1stFlrSF',\n",
    " 'GrLivArea',\n",
    " 'FullBath'], y_vars=[\"SalePrice\"], kind=\"scatter\")\n",
    "sns.pairplot(train_df,x_vars=['TotRmsAbvGrd',\n",
    " 'Fireplaces',\n",
    " 'GarageCars',\n",
    " 'GarageArea'], y_vars=[\"SalePrice\"], kind=\"scatter\")"
   ]
  },
  {
   "cell_type": "markdown",
   "id": "31492f78",
   "metadata": {},
   "source": [
    "We can see that there are outliers for thee variables - TotalBsmtSF, 1stFlrSF, and GrLivArea. Next will remove outliers"
   ]
  },
  {
   "cell_type": "code",
   "execution_count": 26,
   "id": "0c1f89f0",
   "metadata": {},
   "outputs": [
    {
     "data": {
      "text/plain": [
       "(1453, 76)"
      ]
     },
     "execution_count": 26,
     "metadata": {},
     "output_type": "execute_result"
    }
   ],
   "source": [
    "#Outliers in TotalBsmtSF, 1stFlrSF and GrlivArea\n",
    "#removing outliers:\n",
    "train_df= train_df[train_df[\"TotalBsmtSF\"]<3000]\n",
    "train_df= train_df[train_df[\"1stFlrSF\"]<3000]\n",
    "train_df= train_df[train_df[\"GrLivArea\"]<4000]\n",
    "train_df.shape #lost 7 rows"
   ]
  },
  {
   "cell_type": "markdown",
   "id": "378efde3",
   "metadata": {},
   "source": [
    "Plotting again to see the result"
   ]
  },
  {
   "cell_type": "code",
   "execution_count": 27,
   "id": "d17d2462",
   "metadata": {},
   "outputs": [
    {
     "data": {
      "text/plain": [
       "<seaborn.axisgrid.PairGrid at 0x1484fc28a90>"
      ]
     },
     "execution_count": 27,
     "metadata": {},
     "output_type": "execute_result"
    },
    {
     "data": {
      "image/png": "[encoded data removed]",
      "text/plain": [
       "<Figure size 540x180 with 3 Axes>"
      ]
     },
     "metadata": {
      "needs_background": "light"
     },
     "output_type": "display_data"
    }
   ],
   "source": [
    "sns.pairplot(train_df,x_vars=['TotalBsmtSF',\n",
    " '1stFlrSF',\n",
    " 'GrLivArea',], y_vars=[\"SalePrice\"], kind=\"scatter\")"
   ]
  },
  {
   "cell_type": "markdown",
   "id": "9e03f800",
   "metadata": {},
   "source": [
    "<br>\n",
    "<br>\n",
    "\n",
    "### Preparing train and test to be joined\n",
    "\n",
    "<br>"
   ]
  },
  {
   "cell_type": "code",
   "execution_count": 28,
   "id": "1d8aa188",
   "metadata": {},
   "outputs": [],
   "source": [
    "#creating copy of train and test with only features that have higher than 0.4 correlation\n",
    "\n",
    "traincopy = train_df.copy()\n",
    "testcopy = test_df.copy()"
   ]
  },
  {
   "cell_type": "code",
   "execution_count": 29,
   "id": "472224dc",
   "metadata": {},
   "outputs": [],
   "source": [
    "#only leaving values that have higher than 0.4 correlation, dropping everything else\n",
    "\n",
    "traincopy.drop(['MSSubClass',\n",
    " 'LotFrontage',\n",
    " 'LotArea',\n",
    " 'OverallCond',\n",
    " 'BsmtFinSF1',\n",
    " 'BsmtFinSF2',\n",
    " 'BsmtUnfSF',\n",
    " '2ndFlrSF',\n",
    " 'LowQualFinSF',\n",
    " 'BsmtFullBath',\n",
    " 'BsmtHalfBath',\n",
    " 'HalfBath',\n",
    " 'BedroomAbvGr',\n",
    " 'KitchenAbvGr',\n",
    " 'GarageYrBlt',\n",
    " 'WoodDeckSF',\n",
    " 'OpenPorchSF',\n",
    " 'EnclosedPorch',\n",
    " '3SsnPorch',\n",
    " 'ScreenPorch',\n",
    " 'PoolArea',\n",
    " 'MiscVal',\n",
    " 'MoSold',\n",
    " 'YrSold',\n",
    "\"MSZoning\",\n",
    "\"Street\", \n",
    "\"LotShape\",\n",
    "\"LandContour\", \n",
    "\"Utilities\",\n",
    "\"LotConfig\",\n",
    "\"LandSlope\",\n",
    "\"Condition1\",\n",
    "\"Condition2\",\n",
    "\"BldgType\",\n",
    "\"HouseStyle\",\n",
    "\"RoofStyle\",\n",
    "\"RoofMatl\",\n",
    "\"Exterior1st\",\n",
    "\"Exterior2nd\",\n",
    "\"ExterCond\",\n",
    "\"BsmtCond\",\n",
    "\"BsmtExposure\",\n",
    "\"BsmtFinType2\",\n",
    "\"Heating\",\n",
    "\"CentralAir\",\n",
    "\"Electrical\",\n",
    "\"Functional\",\n",
    "\"GarageQual\",\n",
    "\"GarageCond\",\n",
    "\"PavedDrive\",\n",
    "\"SaleType\",\n",
    "\"SaleCondition\"], axis=1, inplace = True)\n",
    "\n",
    "testcopy.drop(['MSSubClass',\n",
    " 'LotFrontage',\n",
    " 'LotArea',\n",
    " 'OverallCond',\n",
    " 'BsmtFinSF1',\n",
    " 'BsmtFinSF2',\n",
    " 'BsmtUnfSF',\n",
    " '2ndFlrSF',\n",
    " 'LowQualFinSF',\n",
    " 'BsmtFullBath',\n",
    " 'BsmtHalfBath',\n",
    " 'HalfBath',\n",
    " 'BedroomAbvGr',\n",
    " 'KitchenAbvGr',\n",
    " 'GarageYrBlt',\n",
    " 'WoodDeckSF',\n",
    " 'OpenPorchSF',\n",
    " 'EnclosedPorch',\n",
    " '3SsnPorch',\n",
    " 'ScreenPorch',\n",
    " 'PoolArea',\n",
    " 'MiscVal',\n",
    " 'MoSold',\n",
    " 'YrSold',\n",
    "\"MSZoning\",\n",
    "\"Street\", \n",
    "\"LotShape\",\n",
    "\"LandContour\", \n",
    "\"Utilities\",\n",
    "\"LotConfig\",\n",
    "\"LandSlope\",\n",
    "\"Condition1\",\n",
    "\"Condition2\",\n",
    "\"BldgType\",\n",
    "\"HouseStyle\",\n",
    "\"RoofStyle\",\n",
    "\"RoofMatl\",\n",
    "\"Exterior1st\",\n",
    "\"Exterior2nd\",\n",
    "\"ExterCond\",\n",
    "\"BsmtCond\",\n",
    "\"BsmtExposure\",\n",
    "\"BsmtFinType2\",\n",
    "\"Heating\",\n",
    "\"CentralAir\",\n",
    "\"Electrical\",\n",
    "\"Functional\",\n",
    "\"GarageQual\",\n",
    "\"GarageCond\",\n",
    "\"PavedDrive\",\n",
    "\"SaleType\",\n",
    "\"SaleCondition\"], axis=1, inplace = True)"
   ]
  },
  {
   "cell_type": "code",
   "execution_count": 30,
   "id": "1baabf48",
   "metadata": {},
   "outputs": [
    {
     "data": {
      "text/plain": [
       "(1453, 24)"
      ]
     },
     "execution_count": 30,
     "metadata": {},
     "output_type": "execute_result"
    }
   ],
   "source": [
    "traincopy.shape"
   ]
  },
  {
   "cell_type": "code",
   "execution_count": 31,
   "id": "2aa0dccf",
   "metadata": {},
   "outputs": [
    {
     "data": {
      "text/html": [
       "<div>\n",
       "<style scoped>\n",
       "    .dataframe tbody tr th:only-of-type {\n",
       "        vertical-align: middle;\n",
       "    }\n",
       "\n",
       "    .dataframe tbody tr th {\n",
       "        vertical-align: top;\n",
       "    }\n",
       "\n",
       "    .dataframe thead th {\n",
       "        text-align: right;\n",
       "    }\n",
       "</style>\n",
       "<table border=\"1\" class=\"dataframe\">\n",
       "  <thead>\n",
       "    <tr style=\"text-align: right;\">\n",
       "      <th></th>\n",
       "      <th>Neighborhood</th>\n",
       "      <th>OverallQual</th>\n",
       "      <th>YearBuilt</th>\n",
       "      <th>YearRemodAdd</th>\n",
       "      <th>MasVnrType</th>\n",
       "      <th>MasVnrArea</th>\n",
       "      <th>ExterQual</th>\n",
       "      <th>Foundation</th>\n",
       "      <th>BsmtQual</th>\n",
       "      <th>BsmtFinType1</th>\n",
       "      <th>...</th>\n",
       "      <th>FullBath</th>\n",
       "      <th>KitchenQual</th>\n",
       "      <th>TotRmsAbvGrd</th>\n",
       "      <th>Fireplaces</th>\n",
       "      <th>FireplaceQu</th>\n",
       "      <th>GarageType</th>\n",
       "      <th>GarageFinish</th>\n",
       "      <th>GarageCars</th>\n",
       "      <th>GarageArea</th>\n",
       "      <th>SalePrice</th>\n",
       "    </tr>\n",
       "  </thead>\n",
       "  <tbody>\n",
       "    <tr>\n",
       "      <th>0</th>\n",
       "      <td>CollgCr</td>\n",
       "      <td>7</td>\n",
       "      <td>2003</td>\n",
       "      <td>2003</td>\n",
       "      <td>BrkFace</td>\n",
       "      <td>196.0</td>\n",
       "      <td>Gd</td>\n",
       "      <td>PConc</td>\n",
       "      <td>Gd</td>\n",
       "      <td>GLQ</td>\n",
       "      <td>...</td>\n",
       "      <td>2</td>\n",
       "      <td>Gd</td>\n",
       "      <td>8</td>\n",
       "      <td>0</td>\n",
       "      <td>NF</td>\n",
       "      <td>Attchd</td>\n",
       "      <td>RFn</td>\n",
       "      <td>2</td>\n",
       "      <td>548</td>\n",
       "      <td>208500</td>\n",
       "    </tr>\n",
       "    <tr>\n",
       "      <th>1</th>\n",
       "      <td>Veenker</td>\n",
       "      <td>6</td>\n",
       "      <td>1976</td>\n",
       "      <td>1976</td>\n",
       "      <td>None</td>\n",
       "      <td>0.0</td>\n",
       "      <td>TA</td>\n",
       "      <td>CBlock</td>\n",
       "      <td>Gd</td>\n",
       "      <td>ALQ</td>\n",
       "      <td>...</td>\n",
       "      <td>2</td>\n",
       "      <td>TA</td>\n",
       "      <td>6</td>\n",
       "      <td>1</td>\n",
       "      <td>TA</td>\n",
       "      <td>Attchd</td>\n",
       "      <td>RFn</td>\n",
       "      <td>2</td>\n",
       "      <td>460</td>\n",
       "      <td>181500</td>\n",
       "    </tr>\n",
       "    <tr>\n",
       "      <th>2</th>\n",
       "      <td>CollgCr</td>\n",
       "      <td>7</td>\n",
       "      <td>2001</td>\n",
       "      <td>2002</td>\n",
       "      <td>BrkFace</td>\n",
       "      <td>162.0</td>\n",
       "      <td>Gd</td>\n",
       "      <td>PConc</td>\n",
       "      <td>Gd</td>\n",
       "      <td>GLQ</td>\n",
       "      <td>...</td>\n",
       "      <td>2</td>\n",
       "      <td>Gd</td>\n",
       "      <td>6</td>\n",
       "      <td>1</td>\n",
       "      <td>TA</td>\n",
       "      <td>Attchd</td>\n",
       "      <td>RFn</td>\n",
       "      <td>2</td>\n",
       "      <td>608</td>\n",
       "      <td>223500</td>\n",
       "    </tr>\n",
       "    <tr>\n",
       "      <th>3</th>\n",
       "      <td>Crawfor</td>\n",
       "      <td>7</td>\n",
       "      <td>1915</td>\n",
       "      <td>1970</td>\n",
       "      <td>None</td>\n",
       "      <td>0.0</td>\n",
       "      <td>TA</td>\n",
       "      <td>BrkTil</td>\n",
       "      <td>TA</td>\n",
       "      <td>ALQ</td>\n",
       "      <td>...</td>\n",
       "      <td>1</td>\n",
       "      <td>Gd</td>\n",
       "      <td>7</td>\n",
       "      <td>1</td>\n",
       "      <td>Gd</td>\n",
       "      <td>Detchd</td>\n",
       "      <td>Unf</td>\n",
       "      <td>3</td>\n",
       "      <td>642</td>\n",
       "      <td>140000</td>\n",
       "    </tr>\n",
       "    <tr>\n",
       "      <th>4</th>\n",
       "      <td>NoRidge</td>\n",
       "      <td>8</td>\n",
       "      <td>2000</td>\n",
       "      <td>2000</td>\n",
       "      <td>BrkFace</td>\n",
       "      <td>350.0</td>\n",
       "      <td>Gd</td>\n",
       "      <td>PConc</td>\n",
       "      <td>Gd</td>\n",
       "      <td>GLQ</td>\n",
       "      <td>...</td>\n",
       "      <td>2</td>\n",
       "      <td>Gd</td>\n",
       "      <td>9</td>\n",
       "      <td>1</td>\n",
       "      <td>TA</td>\n",
       "      <td>Attchd</td>\n",
       "      <td>RFn</td>\n",
       "      <td>3</td>\n",
       "      <td>836</td>\n",
       "      <td>250000</td>\n",
       "    </tr>\n",
       "  </tbody>\n",
       "</table>\n",
       "<p>5 rows × 24 columns</p>\n",
       "</div>"
      ],
      "text/plain": [
       "  Neighborhood  OverallQual  YearBuilt  YearRemodAdd MasVnrType  MasVnrArea  \\\n",
       "0      CollgCr            7       2003          2003    BrkFace       196.0   \n",
       "1      Veenker            6       1976          1976       None         0.0   \n",
       "2      CollgCr            7       2001          2002    BrkFace       162.0   \n",
       "3      Crawfor            7       1915          1970       None         0.0   \n",
       "4      NoRidge            8       2000          2000    BrkFace       350.0   \n",
       "\n",
       "  ExterQual Foundation BsmtQual BsmtFinType1  ...  FullBath KitchenQual  \\\n",
       "0        Gd      PConc       Gd          GLQ  ...         2          Gd   \n",
       "1        TA     CBlock       Gd          ALQ  ...         2          TA   \n",
       "2        Gd      PConc       Gd          GLQ  ...         2          Gd   \n",
       "3        TA     BrkTil       TA          ALQ  ...         1          Gd   \n",
       "4        Gd      PConc       Gd          GLQ  ...         2          Gd   \n",
       "\n",
       "   TotRmsAbvGrd  Fireplaces  FireplaceQu GarageType  GarageFinish  GarageCars  \\\n",
       "0             8           0           NF     Attchd           RFn           2   \n",
       "1             6           1           TA     Attchd           RFn           2   \n",
       "2             6           1           TA     Attchd           RFn           2   \n",
       "3             7           1           Gd     Detchd           Unf           3   \n",
       "4             9           1           TA     Attchd           RFn           3   \n",
       "\n",
       "  GarageArea SalePrice  \n",
       "0        548    208500  \n",
       "1        460    181500  \n",
       "2        608    223500  \n",
       "3        642    140000  \n",
       "4        836    250000  \n",
       "\n",
       "[5 rows x 24 columns]"
      ]
     },
     "execution_count": 31,
     "metadata": {},
     "output_type": "execute_result"
    }
   ],
   "source": [
    "traincopy.head()"
   ]
  },
  {
   "cell_type": "code",
   "execution_count": 32,
   "id": "80e7a1ee",
   "metadata": {},
   "outputs": [],
   "source": [
    "# making copies of train and test and joining them into one dataset\n",
    "\n",
    "df1 = traincopy.copy()\n",
    "df1['source'] = 'train'\n",
    "df2 = testcopy.copy()\n",
    "df2['source'] = 'test'\n",
    "\n",
    "data = pd.concat([df1, df2])"
   ]
  },
  {
   "cell_type": "markdown",
   "id": "d750983b",
   "metadata": {},
   "source": [
    "<br>\n",
    "\n",
    "## Getting dummy values\n",
    "\n",
    "<br>"
   ]
  },
  {
   "cell_type": "code",
   "execution_count": 33,
   "id": "aff981b1",
   "metadata": {},
   "outputs": [
    {
     "data": {
      "text/plain": [
       "['Neighborhood',\n",
       " 'MasVnrType',\n",
       " 'ExterQual',\n",
       " 'Foundation',\n",
       " 'BsmtQual',\n",
       " 'BsmtFinType1',\n",
       " 'HeatingQC',\n",
       " 'KitchenQual',\n",
       " 'FireplaceQu',\n",
       " 'GarageType',\n",
       " 'GarageFinish']"
      ]
     },
     "execution_count": 33,
     "metadata": {},
     "output_type": "execute_result"
    }
   ],
   "source": [
    "testcopy.select_dtypes(include=['object']).columns.tolist()"
   ]
  },
  {
   "cell_type": "code",
   "execution_count": 34,
   "id": "c5014164",
   "metadata": {},
   "outputs": [],
   "source": [
    "g = data.columns.to_series().groupby(data.dtypes).groups\n",
    "data_dum = pd.get_dummies(data, columns=['Neighborhood',\n",
    " 'MasVnrType',\n",
    " 'ExterQual',\n",
    " 'Foundation',\n",
    " 'BsmtQual',\n",
    " 'BsmtFinType1',\n",
    " 'HeatingQC',\n",
    " 'KitchenQual',\n",
    " 'FireplaceQu',\n",
    " 'GarageType',\n",
    " 'GarageFinish'])"
   ]
  },
  {
   "cell_type": "code",
   "execution_count": 35,
   "id": "3e6ea0f5",
   "metadata": {},
   "outputs": [],
   "source": [
    "train = data_dum[data_dum[\"source\"] == \"train\"]\n",
    "test = data_dum[data_dum[\"source\"] == \"test\"]"
   ]
  },
  {
   "cell_type": "code",
   "execution_count": 36,
   "id": "80e27dcb",
   "metadata": {},
   "outputs": [
    {
     "data": {
      "text/html": [
       "<div>\n",
       "<style scoped>\n",
       "    .dataframe tbody tr th:only-of-type {\n",
       "        vertical-align: middle;\n",
       "    }\n",
       "\n",
       "    .dataframe tbody tr th {\n",
       "        vertical-align: top;\n",
       "    }\n",
       "\n",
       "    .dataframe thead th {\n",
       "        text-align: right;\n",
       "    }\n",
       "</style>\n",
       "<table border=\"1\" class=\"dataframe\">\n",
       "  <thead>\n",
       "    <tr style=\"text-align: right;\">\n",
       "      <th></th>\n",
       "      <th>OverallQual</th>\n",
       "      <th>YearBuilt</th>\n",
       "      <th>YearRemodAdd</th>\n",
       "      <th>MasVnrArea</th>\n",
       "      <th>TotalBsmtSF</th>\n",
       "      <th>1stFlrSF</th>\n",
       "      <th>GrLivArea</th>\n",
       "      <th>FullBath</th>\n",
       "      <th>TotRmsAbvGrd</th>\n",
       "      <th>Fireplaces</th>\n",
       "      <th>...</th>\n",
       "      <th>GarageType_Attchd</th>\n",
       "      <th>GarageType_Basment</th>\n",
       "      <th>GarageType_BuiltIn</th>\n",
       "      <th>GarageType_CarPort</th>\n",
       "      <th>GarageType_Detchd</th>\n",
       "      <th>GarageType_NG</th>\n",
       "      <th>GarageFinish_Fin</th>\n",
       "      <th>GarageFinish_NG</th>\n",
       "      <th>GarageFinish_RFn</th>\n",
       "      <th>GarageFinish_Unf</th>\n",
       "    </tr>\n",
       "  </thead>\n",
       "  <tbody>\n",
       "    <tr>\n",
       "      <th>0</th>\n",
       "      <td>7</td>\n",
       "      <td>2003</td>\n",
       "      <td>2003</td>\n",
       "      <td>196.0</td>\n",
       "      <td>856.0</td>\n",
       "      <td>856</td>\n",
       "      <td>1710</td>\n",
       "      <td>2</td>\n",
       "      <td>8</td>\n",
       "      <td>0</td>\n",
       "      <td>...</td>\n",
       "      <td>1</td>\n",
       "      <td>0</td>\n",
       "      <td>0</td>\n",
       "      <td>0</td>\n",
       "      <td>0</td>\n",
       "      <td>0</td>\n",
       "      <td>0</td>\n",
       "      <td>0</td>\n",
       "      <td>1</td>\n",
       "      <td>0</td>\n",
       "    </tr>\n",
       "    <tr>\n",
       "      <th>1</th>\n",
       "      <td>6</td>\n",
       "      <td>1976</td>\n",
       "      <td>1976</td>\n",
       "      <td>0.0</td>\n",
       "      <td>1262.0</td>\n",
       "      <td>1262</td>\n",
       "      <td>1262</td>\n",
       "      <td>2</td>\n",
       "      <td>6</td>\n",
       "      <td>1</td>\n",
       "      <td>...</td>\n",
       "      <td>1</td>\n",
       "      <td>0</td>\n",
       "      <td>0</td>\n",
       "      <td>0</td>\n",
       "      <td>0</td>\n",
       "      <td>0</td>\n",
       "      <td>0</td>\n",
       "      <td>0</td>\n",
       "      <td>1</td>\n",
       "      <td>0</td>\n",
       "    </tr>\n",
       "    <tr>\n",
       "      <th>2</th>\n",
       "      <td>7</td>\n",
       "      <td>2001</td>\n",
       "      <td>2002</td>\n",
       "      <td>162.0</td>\n",
       "      <td>920.0</td>\n",
       "      <td>920</td>\n",
       "      <td>1786</td>\n",
       "      <td>2</td>\n",
       "      <td>6</td>\n",
       "      <td>1</td>\n",
       "      <td>...</td>\n",
       "      <td>1</td>\n",
       "      <td>0</td>\n",
       "      <td>0</td>\n",
       "      <td>0</td>\n",
       "      <td>0</td>\n",
       "      <td>0</td>\n",
       "      <td>0</td>\n",
       "      <td>0</td>\n",
       "      <td>1</td>\n",
       "      <td>0</td>\n",
       "    </tr>\n",
       "    <tr>\n",
       "      <th>3</th>\n",
       "      <td>7</td>\n",
       "      <td>1915</td>\n",
       "      <td>1970</td>\n",
       "      <td>0.0</td>\n",
       "      <td>756.0</td>\n",
       "      <td>961</td>\n",
       "      <td>1717</td>\n",
       "      <td>1</td>\n",
       "      <td>7</td>\n",
       "      <td>1</td>\n",
       "      <td>...</td>\n",
       "      <td>0</td>\n",
       "      <td>0</td>\n",
       "      <td>0</td>\n",
       "      <td>0</td>\n",
       "      <td>1</td>\n",
       "      <td>0</td>\n",
       "      <td>0</td>\n",
       "      <td>0</td>\n",
       "      <td>0</td>\n",
       "      <td>1</td>\n",
       "    </tr>\n",
       "    <tr>\n",
       "      <th>4</th>\n",
       "      <td>8</td>\n",
       "      <td>2000</td>\n",
       "      <td>2000</td>\n",
       "      <td>350.0</td>\n",
       "      <td>1145.0</td>\n",
       "      <td>1145</td>\n",
       "      <td>2198</td>\n",
       "      <td>2</td>\n",
       "      <td>9</td>\n",
       "      <td>1</td>\n",
       "      <td>...</td>\n",
       "      <td>1</td>\n",
       "      <td>0</td>\n",
       "      <td>0</td>\n",
       "      <td>0</td>\n",
       "      <td>0</td>\n",
       "      <td>0</td>\n",
       "      <td>0</td>\n",
       "      <td>0</td>\n",
       "      <td>1</td>\n",
       "      <td>0</td>\n",
       "    </tr>\n",
       "  </tbody>\n",
       "</table>\n",
       "<p>5 rows × 91 columns</p>\n",
       "</div>"
      ],
      "text/plain": [
       "   OverallQual  YearBuilt  YearRemodAdd  MasVnrArea  TotalBsmtSF  1stFlrSF  \\\n",
       "0            7       2003          2003       196.0        856.0       856   \n",
       "1            6       1976          1976         0.0       1262.0      1262   \n",
       "2            7       2001          2002       162.0        920.0       920   \n",
       "3            7       1915          1970         0.0        756.0       961   \n",
       "4            8       2000          2000       350.0       1145.0      1145   \n",
       "\n",
       "   GrLivArea  FullBath  TotRmsAbvGrd  Fireplaces  ...  GarageType_Attchd  \\\n",
       "0       1710         2             8           0  ...                  1   \n",
       "1       1262         2             6           1  ...                  1   \n",
       "2       1786         2             6           1  ...                  1   \n",
       "3       1717         1             7           1  ...                  0   \n",
       "4       2198         2             9           1  ...                  1   \n",
       "\n",
       "   GarageType_Basment  GarageType_BuiltIn GarageType_CarPort  \\\n",
       "0                   0                   0                  0   \n",
       "1                   0                   0                  0   \n",
       "2                   0                   0                  0   \n",
       "3                   0                   0                  0   \n",
       "4                   0                   0                  0   \n",
       "\n",
       "   GarageType_Detchd  GarageType_NG  GarageFinish_Fin  GarageFinish_NG  \\\n",
       "0                  0              0                 0                0   \n",
       "1                  0              0                 0                0   \n",
       "2                  0              0                 0                0   \n",
       "3                  1              0                 0                0   \n",
       "4                  0              0                 0                0   \n",
       "\n",
       "   GarageFinish_RFn  GarageFinish_Unf  \n",
       "0                 1                 0  \n",
       "1                 1                 0  \n",
       "2                 1                 0  \n",
       "3                 0                 1  \n",
       "4                 1                 0  \n",
       "\n",
       "[5 rows x 91 columns]"
      ]
     },
     "execution_count": 36,
     "metadata": {},
     "output_type": "execute_result"
    }
   ],
   "source": [
    "# checking train after getting dummies\n",
    "\n",
    "train.head()"
   ]
  },
  {
   "cell_type": "code",
   "execution_count": 37,
   "id": "53c24a1b",
   "metadata": {
    "scrolled": true
   },
   "outputs": [
    {
     "data": {
      "text/html": [
       "<div>\n",
       "<style scoped>\n",
       "    .dataframe tbody tr th:only-of-type {\n",
       "        vertical-align: middle;\n",
       "    }\n",
       "\n",
       "    .dataframe tbody tr th {\n",
       "        vertical-align: top;\n",
       "    }\n",
       "\n",
       "    .dataframe thead th {\n",
       "        text-align: right;\n",
       "    }\n",
       "</style>\n",
       "<table border=\"1\" class=\"dataframe\">\n",
       "  <thead>\n",
       "    <tr style=\"text-align: right;\">\n",
       "      <th></th>\n",
       "      <th>OverallQual</th>\n",
       "      <th>YearBuilt</th>\n",
       "      <th>YearRemodAdd</th>\n",
       "      <th>MasVnrArea</th>\n",
       "      <th>TotalBsmtSF</th>\n",
       "      <th>1stFlrSF</th>\n",
       "      <th>GrLivArea</th>\n",
       "      <th>FullBath</th>\n",
       "      <th>TotRmsAbvGrd</th>\n",
       "      <th>Fireplaces</th>\n",
       "      <th>...</th>\n",
       "      <th>GarageType_Attchd</th>\n",
       "      <th>GarageType_Basment</th>\n",
       "      <th>GarageType_BuiltIn</th>\n",
       "      <th>GarageType_CarPort</th>\n",
       "      <th>GarageType_Detchd</th>\n",
       "      <th>GarageType_NG</th>\n",
       "      <th>GarageFinish_Fin</th>\n",
       "      <th>GarageFinish_NG</th>\n",
       "      <th>GarageFinish_RFn</th>\n",
       "      <th>GarageFinish_Unf</th>\n",
       "    </tr>\n",
       "  </thead>\n",
       "  <tbody>\n",
       "    <tr>\n",
       "      <th>0</th>\n",
       "      <td>5</td>\n",
       "      <td>1961</td>\n",
       "      <td>1961</td>\n",
       "      <td>0.0</td>\n",
       "      <td>882.0</td>\n",
       "      <td>896</td>\n",
       "      <td>896</td>\n",
       "      <td>1</td>\n",
       "      <td>5</td>\n",
       "      <td>0</td>\n",
       "      <td>...</td>\n",
       "      <td>1</td>\n",
       "      <td>0</td>\n",
       "      <td>0</td>\n",
       "      <td>0</td>\n",
       "      <td>0</td>\n",
       "      <td>0</td>\n",
       "      <td>0</td>\n",
       "      <td>0</td>\n",
       "      <td>0</td>\n",
       "      <td>1</td>\n",
       "    </tr>\n",
       "    <tr>\n",
       "      <th>1</th>\n",
       "      <td>6</td>\n",
       "      <td>1958</td>\n",
       "      <td>1958</td>\n",
       "      <td>108.0</td>\n",
       "      <td>1329.0</td>\n",
       "      <td>1329</td>\n",
       "      <td>1329</td>\n",
       "      <td>1</td>\n",
       "      <td>6</td>\n",
       "      <td>0</td>\n",
       "      <td>...</td>\n",
       "      <td>1</td>\n",
       "      <td>0</td>\n",
       "      <td>0</td>\n",
       "      <td>0</td>\n",
       "      <td>0</td>\n",
       "      <td>0</td>\n",
       "      <td>0</td>\n",
       "      <td>0</td>\n",
       "      <td>0</td>\n",
       "      <td>1</td>\n",
       "    </tr>\n",
       "    <tr>\n",
       "      <th>2</th>\n",
       "      <td>5</td>\n",
       "      <td>1997</td>\n",
       "      <td>1998</td>\n",
       "      <td>0.0</td>\n",
       "      <td>928.0</td>\n",
       "      <td>928</td>\n",
       "      <td>1629</td>\n",
       "      <td>2</td>\n",
       "      <td>6</td>\n",
       "      <td>1</td>\n",
       "      <td>...</td>\n",
       "      <td>1</td>\n",
       "      <td>0</td>\n",
       "      <td>0</td>\n",
       "      <td>0</td>\n",
       "      <td>0</td>\n",
       "      <td>0</td>\n",
       "      <td>1</td>\n",
       "      <td>0</td>\n",
       "      <td>0</td>\n",
       "      <td>0</td>\n",
       "    </tr>\n",
       "    <tr>\n",
       "      <th>3</th>\n",
       "      <td>6</td>\n",
       "      <td>1998</td>\n",
       "      <td>1998</td>\n",
       "      <td>20.0</td>\n",
       "      <td>926.0</td>\n",
       "      <td>926</td>\n",
       "      <td>1604</td>\n",
       "      <td>2</td>\n",
       "      <td>7</td>\n",
       "      <td>1</td>\n",
       "      <td>...</td>\n",
       "      <td>1</td>\n",
       "      <td>0</td>\n",
       "      <td>0</td>\n",
       "      <td>0</td>\n",
       "      <td>0</td>\n",
       "      <td>0</td>\n",
       "      <td>1</td>\n",
       "      <td>0</td>\n",
       "      <td>0</td>\n",
       "      <td>0</td>\n",
       "    </tr>\n",
       "    <tr>\n",
       "      <th>4</th>\n",
       "      <td>8</td>\n",
       "      <td>1992</td>\n",
       "      <td>1992</td>\n",
       "      <td>0.0</td>\n",
       "      <td>1280.0</td>\n",
       "      <td>1280</td>\n",
       "      <td>1280</td>\n",
       "      <td>2</td>\n",
       "      <td>5</td>\n",
       "      <td>0</td>\n",
       "      <td>...</td>\n",
       "      <td>1</td>\n",
       "      <td>0</td>\n",
       "      <td>0</td>\n",
       "      <td>0</td>\n",
       "      <td>0</td>\n",
       "      <td>0</td>\n",
       "      <td>0</td>\n",
       "      <td>0</td>\n",
       "      <td>1</td>\n",
       "      <td>0</td>\n",
       "    </tr>\n",
       "  </tbody>\n",
       "</table>\n",
       "<p>5 rows × 91 columns</p>\n",
       "</div>"
      ],
      "text/plain": [
       "   OverallQual  YearBuilt  YearRemodAdd  MasVnrArea  TotalBsmtSF  1stFlrSF  \\\n",
       "0            5       1961          1961         0.0        882.0       896   \n",
       "1            6       1958          1958       108.0       1329.0      1329   \n",
       "2            5       1997          1998         0.0        928.0       928   \n",
       "3            6       1998          1998        20.0        926.0       926   \n",
       "4            8       1992          1992         0.0       1280.0      1280   \n",
       "\n",
       "   GrLivArea  FullBath  TotRmsAbvGrd  Fireplaces  ...  GarageType_Attchd  \\\n",
       "0        896         1             5           0  ...                  1   \n",
       "1       1329         1             6           0  ...                  1   \n",
       "2       1629         2             6           1  ...                  1   \n",
       "3       1604         2             7           1  ...                  1   \n",
       "4       1280         2             5           0  ...                  1   \n",
       "\n",
       "   GarageType_Basment  GarageType_BuiltIn GarageType_CarPort  \\\n",
       "0                   0                   0                  0   \n",
       "1                   0                   0                  0   \n",
       "2                   0                   0                  0   \n",
       "3                   0                   0                  0   \n",
       "4                   0                   0                  0   \n",
       "\n",
       "   GarageType_Detchd  GarageType_NG  GarageFinish_Fin  GarageFinish_NG  \\\n",
       "0                  0              0                 0                0   \n",
       "1                  0              0                 0                0   \n",
       "2                  0              0                 1                0   \n",
       "3                  0              0                 1                0   \n",
       "4                  0              0                 0                0   \n",
       "\n",
       "   GarageFinish_RFn  GarageFinish_Unf  \n",
       "0                 0                 1  \n",
       "1                 0                 1  \n",
       "2                 0                 0  \n",
       "3                 0                 0  \n",
       "4                 1                 0  \n",
       "\n",
       "[5 rows x 91 columns]"
      ]
     },
     "execution_count": 37,
     "metadata": {},
     "output_type": "execute_result"
    }
   ],
   "source": [
    "# checking test after getting dummies\n",
    "\n",
    "test.head()"
   ]
  },
  {
   "cell_type": "code",
   "execution_count": 38,
   "id": "947cd61a",
   "metadata": {},
   "outputs": [],
   "source": [
    "# dropping column we made for separating after making dummies\n",
    "\n",
    "train.drop(columns=[\"source\"], axis=1, inplace=True)\n",
    "test.drop(columns=[\"source\"], axis=1, inplace=True)"
   ]
  },
  {
   "cell_type": "code",
   "execution_count": 39,
   "id": "3eb1345e",
   "metadata": {},
   "outputs": [],
   "source": [
    "test.drop(columns=[\"SalePrice\"], axis=1, inplace=True)"
   ]
  },
  {
   "cell_type": "code",
   "execution_count": 40,
   "id": "1e8b85ff",
   "metadata": {},
   "outputs": [
    {
     "name": "stdout",
     "output_type": "stream",
     "text": [
      "Shape of train set: (1453, 90)\n",
      "Shape of test set: (1459, 89)\n"
     ]
    }
   ],
   "source": [
    "print(f\"Shape of train set: {train.shape}\")\n",
    "print(f\"Shape of test set: {test.shape}\")"
   ]
  },
  {
   "cell_type": "markdown",
   "id": "ea0cdca1",
   "metadata": {},
   "source": [
    "# Training various models"
   ]
  },
  {
   "cell_type": "markdown",
   "id": "6593a86f",
   "metadata": {},
   "source": [
    "Now that we have finished with data preparation, we will start training different models. Starting with linear regression, then lasso, ridge, random forest and finally xgboost. We will fit the models to data, export result as a csv and upload it to kaggle to get the RMSE score. Our goal was to be in the top 50%, so our RMSE needs to be at least 0,145."
   ]
  },
  {
   "cell_type": "code",
   "execution_count": 41,
   "id": "d5afc1d0",
   "metadata": {},
   "outputs": [],
   "source": [
    "#code to export submissions as CSV\n",
    "def tocsv(filename, y_pred):\n",
    "    prob = pd.DataFrame(y_pred)\n",
    "    prob[\"Id\"] = np.arange(len(X_train)+8, len(X_train)+len(y_pred)+8)\n",
    "    prob.columns=[\"SalePrice\", \"Id\"]\n",
    "    prob=prob.reindex(columns=[\"Id\", \"SalePrice\"])\n",
    "    prob.to_csv(filename, index=False)"
   ]
  },
  {
   "cell_type": "markdown",
   "id": "67c034f7",
   "metadata": {},
   "source": [
    "# Linear regression"
   ]
  },
  {
   "cell_type": "code",
   "execution_count": 42,
   "id": "1e161720",
   "metadata": {},
   "outputs": [],
   "source": [
    "X_train = train.drop(columns=[\"SalePrice\"])\n",
    "y_train = train.SalePrice\n",
    "X_test=test"
   ]
  },
  {
   "cell_type": "code",
   "execution_count": 43,
   "id": "ba254a5f",
   "metadata": {},
   "outputs": [],
   "source": [
    "# importing necessary libraries\n",
    "from sklearn.linear_model import LinearRegression\n",
    "from sklearn.metrics import mean_squared_log_error\n",
    "from sklearn.metrics import mean_squared_error"
   ]
  },
  {
   "cell_type": "code",
   "execution_count": 44,
   "id": "aa818f9b",
   "metadata": {},
   "outputs": [],
   "source": [
    "model = LinearRegression().fit(X_train, y_train)\n",
    "y_predict = model.predict(X_test)\n",
    "tocsv(\"linearregressionfirst.csv\",y_predict)"
   ]
  },
  {
   "cell_type": "markdown",
   "id": "1ba452ce",
   "metadata": {},
   "source": [
    "Kaggle RMSE score: 0.16796"
   ]
  },
  {
   "cell_type": "markdown",
   "id": "c53f652a",
   "metadata": {},
   "source": [
    "# Lasso"
   ]
  },
  {
   "cell_type": "code",
   "execution_count": 45,
   "id": "5b24b67d",
   "metadata": {},
   "outputs": [],
   "source": [
    "# importing necessary libraries\n",
    "\n",
    "from sklearn.linear_model import Lasso\n",
    "from sklearn import linear_model"
   ]
  },
  {
   "cell_type": "code",
   "execution_count": 46,
   "id": "19f4ab1d",
   "metadata": {},
   "outputs": [],
   "source": [
    "lasso = linear_model.Lasso().fit(X_train, y_train)\n",
    "y_predict = lasso.predict(X_test)\n",
    "tocsv(\"lassoregression.csv\",y_predict)"
   ]
  },
  {
   "cell_type": "markdown",
   "id": "fa3dce98",
   "metadata": {},
   "source": [
    "Kaggle RMSE score: 0.16794"
   ]
  },
  {
   "cell_type": "markdown",
   "id": "d9be0db1",
   "metadata": {},
   "source": [
    "# Ridge"
   ]
  },
  {
   "cell_type": "code",
   "execution_count": 47,
   "id": "2f3cde3b",
   "metadata": {},
   "outputs": [],
   "source": [
    "# importing necessary libraries\n",
    "\n",
    "from sklearn.linear_model import Ridge"
   ]
  },
  {
   "cell_type": "code",
   "execution_count": 48,
   "id": "95150dd5",
   "metadata": {},
   "outputs": [],
   "source": [
    "ridge = linear_model.Ridge().fit(X_train, y_train)\n",
    "y_predict = ridge.predict(X_test)\n",
    "tocsv(\"ridgeregression.csv\",y_predict)"
   ]
  },
  {
   "cell_type": "markdown",
   "id": "ee71b2ae",
   "metadata": {},
   "source": [
    "Kaggle RMSE score: 0.16775"
   ]
  },
  {
   "cell_type": "markdown",
   "id": "68c5ef55",
   "metadata": {},
   "source": [
    "# Cross-validation\n",
    "\n",
    "No improvement in results so trying cross-validation on training dataset to find better regularization parameter alpha for Ridge and Lasso regression models."
   ]
  },
  {
   "cell_type": "code",
   "execution_count": 49,
   "id": "7cbc278c",
   "metadata": {},
   "outputs": [],
   "source": [
    "# importing necessary libraries\n",
    "\n",
    "from sklearn.model_selection import cross_validate\n",
    "from sklearn.model_selection import KFold"
   ]
  },
  {
   "cell_type": "code",
   "execution_count": 50,
   "id": "f1360642",
   "metadata": {},
   "outputs": [],
   "source": [
    "def get_best_alpha(model,X,y,alphas):\n",
    "    kf = KFold(n_splits=3, shuffle=False) #kernel crashed, removed random state\n",
    "    results = []\n",
    "    for alpha in alphas:\n",
    "        model.set_params(alpha=alpha)\n",
    "        for train_indexes, test_indexes in kf.split(X):\n",
    "            X_test, X_val = X.values[train_indexes], X.values[test_indexes]\n",
    "            y_test, y_val = y.values[train_indexes], y.values[test_indexes]\n",
    "\n",
    "            model.fit(X_test, y_test)\n",
    "            mse = mean_squared_error(y_val,model.predict(X_val))\n",
    "            results.append((alpha, mse))\n",
    "   \n",
    "\n",
    "    best_alpha, mse = sorted(results, key=lambda x: x[1])[0]\n",
    "    return best_alpha, mse"
   ]
  },
  {
   "cell_type": "code",
   "execution_count": 51,
   "id": "5a4d7fa8",
   "metadata": {},
   "outputs": [
    {
     "name": "stdout",
     "output_type": "stream",
     "text": [
      "Ridge best alpha 3.5000 - Avg MSE 670616299.0539 \n",
      "Lasso best alpha 5.0000 - Avg MSE 676092847.9939 \n"
     ]
    }
   ],
   "source": [
    "ridge_alphas = np.linspace(0.1, 10, 100)\n",
    "lasso_alphas = np.linspace(0.001, 5, 100)\n",
    "\n",
    "print(\"Ridge best alpha %.4f - Avg MSE %.4f \" % get_best_alpha(Ridge(), X_train, y_train, ridge_alphas))\n",
    "print(\"Lasso best alpha %.4f - Avg MSE %.4f \" % get_best_alpha(Lasso(), X_train, y_train, lasso_alphas))"
   ]
  },
  {
   "cell_type": "code",
   "execution_count": 52,
   "id": "e275fa3a",
   "metadata": {},
   "outputs": [],
   "source": [
    "ridgealpha = linear_model.Ridge(alpha=3.5).fit(X_train, y_train)\n",
    "y_predict = ridgealpha.predict(X_test)\n",
    "tocsv(\"ridgealpha.csv\",y_predict)\n"
   ]
  },
  {
   "cell_type": "markdown",
   "id": "8600204d",
   "metadata": {},
   "source": [
    "Kaggle RMSE score: 0.16804"
   ]
  },
  {
   "cell_type": "code",
   "execution_count": 53,
   "id": "e2cced34",
   "metadata": {},
   "outputs": [],
   "source": [
    "lassoalpha = linear_model.Lasso(alpha=5).fit(X_train, y_train)\n",
    "y_predict = lassoalpha.predict(X_test)\n",
    "tocsv(\"lassoalpha.csv\",y_predict)"
   ]
  },
  {
   "cell_type": "markdown",
   "id": "9d8fb369",
   "metadata": {},
   "source": [
    "Kaggle RMSE score:0.16820"
   ]
  },
  {
   "cell_type": "markdown",
   "id": "23655fbb",
   "metadata": {},
   "source": [
    "Small improvement, but still no where close to a result that will be in the top 50%."
   ]
  },
  {
   "cell_type": "markdown",
   "id": "e6c0f177",
   "metadata": {},
   "source": [
    "# Random forest regressor"
   ]
  },
  {
   "cell_type": "code",
   "execution_count": 54,
   "id": "8d969a67",
   "metadata": {},
   "outputs": [],
   "source": [
    "# importing necessary libraries\n",
    "\n",
    "from sklearn.ensemble import RandomForestRegressor"
   ]
  },
  {
   "cell_type": "code",
   "execution_count": 55,
   "id": "7c24ab0e",
   "metadata": {},
   "outputs": [],
   "source": [
    "rf = RandomForestRegressor()\n",
    "rf.fit(X_train, y_train)\n",
    "y_predict = rf.predict(X_test)\n",
    "tocsv(\"randomforestfirst.csv\",y_predict)"
   ]
  },
  {
   "cell_type": "markdown",
   "id": "e9b6167d",
   "metadata": {},
   "source": [
    "Kaggle RMSE score: 0.15476"
   ]
  },
  {
   "cell_type": "markdown",
   "id": "b792d0ce",
   "metadata": {},
   "source": [
    "Improvement compared to linear, lasso and ridge regression.\n",
    "\n",
    "# Hyperparameter tuning for Random Forest \n",
    "\n",
    "__[source](https://github.com/WillKoehrsen/Machine-Learning-Projects/blob/master/random_forest_explained/Improving%20Random%20Forest%20Part%202.ipynb)__"
   ]
  },
  {
   "cell_type": "code",
   "execution_count": 56,
   "id": "6b996386",
   "metadata": {},
   "outputs": [
    {
     "name": "stdout",
     "output_type": "stream",
     "text": [
      "Parameters currently in use:\n",
      "\n",
      "{'bootstrap': True,\n",
      " 'ccp_alpha': 0.0,\n",
      " 'criterion': 'mse',\n",
      " 'max_depth': None,\n",
      " 'max_features': 'auto',\n",
      " 'max_leaf_nodes': None,\n",
      " 'max_samples': None,\n",
      " 'min_impurity_decrease': 0.0,\n",
      " 'min_impurity_split': None,\n",
      " 'min_samples_leaf': 1,\n",
      " 'min_samples_split': 2,\n",
      " 'min_weight_fraction_leaf': 0.0,\n",
      " 'n_estimators': 100,\n",
      " 'n_jobs': None,\n",
      " 'oob_score': False,\n",
      " 'random_state': None,\n",
      " 'verbose': 0,\n",
      " 'warm_start': False}\n"
     ]
    }
   ],
   "source": [
    "#parameters currently in use\n",
    "\n",
    "from pprint import pprint\n",
    "print('Parameters currently in use:\\n')\n",
    "pprint(rf.get_params())"
   ]
  },
  {
   "cell_type": "code",
   "execution_count": 57,
   "id": "900fbe41",
   "metadata": {},
   "outputs": [
    {
     "name": "stdout",
     "output_type": "stream",
     "text": [
      "{'bootstrap': [True, False],\n",
      " 'max_depth': [10, 20, 30, 40, 50, 60, 70, 80, 90, 100, 110, None],\n",
      " 'max_features': ['auto', 'sqrt'],\n",
      " 'min_samples_leaf': [1, 2, 4],\n",
      " 'min_samples_split': [2, 5, 10],\n",
      " 'n_estimators': [200, 400, 600, 800, 1000, 1200, 1400, 1600, 1800, 2000]}\n"
     ]
    }
   ],
   "source": [
    "# Random Search with Cross Validation\n",
    "\n",
    "from sklearn.model_selection import RandomizedSearchCV\n",
    "\n",
    "n_estimators = [int(x) for x in np.linspace(start = 200, stop = 2000, num = 10)]\n",
    "\n",
    "# Number of features to consider at every split\n",
    "max_features = ['auto', 'sqrt']\n",
    "\n",
    "# Maximum number of levels in tree\n",
    "max_depth = [int(x) for x in np.linspace(10, 110, num = 11)]\n",
    "max_depth.append(None)\n",
    "\n",
    "# Minimum number of samples required to split a node\n",
    "min_samples_split = [2, 5, 10]\n",
    "\n",
    "# Minimum number of samples required at each leaf node\n",
    "min_samples_leaf = [1, 2, 4]\n",
    "\n",
    "# Method of selecting samples for training each tree\n",
    "bootstrap = [True, False]\n",
    "\n",
    "# Create the random grid\n",
    "random_grid = {'n_estimators': n_estimators,\n",
    "               'max_features': max_features,\n",
    "               'max_depth': max_depth,\n",
    "               'min_samples_split': min_samples_split,\n",
    "               'min_samples_leaf': min_samples_leaf,\n",
    "               'bootstrap': bootstrap}\n",
    "\n",
    "pprint(random_grid)"
   ]
  },
  {
   "cell_type": "code",
   "execution_count": 58,
   "id": "62c860e0",
   "metadata": {},
   "outputs": [],
   "source": [
    "# Use the random grid to search for best hyperparameters\n",
    "# First create the base model to tune\n",
    "\n",
    "rf = RandomForestRegressor(random_state = 42)\n",
    "\n",
    "# Random search of parameters, using 3 fold cross validation, \n",
    "# search across 100 different combinations, and use all available cores\n",
    "\n",
    "rf_random = RandomizedSearchCV(estimator=rf, param_distributions=random_grid,\n",
    "                              n_iter = 100, scoring='neg_mean_absolute_error', \n",
    "                              cv = 3, verbose=2, random_state=42, n_jobs=-1,\n",
    "                              return_train_score=True)\n",
    "\n",
    "# Fit the random search model\n",
    "\n",
    "#rf_random.fit(features, labels); (commented, because it takes 15-20 minutes to run)"
   ]
  },
  {
   "cell_type": "code",
   "execution_count": 60,
   "id": "d4e2cc84",
   "metadata": {},
   "outputs": [
    {
     "ename": "AttributeError",
     "evalue": "'RandomizedSearchCV' object has no attribute 'best_params_'",
     "output_type": "error",
     "traceback": [
      "\u001b[1;31m---------------------------------------------------------------------------\u001b[0m",
      "\u001b[1;31mAttributeError\u001b[0m                            Traceback (most recent call last)",
      "\u001b[1;32m<ipython-input-60-0ddba6e365e1>\u001b[0m in \u001b[0;36m<module>\u001b[1;34m\u001b[0m\n\u001b[1;32m----> 1\u001b[1;33m \u001b[0mrf_random\u001b[0m\u001b[1;33m.\u001b[0m\u001b[0mbest_params_\u001b[0m \u001b[1;31m#error because rf_random.fit() is commented\u001b[0m\u001b[1;33m\u001b[0m\u001b[1;33m\u001b[0m\u001b[0m\n\u001b[0m",
      "\u001b[1;31mAttributeError\u001b[0m: 'RandomizedSearchCV' object has no attribute 'best_params_'"
     ]
    }
   ],
   "source": [
    "rf_random.best_params_ #error because rf_random.fit() is commented"
   ]
  },
  {
   "cell_type": "code",
   "execution_count": 61,
   "id": "38ea9a0e",
   "metadata": {},
   "outputs": [],
   "source": [
    "# Using GridSearch around the best values returned by random search.\n",
    "\n",
    "from sklearn.model_selection import GridSearchCV\n",
    "\n",
    "# Create the parameter grid based on the results of random search \n",
    "param_grid = {\n",
    "    'bootstrap': [False],\n",
    "    'max_depth': [None],\n",
    "    'max_features': [2, 4, 6],\n",
    "    'min_samples_leaf': [1, 2, 3],\n",
    "    'min_samples_split': [2, 3, 4],\n",
    "    'n_estimators': [100, 200, 300, 1000]\n",
    "}\n",
    "\n",
    "# Create a base model\n",
    "rf = RandomForestRegressor(random_state = 42)\n",
    "\n",
    "# Instantiate the grid search model\n",
    "grid_search = GridSearchCV(estimator = rf, param_grid = param_grid, \n",
    "                          cv = 3, n_jobs = -1, verbose = 2, return_train_score=True)"
   ]
  },
  {
   "cell_type": "code",
   "execution_count": 62,
   "id": "e2248451",
   "metadata": {},
   "outputs": [],
   "source": [
    "#grid_search.fit(features, labels); (commented, because it takes 5 minutes to run)"
   ]
  },
  {
   "cell_type": "code",
   "execution_count": 63,
   "id": "06035a32",
   "metadata": {
    "scrolled": true
   },
   "outputs": [
    {
     "ename": "AttributeError",
     "evalue": "'GridSearchCV' object has no attribute 'best_params_'",
     "output_type": "error",
     "traceback": [
      "\u001b[1;31m---------------------------------------------------------------------------\u001b[0m",
      "\u001b[1;31mAttributeError\u001b[0m                            Traceback (most recent call last)",
      "\u001b[1;32m<ipython-input-63-8c4c59068dc4>\u001b[0m in \u001b[0;36m<module>\u001b[1;34m\u001b[0m\n\u001b[1;32m----> 1\u001b[1;33m \u001b[0mgrid_search\u001b[0m\u001b[1;33m.\u001b[0m\u001b[0mbest_params_\u001b[0m \u001b[1;31m#error becaue grid_search.fit() is commented\u001b[0m\u001b[1;33m\u001b[0m\u001b[1;33m\u001b[0m\u001b[0m\n\u001b[0m",
      "\u001b[1;31mAttributeError\u001b[0m: 'GridSearchCV' object has no attribute 'best_params_'"
     ]
    }
   ],
   "source": [
    "grid_search.best_params_ #error becaue grid_search.fit() is commented"
   ]
  },
  {
   "cell_type": "code",
   "execution_count": 64,
   "id": "0499e444",
   "metadata": {},
   "outputs": [],
   "source": [
    "# applying best parameters to RandomForestRegressor\n",
    "rfrhyper = RandomForestRegressor(max_depth=50, max_features=6, min_samples_leaf=1, min_samples_split=4, bootstrap=False, n_estimators =1600)\n",
    "rfrhyper.fit(X_train, y_train)\n",
    "y_predict = rfrhyper.predict(X_test)\n",
    "tocsv(\"randomforesthyper.csv\",y_predict)"
   ]
  },
  {
   "cell_type": "markdown",
   "id": "0e4f4faf",
   "metadata": {},
   "source": [
    "Kaggle RMSE score: 0.15675"
   ]
  },
  {
   "cell_type": "markdown",
   "id": "6e6470ee",
   "metadata": {},
   "source": [
    "## HAVE TO WRITE SOME KINDA RESULT"
   ]
  },
  {
   "cell_type": "markdown",
   "id": "3ed1ccbc",
   "metadata": {},
   "source": [
    "# XGBoost"
   ]
  },
  {
   "cell_type": "code",
   "execution_count": 65,
   "id": "20187d4b",
   "metadata": {},
   "outputs": [
    {
     "name": "stdout",
     "output_type": "stream",
     "text": [
      "Note: you may need to restart the kernel to use updated packages.\n"
     ]
    },
    {
     "name": "stderr",
     "output_type": "stream",
     "text": [
      "ERROR: Could not find a version that satisfies the requirement py-xgboost\n",
      "ERROR: No matching distribution found for py-xgboost\n"
     ]
    }
   ],
   "source": [
    "pip install py-xgboost"
   ]
  },
  {
   "cell_type": "code",
   "execution_count": 66,
   "id": "dc92668c",
   "metadata": {},
   "outputs": [
    {
     "data": {
      "image/png": "[encoded data removed]",
      "text/plain": [
       "<Figure size 864x504 with 1 Axes>"
      ]
     },
     "metadata": {
      "needs_background": "light"
     },
     "output_type": "display_data"
    }
   ],
   "source": [
    "# we have a positive skew, must fix\n",
    "\n",
    "plt.figure(figsize=(12, 7))\n",
    "\n",
    "sns.distplot(train['SalePrice']).set(ylabel=None, xlabel=None)\n",
    "plt.title('House price distribution histogram', fontsize=18)\n",
    "plt.show()"
   ]
  },
  {
   "cell_type": "code",
   "execution_count": 67,
   "id": "6a7bba8d",
   "metadata": {},
   "outputs": [
    {
     "data": {
      "image/png": "[encoded data removed]",
      "text/plain": [
       "<Figure size 864x504 with 1 Axes>"
      ]
     },
     "metadata": {
      "needs_background": "light"
     },
     "output_type": "display_data"
    }
   ],
   "source": [
    "train['SalePrice'] = np.log1p(train['SalePrice'])\n",
    "plt.figure(figsize=(12, 7))\n",
    "\n",
    "sns.distplot(train['SalePrice'])\n",
    "plt.title('House price distribution histogram after fix', fontsize=18)\n",
    "plt.show()"
   ]
  },
  {
   "cell_type": "code",
   "execution_count": 68,
   "id": "52958e5a-096e-49f5-9b8c-e4719f9e5323",
   "metadata": {},
   "outputs": [],
   "source": [
    "from xgboost.sklearn import XGBRegressor"
   ]
  },
  {
   "cell_type": "code",
   "execution_count": 69,
   "id": "f991457d",
   "metadata": {
    "scrolled": true
   },
   "outputs": [
    {
     "name": "stdout",
     "output_type": "stream",
     "text": [
      "[11:13:10] WARNING: c:\\ci\\xgboost-split_1638290375667\\work\\src\\objective\\regression_obj.cu:188: reg:linear is now deprecated in favor of reg:squarederror.\n"
     ]
    }
   ],
   "source": [
    "from xgboost.sklearn import XGBRegressor\n",
    "\n",
    "\n",
    "xgboost = XGBRegressor(learning_rate=0.01,n_estimators=3460,\n",
    "                                     max_depth=3, min_child_weight=0,\n",
    "                                     gamma=0, subsample=0.7,\n",
    "                                     colsample_bytree=0.7,\n",
    "                                     objective='reg:linear', nthread=-1,\n",
    "                                     scale_pos_weight=1, seed=27,\n",
    "                                     reg_alpha=0.00006)\n",
    "\n",
    "xgboost.fit(X_train,y_train)\n",
    "y_predict = xgboost.predict(X_test)\n",
    "tocsv(\"xgboost.csv\",y_predict) #test in Kaggle and get score\n"
   ]
  },
  {
   "cell_type": "markdown",
   "id": "0ac81b04",
   "metadata": {},
   "source": [
    "Kaggle RMSE score: 0.145"
   ]
  },
  {
   "cell_type": "markdown",
   "id": "b6db6dcc",
   "metadata": {},
   "source": [
    "With this result, we achieved our goal and got into the top 50% of submissions in Kaggle."
   ]
  }
 ],
 "metadata": {
  "kernelspec": {
   "display_name": "Python 3",
   "language": "python",
   "name": "python3"
  },
  "language_info": {
   "codemirror_mode": {
    "name": "ipython",
    "version": 3
   },
   "file_extension": ".py",
   "mimetype": "text/x-python",
   "name": "python",
   "nbconvert_exporter": "python",
   "pygments_lexer": "ipython3",
   "version": "3.8.8"
  }
 },
 "nbformat": 4,
 "nbformat_minor": 5
}
