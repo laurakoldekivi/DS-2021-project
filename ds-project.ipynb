{
 "cells": [
  {
   "cell_type": "markdown",
   "id": "947b24a3",
   "metadata": {},
   "source": [
    "importing both datasets"
   ]
  },
  {
   "cell_type": "code",
   "execution_count": 1,
   "id": "e91d1437",
   "metadata": {},
   "outputs": [],
   "source": [
    "import pandas as pd\n",
    "\n",
    "test_df = pd.read_csv(\"test.csv\")\n",
    "train_df = pd.read_csv(\"train.csv\")"
   ]
  },
  {
   "cell_type": "markdown",
   "id": "83846096",
   "metadata": {},
   "source": []
  },
  {
   "cell_type": "code",
   "execution_count": 2,
   "id": "e0f6513e",
   "metadata": {},
   "outputs": [
    {
     "data": {
      "text/plain": [
       "Id                 0\n",
       "MSSubClass         0\n",
       "MSZoning           4\n",
       "LotFrontage      227\n",
       "LotArea            0\n",
       "                ... \n",
       "MiscVal            0\n",
       "MoSold             0\n",
       "YrSold             0\n",
       "SaleType           1\n",
       "SaleCondition      0\n",
       "Length: 80, dtype: int64"
      ]
     },
     "execution_count": 2,
     "metadata": {},
     "output_type": "execute_result"
    }
   ],
   "source": [
    "test_df.isnull().sum()"
   ]
  },
  {
   "cell_type": "code",
   "execution_count": 3,
   "id": "d683b914",
   "metadata": {},
   "outputs": [
    {
     "name": "stdout",
     "output_type": "stream",
     "text": [
      "LotFrontage has 259 null values\n",
      "Alley has 1369 null values\n",
      "MasVnrType has 8 null values\n",
      "MasVnrArea has 8 null values\n",
      "BsmtQual has 37 null values\n",
      "BsmtCond has 37 null values\n",
      "BsmtExposure has 38 null values\n",
      "BsmtFinType1 has 37 null values\n",
      "BsmtFinType2 has 38 null values\n",
      "Electrical has 1 null values\n",
      "FireplaceQu has 690 null values\n",
      "GarageType has 81 null values\n",
      "GarageYrBlt has 81 null values\n",
      "GarageFinish has 81 null values\n",
      "GarageQual has 81 null values\n",
      "GarageCond has 81 null values\n",
      "PoolQC has 1453 null values\n",
      "Fence has 1179 null values\n",
      "MiscFeature has 1406 null values\n"
     ]
    }
   ],
   "source": [
    "for column in train_df:\n",
    "    if train_df[column].isnull().any():\n",
    "       print('{0} has {1} null values'.format(column, train_df[column].isnull().sum()))"
   ]
  },
  {
   "cell_type": "code",
   "execution_count": 4,
   "id": "c80ea194",
   "metadata": {},
   "outputs": [],
   "source": [
    "train_df['LotFrontage'].fillna((train_df['LotFrontage'].median()), inplace=True)\n",
    "train_df['Alley'].fillna(\"NA\", inplace=True)\n",
    "train_df['MasVnrType'].fillna(\"None\", inplace=True)\n",
    "train_df['MasVnrArea'].fillna((train_df['MasVnrArea'].median()), inplace=True)\n",
    "\n",
    "train_df['BsmtQual'].fillna(\"NB\", inplace=True)\n",
    "train_df['BsmtCond'].fillna(\"NB\", inplace=True)\n",
    "train_df['BsmtExposure'].fillna(\"NB\", inplace=True)\n",
    "train_df['BsmtFinType1'].fillna(\"NB\", inplace=True)\n",
    "train_df['BsmtFinType2'].fillna(\"NB\", inplace=True)\n",
    "\n",
    "train_df['FireplaceQu'].fillna(\"NF\", inplace=True)\n",
    "\n",
    "train_df['GarageType'].fillna(\"NG\", inplace=True)\n",
    "train_df['GarageYrBlt'].fillna((train_df['MasVnrArea'].mean()), inplace=True) #to not make a big chamge in variance\n",
    "train_df['GarageFinish'].fillna(\"NG\", inplace=True)\n",
    "train_df['GarageQual'].fillna(\"NG\", inplace=True)\n",
    "train_df['GarageCond'].fillna(\"NG\", inplace=True)\n",
    "\n",
    "train_df['PoolQC'].fillna(\"NB\", inplace=True)\n",
    "train_df['Fence'].fillna(\"NF\", inplace=True)\n",
    "train_df['MiscFeature'].fillna(\"NM\", inplace=True)"
   ]
  },
  {
   "cell_type": "code",
   "execution_count": 5,
   "id": "bc697993",
   "metadata": {},
   "outputs": [
    {
     "data": {
      "text/plain": [
       "Id               0\n",
       "MSSubClass       0\n",
       "MSZoning         0\n",
       "LotFrontage      0\n",
       "LotArea          0\n",
       "                ..\n",
       "MoSold           0\n",
       "YrSold           0\n",
       "SaleType         0\n",
       "SaleCondition    0\n",
       "SalePrice        0\n",
       "Length: 81, dtype: int64"
      ]
     },
     "execution_count": 5,
     "metadata": {},
     "output_type": "execute_result"
    }
   ],
   "source": [
    "train_df.isnull().sum()"
   ]
  },
  {
   "cell_type": "code",
   "execution_count": 6,
   "id": "5a62dee9",
   "metadata": {},
   "outputs": [],
   "source": [
    "test_df['LotFrontage'].fillna((test_df['LotFrontage'].median()), inplace=True)\n",
    "test_df['Alley'].fillna(\"NA\", inplace=True)\n",
    "test_df['MasVnrType'].fillna(\"None\", inplace=True)\n",
    "test_df['MasVnrArea'].fillna((test_df['MasVnrArea'].median()), inplace=True)\n",
    "test_df['MSZoning'].fillna(\"RL\", inplace=True)\n",
    "test_df['Utilities'].fillna(\"AllPub\", inplace=True)\n",
    "\n",
    "test_df['BsmtQual'].fillna(\"NB\", inplace=True)\n",
    "test_df['BsmtCond'].fillna(\"NB\", inplace=True)\n",
    "test_df['BsmtExposure'].fillna(\"NB\", inplace=True)\n",
    "test_df['BsmtFinType1'].fillna(\"NB\", inplace=True)\n",
    "test_df['BsmtFinType2'].fillna(\"NB\", inplace=True)\n",
    "test_df['GarageYrBlt'].fillna((test_df['MasVnrArea'].mean()), inplace=True)\n",
    "\n",
    "test_df['BsmtFinSF1'].fillna((test_df['BsmtFinSF1'].mean()), inplace=True)\n",
    "test_df['BsmtFinSF2'].fillna((test_df['BsmtFinSF2'].mean()), inplace=True)\n",
    "test_df['BsmtUnfSF'].fillna((test_df['BsmtUnfSF'].mean()), inplace=True)\n",
    "test_df['TotalBsmtSF'].fillna((test_df['TotalBsmtSF'].mean()), inplace=True)\n",
    "\n",
    "test_df['BsmtFullBath'].fillna(0, inplace=True)\n",
    "test_df['BsmtHalfBath'].fillna(0, inplace=True)\n",
    "\n",
    "test_df['KitchenQual'].fillna(\"TA\", inplace=True)\n",
    "\n",
    "test_df['Functional'].fillna(\"Typ\", inplace=True)\n",
    "\n",
    "test_df['GarageCars'].fillna(2, inplace=True)\n",
    "test_df['GarageArea'].fillna((test_df['GarageArea'].mean()), inplace=True)\n",
    "\n",
    "test_df['SaleType'].fillna(\"WD\", inplace=True)\n",
    "\n",
    "test_df['Exterior1st'].fillna(\"VinylSd\", inplace=True)\n",
    "test_df['Exterior2nd'].fillna(\"VinylSd\", inplace=True)\n",
    "\n",
    "test_df['FireplaceQu'].fillna(\"NF\", inplace=True)\n",
    "\n",
    "test_df['GarageType'].fillna(\"NG\", inplace=True)\n",
    "test_df['GarageYrBlt'].fillna((test_df['GarageYrBlt'].mean()), inplace=True) #to not make a big chamge in variance\n",
    "test_df['GarageFinish'].fillna(\"NG\", inplace=True)\n",
    "test_df['GarageQual'].fillna(\"NG\", inplace=True)\n",
    "test_df['GarageCond'].fillna(\"NG\", inplace=True)\n",
    "\n",
    "test_df['PoolQC'].fillna(\"NB\", inplace=True)\n",
    "test_df['Fence'].fillna(\"NF\", inplace=True)\n",
    "test_df['MiscFeature'].fillna(\"NM\", inplace=True)"
   ]
  },
  {
   "cell_type": "code",
   "execution_count": 10,
   "id": "b59edf57",
   "metadata": {
    "scrolled": true
   },
   "outputs": [],
   "source": [
    "for column in test_df:\n",
    "    if test_df[column].isnull().any():\n",
    "       print('{0} has {1} null values'.format(column, test_df[column].isnull().sum()))"
   ]
  },
  {
   "cell_type": "code",
   "execution_count": 12,
   "id": "423284e5",
   "metadata": {},
   "outputs": [
    {
     "data": {
      "text/plain": [
       "Id               0\n",
       "MSSubClass       0\n",
       "MSZoning         0\n",
       "LotFrontage      0\n",
       "LotArea          0\n",
       "                ..\n",
       "MiscVal          0\n",
       "MoSold           0\n",
       "YrSold           0\n",
       "SaleType         0\n",
       "SaleCondition    0\n",
       "Length: 80, dtype: int64"
      ]
     },
     "execution_count": 12,
     "metadata": {},
     "output_type": "execute_result"
    }
   ],
   "source": [
    "test_df['MSZoning'].value_counts()\n",
    "test_df['Utilities'].value_counts()\n",
    "test_df['Exterior1st'].value_counts()\n",
    "test_df['Exterior2nd'].value_counts()\n",
    "test_df['BsmtFullBath'].value_counts()\n",
    "test_df['BsmtHalfBath'].value_counts()\n",
    "test_df['KitchenQual'].value_counts()\n",
    "test_df['Functional'].value_counts()\n",
    "test_df['GarageCars'].value_counts()\n",
    "test_df['SaleType'].value_counts()"
   ]
  },
  {
   "cell_type": "code",
   "execution_count": null,
   "id": "80e7a1ee",
   "metadata": {},
   "outputs": [],
   "source": []
  }
 ],
 "metadata": {
  "kernelspec": {
   "display_name": "Python 3",
   "language": "python",
   "name": "python3"
  },
  "language_info": {
   "codemirror_mode": {
    "name": "ipython",
    "version": 3
   },
   "file_extension": ".py",
   "mimetype": "text/x-python",
   "name": "python",
   "nbconvert_exporter": "python",
   "pygments_lexer": "ipython3",
   "version": "3.8.8"
  }
 },
 "nbformat": 4,
 "nbformat_minor": 5
}
